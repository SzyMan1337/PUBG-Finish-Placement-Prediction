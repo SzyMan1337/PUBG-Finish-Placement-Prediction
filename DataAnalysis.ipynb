{
 "cells": [
  {
   "cell_type": "markdown",
   "metadata": {
    "id": "AGNGpt01rlck",
    "tags": []
   },
   "source": [
    "# PUBG Finish Placement Prediction"
   ]
  },
  {
   "cell_type": "code",
   "execution_count": null,
   "metadata": {
    "execution": {
     "iopub.execute_input": "2022-04-26T17:08:10.482839Z",
     "iopub.status.busy": "2022-04-26T17:08:10.482592Z",
     "iopub.status.idle": "2022-04-26T17:08:12.037824Z",
     "shell.execute_reply": "2022-04-26T17:08:12.037228Z",
     "shell.execute_reply.started": "2022-04-26T17:08:10.482754Z"
    },
    "id": "JEDNBAEJ52V_",
    "tags": []
   },
   "outputs": [],
   "source": [
    "# Imports\n",
    "import sys\n",
    "import pandas as pd\n",
    "import numpy as np\n",
    "import matplotlib.pyplot as plt\n",
    "import seaborn as sns\n",
    "import random\n",
    "import gc\n",
    "\n",
    "random.seed(16)"
   ]
  },
  {
   "cell_type": "code",
   "execution_count": null,
   "metadata": {
    "execution": {
     "iopub.execute_input": "2022-04-26T17:08:12.039442Z",
     "iopub.status.busy": "2022-04-26T17:08:12.039079Z",
     "iopub.status.idle": "2022-04-26T17:08:25.816688Z",
     "shell.execute_reply": "2022-04-26T17:08:25.816129Z",
     "shell.execute_reply.started": "2022-04-26T17:08:12.039418Z"
    },
    "id": "cxuDrKLEA9-8",
    "tags": []
   },
   "outputs": [],
   "source": [
    "# Read data to dataframe\n",
    "df = pd.read_csv(\"data/train_V2.csv\")\n",
    "df_types = pd.read_csv(\"data/types.csv\")"
   ]
  },
  {
   "cell_type": "code",
   "execution_count": null,
   "metadata": {
    "execution": {
     "iopub.execute_input": "2022-04-26T17:08:25.817727Z",
     "iopub.status.busy": "2022-04-26T17:08:25.817546Z",
     "iopub.status.idle": "2022-04-26T17:08:25.821407Z",
     "shell.execute_reply": "2022-04-26T17:08:25.820817Z",
     "shell.execute_reply.started": "2022-04-26T17:08:25.817707Z"
    },
    "id": "9y99H8qXfSYD",
    "tags": []
   },
   "outputs": [],
   "source": [
    "# Initial settings\n",
    "pd.set_option('display.max_rows',500)\n",
    "pd.set_option('display.max_columns',500)\n",
    "pd.set_option('display.width',2000)\n",
    "\n",
    "plt.rcParams['figure.dpi'] = 100"
   ]
  },
  {
   "cell_type": "code",
   "execution_count": null,
   "metadata": {
    "execution": {
     "iopub.execute_input": "2022-04-26T17:08:25.822756Z",
     "iopub.status.busy": "2022-04-26T17:08:25.822540Z",
     "iopub.status.idle": "2022-04-26T17:08:25.829886Z",
     "shell.execute_reply": "2022-04-26T17:08:25.829344Z",
     "shell.execute_reply.started": "2022-04-26T17:08:25.822734Z"
    },
    "tags": []
   },
   "outputs": [
    {
     "data": {
      "text/html": [
       "\n",
       "<style>\n",
       ".output_png {\n",
       "    display: table-cell;\n",
       "    text-align: center;\n",
       "    vertical-align: middle;\n",
       "}\n",
       "</style>\n"
      ],
      "text/plain": [
       "<IPython.core.display.HTML object>"
      ]
     },
     "execution_count": 4,
     "metadata": {},
     "output_type": "execute_result"
    }
   ],
   "source": [
    "#center figures\n",
    "from IPython.core.display import HTML\n",
    "HTML(\"\"\"\n",
    "<style>\n",
    ".output_png {\n",
    "    display: table-cell;\n",
    "    text-align: center;\n",
    "    vertical-align: middle;\n",
    "}\n",
    "</style>\n",
    "\"\"\")"
   ]
  },
  {
   "cell_type": "code",
   "execution_count": null,
   "metadata": {
    "execution": {
     "iopub.execute_input": "2022-04-26T17:08:25.831802Z",
     "iopub.status.busy": "2022-04-26T17:08:25.831567Z",
     "iopub.status.idle": "2022-04-26T17:08:25.839572Z",
     "shell.execute_reply": "2022-04-26T17:08:25.839022Z",
     "shell.execute_reply.started": "2022-04-26T17:08:25.831782Z"
    },
    "id": "PeKADprDeu6n",
    "tags": []
   },
   "outputs": [],
   "source": [
    "# Memory saving function credit to https://www.kaggle.com/gemartin/load-data-reduce-memory-usage\n",
    "def reduce_mem_usage(df):\n",
    "    for col in df.columns:\n",
    "        col_type = df[col].dtype\n",
    "\n",
    "        if col_type != object:\n",
    "            c_min = df[col].min()\n",
    "            c_max = df[col].max()\n",
    "            if str(col_type)[:3] == 'int':\n",
    "                if c_min > np.iinfo(np.int8).min and c_max < np.iinfo(np.int8).max:\n",
    "                    df[col] = df[col].astype(np.int8)\n",
    "                elif c_min > np.iinfo(np.int16).min and c_max < np.iinfo(np.int16).max:\n",
    "                    df[col] = df[col].astype(np.int16)\n",
    "                elif c_min > np.iinfo(np.int32).min and c_max < np.iinfo(np.int32).max:\n",
    "                    df[col] = df[col].astype(np.int32)\n",
    "                elif c_min > np.iinfo(np.int64).min and c_max < np.iinfo(np.int64).max:\n",
    "                    df[col] = df[col].astype(np.int64)  \n",
    "            else:\n",
    "                if c_min > np.finfo(np.float16).min and c_max < np.finfo(np.float16).max:\n",
    "                    df[col] = df[col].astype(np.float16)\n",
    "                elif c_min > np.finfo(np.float32).min and c_max < np.finfo(np.float32).max:\n",
    "                    df[col] = df[col].astype(np.float32)\n",
    "                else:\n",
    "                    df[col] = df[col].astype(np.float64)\n",
    "    return df"
   ]
  },
  {
   "cell_type": "code",
   "execution_count": null,
   "metadata": {
    "execution": {
     "iopub.execute_input": "2022-04-26T17:08:25.840690Z",
     "iopub.status.busy": "2022-04-26T17:08:25.840470Z",
     "iopub.status.idle": "2022-04-26T17:08:30.540162Z",
     "shell.execute_reply": "2022-04-26T17:08:30.539518Z",
     "shell.execute_reply.started": "2022-04-26T17:08:25.840667Z"
    },
    "id": "8AW3HO5qe0lB",
    "tags": []
   },
   "outputs": [
    {
     "name": "stdout",
     "output_type": "stream",
     "text": [
      "2024.0970821380615 MB\n",
      "1328.5800914764404 MB\n"
     ]
    }
   ],
   "source": [
    "# Reducing memory usage\n",
    "print(str(sys.getsizeof(df)/1024/1024) + \" MB\")\n",
    "df = reduce_mem_usage(df)\n",
    "df_types = reduce_mem_usage(df_types)\n",
    "print(str(sys.getsizeof(df)/1024/1024) + \" MB\")"
   ]
  },
  {
   "cell_type": "code",
   "execution_count": null,
   "metadata": {
    "execution": {
     "iopub.execute_input": "2022-04-26T17:08:30.541203Z",
     "iopub.status.busy": "2022-04-26T17:08:30.541037Z",
     "iopub.status.idle": "2022-04-26T17:08:30.547170Z",
     "shell.execute_reply": "2022-04-26T17:08:30.546059Z",
     "shell.execute_reply.started": "2022-04-26T17:08:30.541184Z"
    },
    "id": "SjuSvXigK-0z",
    "tags": []
   },
   "outputs": [],
   "source": [
    "# Function to split data into two sets\n",
    "# Data is grouped by \"matchId\" which means that games are not mixed up between sets.\n",
    "\n",
    "def split_into_train_test_sets(df, test_set_size=0.2):\n",
    "    match_ids = df['matchId'].unique().tolist()\n",
    "    train_size = int(len(match_ids) * (1 - test_set_size))\n",
    "    train_match_ids = random.sample(match_ids, train_size)\n",
    "\n",
    "    train = df[df['matchId'].isin(train_match_ids)]\n",
    "    test = df[-df['matchId'].isin(train_match_ids)]\n",
    "    \n",
    "    return train, test"
   ]
  },
  {
   "cell_type": "code",
   "execution_count": null,
   "metadata": {
    "execution": {
     "iopub.execute_input": "2022-04-26T17:08:30.549221Z",
     "iopub.status.busy": "2022-04-26T17:08:30.548842Z",
     "iopub.status.idle": "2022-04-26T17:08:30.553189Z",
     "shell.execute_reply": "2022-04-26T17:08:30.552671Z",
     "shell.execute_reply.started": "2022-04-26T17:08:30.549197Z"
    },
    "tags": []
   },
   "outputs": [],
   "source": [
    "defaultCols = list(df.columns)"
   ]
  },
  {
   "cell_type": "markdown",
   "metadata": {
    "tags": []
   },
   "source": [
    "## Cleaning data"
   ]
  },
  {
   "cell_type": "markdown",
   "metadata": {
    "id": "XCAjuiB9iBmm",
    "tags": []
   },
   "source": [
    "### Incorrect Match\n",
    "\n",
    "In the data set there is one row of data where the variable we are going to predict is missing. We need to drop it."
   ]
  },
  {
   "cell_type": "code",
   "execution_count": null,
   "metadata": {
    "colab": {
     "base_uri": "https://localhost:8080/",
     "height": 144
    },
    "execution": {
     "iopub.execute_input": "2022-04-26T17:08:30.554153Z",
     "iopub.status.busy": "2022-04-26T17:08:30.554000Z",
     "iopub.status.idle": "2022-04-26T17:08:33.014540Z",
     "shell.execute_reply": "2022-04-26T17:08:33.013942Z",
     "shell.execute_reply.started": "2022-04-26T17:08:30.554136Z"
    },
    "id": "pyCqScbAiAxQ",
    "outputId": "87bcc547-ebaa-4814-f6d3-a73bef4ca5a8",
    "tags": []
   },
   "outputs": [
    {
     "data": {
      "text/html": [
       "<div>\n",
       "<style scoped>\n",
       "    .dataframe tbody tr th:only-of-type {\n",
       "        vertical-align: middle;\n",
       "    }\n",
       "\n",
       "    .dataframe tbody tr th {\n",
       "        vertical-align: top;\n",
       "    }\n",
       "\n",
       "    .dataframe thead th {\n",
       "        text-align: right;\n",
       "    }\n",
       "</style>\n",
       "<table border=\"1\" class=\"dataframe\">\n",
       "  <thead>\n",
       "    <tr style=\"text-align: right;\">\n",
       "      <th></th>\n",
       "      <th>Id</th>\n",
       "      <th>groupId</th>\n",
       "      <th>matchId</th>\n",
       "      <th>assists</th>\n",
       "      <th>boosts</th>\n",
       "      <th>damageDealt</th>\n",
       "      <th>DBNOs</th>\n",
       "      <th>headshotKills</th>\n",
       "      <th>heals</th>\n",
       "      <th>killPlace</th>\n",
       "      <th>killPoints</th>\n",
       "      <th>kills</th>\n",
       "      <th>killStreaks</th>\n",
       "      <th>longestKill</th>\n",
       "      <th>matchDuration</th>\n",
       "      <th>matchType</th>\n",
       "      <th>maxPlace</th>\n",
       "      <th>numGroups</th>\n",
       "      <th>rankPoints</th>\n",
       "      <th>revives</th>\n",
       "      <th>rideDistance</th>\n",
       "      <th>roadKills</th>\n",
       "      <th>swimDistance</th>\n",
       "      <th>teamKills</th>\n",
       "      <th>vehicleDestroys</th>\n",
       "      <th>walkDistance</th>\n",
       "      <th>weaponsAcquired</th>\n",
       "      <th>winPoints</th>\n",
       "      <th>winPlacePerc</th>\n",
       "    </tr>\n",
       "  </thead>\n",
       "  <tbody>\n",
       "    <tr>\n",
       "      <th>2744604</th>\n",
       "      <td>f70c74418bb064</td>\n",
       "      <td>12dfbede33f92b</td>\n",
       "      <td>224a123c53e008</td>\n",
       "      <td>0</td>\n",
       "      <td>0</td>\n",
       "      <td>0.0</td>\n",
       "      <td>0</td>\n",
       "      <td>0</td>\n",
       "      <td>0</td>\n",
       "      <td>1</td>\n",
       "      <td>0</td>\n",
       "      <td>0</td>\n",
       "      <td>0</td>\n",
       "      <td>0.0</td>\n",
       "      <td>9</td>\n",
       "      <td>solo-fpp</td>\n",
       "      <td>1</td>\n",
       "      <td>1</td>\n",
       "      <td>1574</td>\n",
       "      <td>0</td>\n",
       "      <td>0.0</td>\n",
       "      <td>0</td>\n",
       "      <td>0.0</td>\n",
       "      <td>0</td>\n",
       "      <td>0</td>\n",
       "      <td>0.0</td>\n",
       "      <td>0</td>\n",
       "      <td>0</td>\n",
       "      <td>NaN</td>\n",
       "    </tr>\n",
       "  </tbody>\n",
       "</table>\n",
       "</div>"
      ],
      "text/plain": [
       "                     Id         groupId         matchId  assists  boosts  damageDealt  DBNOs  headshotKills  heals  killPlace  killPoints  kills  killStreaks  longestKill  matchDuration matchType  maxPlace  numGroups  rankPoints  revives  rideDistance  roadKills  swimDistance  teamKills  vehicleDestroys  walkDistance  weaponsAcquired  winPoints  winPlacePerc\n",
       "2744604  f70c74418bb064  12dfbede33f92b  224a123c53e008        0       0          0.0      0              0      0          1           0      0            0          0.0              9  solo-fpp         1          1        1574        0           0.0          0           0.0          0                0           0.0                0          0           NaN"
      ]
     },
     "execution_count": 9,
     "metadata": {},
     "output_type": "execute_result"
    }
   ],
   "source": [
    "df[df.isnull().any(axis=1)]"
   ]
  },
  {
   "cell_type": "code",
   "execution_count": null,
   "metadata": {
    "execution": {
     "iopub.execute_input": "2022-04-26T17:08:33.015628Z",
     "iopub.status.busy": "2022-04-26T17:08:33.015462Z",
     "iopub.status.idle": "2022-04-26T17:08:35.996855Z",
     "shell.execute_reply": "2022-04-26T17:08:35.995770Z",
     "shell.execute_reply.started": "2022-04-26T17:08:33.015609Z"
    },
    "id": "6cuJ6birjdTS",
    "tags": []
   },
   "outputs": [
    {
     "data": {
      "text/html": [
       "<div>\n",
       "<style scoped>\n",
       "    .dataframe tbody tr th:only-of-type {\n",
       "        vertical-align: middle;\n",
       "    }\n",
       "\n",
       "    .dataframe tbody tr th {\n",
       "        vertical-align: top;\n",
       "    }\n",
       "\n",
       "    .dataframe thead th {\n",
       "        text-align: right;\n",
       "    }\n",
       "</style>\n",
       "<table border=\"1\" class=\"dataframe\">\n",
       "  <thead>\n",
       "    <tr style=\"text-align: right;\">\n",
       "      <th></th>\n",
       "      <th>Id</th>\n",
       "      <th>groupId</th>\n",
       "      <th>matchId</th>\n",
       "      <th>assists</th>\n",
       "      <th>boosts</th>\n",
       "      <th>damageDealt</th>\n",
       "      <th>DBNOs</th>\n",
       "      <th>headshotKills</th>\n",
       "      <th>heals</th>\n",
       "      <th>killPlace</th>\n",
       "      <th>killPoints</th>\n",
       "      <th>kills</th>\n",
       "      <th>killStreaks</th>\n",
       "      <th>longestKill</th>\n",
       "      <th>matchDuration</th>\n",
       "      <th>matchType</th>\n",
       "      <th>maxPlace</th>\n",
       "      <th>numGroups</th>\n",
       "      <th>rankPoints</th>\n",
       "      <th>revives</th>\n",
       "      <th>rideDistance</th>\n",
       "      <th>roadKills</th>\n",
       "      <th>swimDistance</th>\n",
       "      <th>teamKills</th>\n",
       "      <th>vehicleDestroys</th>\n",
       "      <th>walkDistance</th>\n",
       "      <th>weaponsAcquired</th>\n",
       "      <th>winPoints</th>\n",
       "      <th>winPlacePerc</th>\n",
       "    </tr>\n",
       "  </thead>\n",
       "  <tbody>\n",
       "  </tbody>\n",
       "</table>\n",
       "</div>"
      ],
      "text/plain": [
       "Empty DataFrame\n",
       "Columns: [Id, groupId, matchId, assists, boosts, damageDealt, DBNOs, headshotKills, heals, killPlace, killPoints, kills, killStreaks, longestKill, matchDuration, matchType, maxPlace, numGroups, rankPoints, revives, rideDistance, roadKills, swimDistance, teamKills, vehicleDestroys, walkDistance, weaponsAcquired, winPoints, winPlacePerc]\n",
       "Index: []"
      ]
     },
     "execution_count": 10,
     "metadata": {},
     "output_type": "execute_result"
    }
   ],
   "source": [
    "df = df[pd.notnull(df['winPlacePerc'])]\n",
    "df[df.isnull().any(axis=1)]"
   ]
  },
  {
   "cell_type": "markdown",
   "metadata": {
    "id": "LddwTOMFjPrK"
   },
   "source": [
    "Row where winPlacePerc is missing is gone."
   ]
  },
  {
   "cell_type": "code",
   "execution_count": null,
   "metadata": {
    "execution": {
     "iopub.execute_input": "2022-04-26T17:08:35.998148Z",
     "iopub.status.busy": "2022-04-26T17:08:35.997722Z",
     "iopub.status.idle": "2022-04-26T17:08:36.002448Z",
     "shell.execute_reply": "2022-04-26T17:08:36.001712Z",
     "shell.execute_reply.started": "2022-04-26T17:08:35.998126Z"
    },
    "tags": []
   },
   "outputs": [
    {
     "data": {
      "text/plain": [
       "4446965"
      ]
     },
     "execution_count": 11,
     "metadata": {},
     "output_type": "execute_result"
    }
   ],
   "source": [
    "validStartCount = len(df)\n",
    "validStartCount"
   ]
  },
  {
   "cell_type": "markdown",
   "metadata": {
    "execution": {
     "iopub.execute_input": "2022-03-24T10:15:05.480607Z",
     "iopub.status.busy": "2022-03-24T10:15:05.479873Z",
     "iopub.status.idle": "2022-03-24T10:15:05.485962Z",
     "shell.execute_reply": "2022-03-24T10:15:05.485026Z",
     "shell.execute_reply.started": "2022-03-24T10:15:05.480574Z"
    },
    "tags": []
   },
   "source": [
    "We have this many valid rows"
   ]
  },
  {
   "cell_type": "markdown",
   "metadata": {
    "tags": []
   },
   "source": [
    "### Removing custom games\n",
    "- flaretpp\n",
    "- flarefpp\n",
    "- crashtpp\n",
    "- crashfpp"
   ]
  },
  {
   "cell_type": "code",
   "execution_count": null,
   "metadata": {
    "execution": {
     "iopub.execute_input": "2022-04-26T17:08:36.003509Z",
     "iopub.status.busy": "2022-04-26T17:08:36.003203Z",
     "iopub.status.idle": "2022-04-26T17:08:37.123440Z",
     "shell.execute_reply": "2022-04-26T17:08:37.122400Z",
     "shell.execute_reply.started": "2022-04-26T17:08:36.003490Z"
    },
    "tags": []
   },
   "outputs": [
    {
     "data": {
      "text/html": [
       "<div>\n",
       "<style scoped>\n",
       "    .dataframe tbody tr th:only-of-type {\n",
       "        vertical-align: middle;\n",
       "    }\n",
       "\n",
       "    .dataframe tbody tr th {\n",
       "        vertical-align: top;\n",
       "    }\n",
       "\n",
       "    .dataframe thead th {\n",
       "        text-align: right;\n",
       "    }\n",
       "</style>\n",
       "<table border=\"1\" class=\"dataframe\">\n",
       "  <thead>\n",
       "    <tr style=\"text-align: right;\">\n",
       "      <th></th>\n",
       "      <th>Id</th>\n",
       "      <th>groupId</th>\n",
       "      <th>matchId</th>\n",
       "      <th>assists</th>\n",
       "      <th>boosts</th>\n",
       "      <th>damageDealt</th>\n",
       "      <th>DBNOs</th>\n",
       "      <th>headshotKills</th>\n",
       "      <th>heals</th>\n",
       "      <th>killPlace</th>\n",
       "      <th>killPoints</th>\n",
       "      <th>kills</th>\n",
       "      <th>killStreaks</th>\n",
       "      <th>longestKill</th>\n",
       "      <th>matchDuration</th>\n",
       "      <th>matchType</th>\n",
       "      <th>maxPlace</th>\n",
       "      <th>numGroups</th>\n",
       "      <th>rankPoints</th>\n",
       "      <th>revives</th>\n",
       "      <th>rideDistance</th>\n",
       "      <th>roadKills</th>\n",
       "      <th>swimDistance</th>\n",
       "      <th>teamKills</th>\n",
       "      <th>vehicleDestroys</th>\n",
       "      <th>walkDistance</th>\n",
       "      <th>weaponsAcquired</th>\n",
       "      <th>winPoints</th>\n",
       "      <th>winPlacePerc</th>\n",
       "    </tr>\n",
       "  </thead>\n",
       "  <tbody>\n",
       "    <tr>\n",
       "      <th>1093</th>\n",
       "      <td>c8ed6a171536e3</td>\n",
       "      <td>84748458aba82a</td>\n",
       "      <td>d4f1811cf6a04b</td>\n",
       "      <td>1</td>\n",
       "      <td>3</td>\n",
       "      <td>187.3750</td>\n",
       "      <td>0</td>\n",
       "      <td>1</td>\n",
       "      <td>6</td>\n",
       "      <td>27</td>\n",
       "      <td>0</td>\n",
       "      <td>1</td>\n",
       "      <td>1</td>\n",
       "      <td>0.800781</td>\n",
       "      <td>904</td>\n",
       "      <td>crashfpp</td>\n",
       "      <td>50</td>\n",
       "      <td>45</td>\n",
       "      <td>1500</td>\n",
       "      <td>0</td>\n",
       "      <td>0.00</td>\n",
       "      <td>0</td>\n",
       "      <td>0.0</td>\n",
       "      <td>0</td>\n",
       "      <td>0</td>\n",
       "      <td>1342.000000</td>\n",
       "      <td>1</td>\n",
       "      <td>0</td>\n",
       "      <td>0.489746</td>\n",
       "    </tr>\n",
       "    <tr>\n",
       "      <th>1207</th>\n",
       "      <td>fb785deb59f2bc</td>\n",
       "      <td>4438f77ac9f2e6</td>\n",
       "      <td>33d976b454b843</td>\n",
       "      <td>0</td>\n",
       "      <td>4</td>\n",
       "      <td>577.0000</td>\n",
       "      <td>7</td>\n",
       "      <td>2</td>\n",
       "      <td>4</td>\n",
       "      <td>6</td>\n",
       "      <td>0</td>\n",
       "      <td>4</td>\n",
       "      <td>2</td>\n",
       "      <td>208.500000</td>\n",
       "      <td>1947</td>\n",
       "      <td>flaretpp</td>\n",
       "      <td>26</td>\n",
       "      <td>25</td>\n",
       "      <td>1500</td>\n",
       "      <td>1</td>\n",
       "      <td>2548.00</td>\n",
       "      <td>0</td>\n",
       "      <td>0.0</td>\n",
       "      <td>0</td>\n",
       "      <td>1</td>\n",
       "      <td>2564.000000</td>\n",
       "      <td>6</td>\n",
       "      <td>0</td>\n",
       "      <td>0.799805</td>\n",
       "    </tr>\n",
       "    <tr>\n",
       "      <th>1276</th>\n",
       "      <td>d3c4dd2e585d21</td>\n",
       "      <td>6af9bb6b56b722</td>\n",
       "      <td>16e6befa897b44</td>\n",
       "      <td>0</td>\n",
       "      <td>0</td>\n",
       "      <td>0.0000</td>\n",
       "      <td>0</td>\n",
       "      <td>0</td>\n",
       "      <td>0</td>\n",
       "      <td>88</td>\n",
       "      <td>0</td>\n",
       "      <td>0</td>\n",
       "      <td>0</td>\n",
       "      <td>0.000000</td>\n",
       "      <td>892</td>\n",
       "      <td>crashfpp</td>\n",
       "      <td>47</td>\n",
       "      <td>45</td>\n",
       "      <td>1500</td>\n",
       "      <td>0</td>\n",
       "      <td>0.00</td>\n",
       "      <td>0</td>\n",
       "      <td>0.0</td>\n",
       "      <td>0</td>\n",
       "      <td>0</td>\n",
       "      <td>0.000000</td>\n",
       "      <td>0</td>\n",
       "      <td>0</td>\n",
       "      <td>0.000000</td>\n",
       "    </tr>\n",
       "    <tr>\n",
       "      <th>1524</th>\n",
       "      <td>b0fbbe07014fcd</td>\n",
       "      <td>7ce6194a5dd609</td>\n",
       "      <td>e330f44c528e6f</td>\n",
       "      <td>0</td>\n",
       "      <td>0</td>\n",
       "      <td>20.9375</td>\n",
       "      <td>0</td>\n",
       "      <td>0</td>\n",
       "      <td>0</td>\n",
       "      <td>55</td>\n",
       "      <td>0</td>\n",
       "      <td>0</td>\n",
       "      <td>0</td>\n",
       "      <td>0.000000</td>\n",
       "      <td>2031</td>\n",
       "      <td>flarefpp</td>\n",
       "      <td>17</td>\n",
       "      <td>17</td>\n",
       "      <td>1500</td>\n",
       "      <td>0</td>\n",
       "      <td>0.00</td>\n",
       "      <td>0</td>\n",
       "      <td>0.0</td>\n",
       "      <td>0</td>\n",
       "      <td>0</td>\n",
       "      <td>13.640625</td>\n",
       "      <td>1</td>\n",
       "      <td>0</td>\n",
       "      <td>0.062500</td>\n",
       "    </tr>\n",
       "    <tr>\n",
       "      <th>1790</th>\n",
       "      <td>28390372a2cc4f</td>\n",
       "      <td>c529d05da4597b</td>\n",
       "      <td>be945f2803814a</td>\n",
       "      <td>0</td>\n",
       "      <td>0</td>\n",
       "      <td>0.0000</td>\n",
       "      <td>0</td>\n",
       "      <td>0</td>\n",
       "      <td>0</td>\n",
       "      <td>76</td>\n",
       "      <td>0</td>\n",
       "      <td>0</td>\n",
       "      <td>0</td>\n",
       "      <td>0.000000</td>\n",
       "      <td>915</td>\n",
       "      <td>crashfpp</td>\n",
       "      <td>50</td>\n",
       "      <td>50</td>\n",
       "      <td>1500</td>\n",
       "      <td>0</td>\n",
       "      <td>393.75</td>\n",
       "      <td>0</td>\n",
       "      <td>0.0</td>\n",
       "      <td>0</td>\n",
       "      <td>0</td>\n",
       "      <td>459.500000</td>\n",
       "      <td>0</td>\n",
       "      <td>0</td>\n",
       "      <td>0.204102</td>\n",
       "    </tr>\n",
       "  </tbody>\n",
       "</table>\n",
       "</div>"
      ],
      "text/plain": [
       "                  Id         groupId         matchId  assists  boosts  damageDealt  DBNOs  headshotKills  heals  killPlace  killPoints  kills  killStreaks  longestKill  matchDuration matchType  maxPlace  numGroups  rankPoints  revives  rideDistance  roadKills  swimDistance  teamKills  vehicleDestroys  walkDistance  weaponsAcquired  winPoints  winPlacePerc\n",
       "1093  c8ed6a171536e3  84748458aba82a  d4f1811cf6a04b        1       3     187.3750      0              1      6         27           0      1            1     0.800781            904  crashfpp        50         45        1500        0          0.00          0           0.0          0                0   1342.000000                1          0      0.489746\n",
       "1207  fb785deb59f2bc  4438f77ac9f2e6  33d976b454b843        0       4     577.0000      7              2      4          6           0      4            2   208.500000           1947  flaretpp        26         25        1500        1       2548.00          0           0.0          0                1   2564.000000                6          0      0.799805\n",
       "1276  d3c4dd2e585d21  6af9bb6b56b722  16e6befa897b44        0       0       0.0000      0              0      0         88           0      0            0     0.000000            892  crashfpp        47         45        1500        0          0.00          0           0.0          0                0      0.000000                0          0      0.000000\n",
       "1524  b0fbbe07014fcd  7ce6194a5dd609  e330f44c528e6f        0       0      20.9375      0              0      0         55           0      0            0     0.000000           2031  flarefpp        17         17        1500        0          0.00          0           0.0          0                0     13.640625                1          0      0.062500\n",
       "1790  28390372a2cc4f  c529d05da4597b  be945f2803814a        0       0       0.0000      0              0      0         76           0      0            0     0.000000            915  crashfpp        50         50        1500        0        393.75          0           0.0          0                0    459.500000                0          0      0.204102"
      ]
     },
     "execution_count": 12,
     "metadata": {},
     "output_type": "execute_result"
    }
   ],
   "source": [
    "df[(df['matchType'] == \"flaretpp\") |\n",
    "   (df['matchType'] == \"flarefpp\") | \n",
    "   (df['matchType'] == \"crashtpp\") | \n",
    "   (df['matchType'] == \"crashfpp\")].head(5)"
   ]
  },
  {
   "cell_type": "code",
   "execution_count": null,
   "metadata": {
    "execution": {
     "iopub.execute_input": "2022-04-26T17:08:37.125104Z",
     "iopub.status.busy": "2022-04-26T17:08:37.124882Z",
     "iopub.status.idle": "2022-04-26T17:08:38.990669Z",
     "shell.execute_reply": "2022-04-26T17:08:38.990134Z",
     "shell.execute_reply.started": "2022-04-26T17:08:37.125083Z"
    },
    "tags": []
   },
   "outputs": [],
   "source": [
    "df.drop(df[(df['matchType'] == \"flaretpp\") |\n",
    "           (df['matchType'] == \"flarefpp\") | \n",
    "           (df['matchType'] == \"crashtpp\") | \n",
    "           (df['matchType'] == \"crashfpp\")]\n",
    "        .index, inplace=True)\n",
    "\n",
    "customDropCount = len(df)"
   ]
  },
  {
   "cell_type": "code",
   "execution_count": null,
   "metadata": {
    "execution": {
     "iopub.execute_input": "2022-04-26T17:08:38.993845Z",
     "iopub.status.busy": "2022-04-26T17:08:38.993147Z",
     "iopub.status.idle": "2022-04-26T17:08:38.998046Z",
     "shell.execute_reply": "2022-04-26T17:08:38.997519Z",
     "shell.execute_reply.started": "2022-04-26T17:08:38.993813Z"
    },
    "tags": []
   },
   "outputs": [
    {
     "name": "stdout",
     "output_type": "stream",
     "text": [
      "4437084\n",
      "Dropped: 9881\n"
     ]
    }
   ],
   "source": [
    "print(customDropCount) \n",
    "print(\"Dropped:\", validStartCount - customDropCount)"
   ]
  },
  {
   "cell_type": "markdown",
   "metadata": {},
   "source": [
    "We dropped this many rows"
   ]
  },
  {
   "cell_type": "markdown",
   "metadata": {
    "tags": []
   },
   "source": [
    "### AFKs and cheaters\n",
    "\n",
    "Removing players who haven't moved throughout the match. We are trying to identify cheaters and AFKs."
   ]
  },
  {
   "cell_type": "code",
   "execution_count": null,
   "metadata": {
    "execution": {
     "iopub.execute_input": "2022-04-26T17:08:38.998975Z",
     "iopub.status.busy": "2022-04-26T17:08:38.998820Z",
     "iopub.status.idle": "2022-04-26T17:08:39.084145Z",
     "shell.execute_reply": "2022-04-26T17:08:39.083594Z",
     "shell.execute_reply.started": "2022-04-26T17:08:38.998957Z"
    },
    "tags": []
   },
   "outputs": [
    {
     "data": {
      "text/html": [
       "<div>\n",
       "<style scoped>\n",
       "    .dataframe tbody tr th:only-of-type {\n",
       "        vertical-align: middle;\n",
       "    }\n",
       "\n",
       "    .dataframe tbody tr th {\n",
       "        vertical-align: top;\n",
       "    }\n",
       "\n",
       "    .dataframe thead th {\n",
       "        text-align: right;\n",
       "    }\n",
       "</style>\n",
       "<table border=\"1\" class=\"dataframe\">\n",
       "  <thead>\n",
       "    <tr style=\"text-align: right;\">\n",
       "      <th></th>\n",
       "      <th>Id</th>\n",
       "      <th>groupId</th>\n",
       "      <th>matchId</th>\n",
       "      <th>assists</th>\n",
       "      <th>boosts</th>\n",
       "      <th>damageDealt</th>\n",
       "      <th>DBNOs</th>\n",
       "      <th>headshotKills</th>\n",
       "      <th>heals</th>\n",
       "      <th>killPlace</th>\n",
       "      <th>killPoints</th>\n",
       "      <th>kills</th>\n",
       "      <th>killStreaks</th>\n",
       "      <th>longestKill</th>\n",
       "      <th>matchDuration</th>\n",
       "      <th>matchType</th>\n",
       "      <th>maxPlace</th>\n",
       "      <th>numGroups</th>\n",
       "      <th>rankPoints</th>\n",
       "      <th>revives</th>\n",
       "      <th>rideDistance</th>\n",
       "      <th>roadKills</th>\n",
       "      <th>swimDistance</th>\n",
       "      <th>teamKills</th>\n",
       "      <th>vehicleDestroys</th>\n",
       "      <th>walkDistance</th>\n",
       "      <th>weaponsAcquired</th>\n",
       "      <th>winPoints</th>\n",
       "      <th>winPlacePerc</th>\n",
       "    </tr>\n",
       "  </thead>\n",
       "  <tbody>\n",
       "    <tr>\n",
       "      <th>29</th>\n",
       "      <td>ac5b57ff39979c</td>\n",
       "      <td>857cc55b2b6001</td>\n",
       "      <td>e019e04dee4f19</td>\n",
       "      <td>0</td>\n",
       "      <td>0</td>\n",
       "      <td>0.0</td>\n",
       "      <td>0</td>\n",
       "      <td>0</td>\n",
       "      <td>0</td>\n",
       "      <td>87</td>\n",
       "      <td>0</td>\n",
       "      <td>0</td>\n",
       "      <td>0</td>\n",
       "      <td>0.0</td>\n",
       "      <td>1530</td>\n",
       "      <td>duo</td>\n",
       "      <td>46</td>\n",
       "      <td>44</td>\n",
       "      <td>1534</td>\n",
       "      <td>0</td>\n",
       "      <td>0.0</td>\n",
       "      <td>0</td>\n",
       "      <td>0.0</td>\n",
       "      <td>0</td>\n",
       "      <td>0</td>\n",
       "      <td>0.0</td>\n",
       "      <td>0</td>\n",
       "      <td>0</td>\n",
       "      <td>0.000000</td>\n",
       "    </tr>\n",
       "    <tr>\n",
       "      <th>116</th>\n",
       "      <td>6adb021f5165ff</td>\n",
       "      <td>58e5500bd40898</td>\n",
       "      <td>de5c692fe25a73</td>\n",
       "      <td>0</td>\n",
       "      <td>0</td>\n",
       "      <td>0.0</td>\n",
       "      <td>0</td>\n",
       "      <td>0</td>\n",
       "      <td>0</td>\n",
       "      <td>68</td>\n",
       "      <td>311</td>\n",
       "      <td>0</td>\n",
       "      <td>0</td>\n",
       "      <td>0.0</td>\n",
       "      <td>1414</td>\n",
       "      <td>duo</td>\n",
       "      <td>41</td>\n",
       "      <td>36</td>\n",
       "      <td>0</td>\n",
       "      <td>0</td>\n",
       "      <td>0.0</td>\n",
       "      <td>0</td>\n",
       "      <td>0.0</td>\n",
       "      <td>0</td>\n",
       "      <td>0</td>\n",
       "      <td>0.0</td>\n",
       "      <td>0</td>\n",
       "      <td>847</td>\n",
       "      <td>0.000000</td>\n",
       "    </tr>\n",
       "    <tr>\n",
       "      <th>151</th>\n",
       "      <td>a2bbe20aa8789d</td>\n",
       "      <td>926e8a09bab249</td>\n",
       "      <td>e36e4203ed4831</td>\n",
       "      <td>0</td>\n",
       "      <td>0</td>\n",
       "      <td>0.0</td>\n",
       "      <td>0</td>\n",
       "      <td>0</td>\n",
       "      <td>0</td>\n",
       "      <td>92</td>\n",
       "      <td>309</td>\n",
       "      <td>0</td>\n",
       "      <td>0</td>\n",
       "      <td>0.0</td>\n",
       "      <td>1377</td>\n",
       "      <td>duo</td>\n",
       "      <td>48</td>\n",
       "      <td>41</td>\n",
       "      <td>-1</td>\n",
       "      <td>0</td>\n",
       "      <td>0.0</td>\n",
       "      <td>0</td>\n",
       "      <td>0.0</td>\n",
       "      <td>0</td>\n",
       "      <td>0</td>\n",
       "      <td>0.0</td>\n",
       "      <td>0</td>\n",
       "      <td>765</td>\n",
       "      <td>0.000000</td>\n",
       "    </tr>\n",
       "    <tr>\n",
       "      <th>237</th>\n",
       "      <td>baaa694658e085</td>\n",
       "      <td>d034728f22cff7</td>\n",
       "      <td>fa71620624d3e7</td>\n",
       "      <td>0</td>\n",
       "      <td>0</td>\n",
       "      <td>0.0</td>\n",
       "      <td>0</td>\n",
       "      <td>0</td>\n",
       "      <td>0</td>\n",
       "      <td>94</td>\n",
       "      <td>1397</td>\n",
       "      <td>0</td>\n",
       "      <td>0</td>\n",
       "      <td>0.0</td>\n",
       "      <td>1358</td>\n",
       "      <td>squad-fpp</td>\n",
       "      <td>29</td>\n",
       "      <td>26</td>\n",
       "      <td>-1</td>\n",
       "      <td>0</td>\n",
       "      <td>0.0</td>\n",
       "      <td>0</td>\n",
       "      <td>0.0</td>\n",
       "      <td>0</td>\n",
       "      <td>0</td>\n",
       "      <td>0.0</td>\n",
       "      <td>0</td>\n",
       "      <td>1510</td>\n",
       "      <td>0.000000</td>\n",
       "    </tr>\n",
       "    <tr>\n",
       "      <th>283</th>\n",
       "      <td>3ab8128e6bcbe6</td>\n",
       "      <td>bb52a209f2e938</td>\n",
       "      <td>aabd2650b129e2</td>\n",
       "      <td>0</td>\n",
       "      <td>0</td>\n",
       "      <td>0.0</td>\n",
       "      <td>0</td>\n",
       "      <td>0</td>\n",
       "      <td>0</td>\n",
       "      <td>84</td>\n",
       "      <td>0</td>\n",
       "      <td>0</td>\n",
       "      <td>0</td>\n",
       "      <td>0.0</td>\n",
       "      <td>1797</td>\n",
       "      <td>duo</td>\n",
       "      <td>48</td>\n",
       "      <td>47</td>\n",
       "      <td>1500</td>\n",
       "      <td>0</td>\n",
       "      <td>0.0</td>\n",
       "      <td>0</td>\n",
       "      <td>0.0</td>\n",
       "      <td>0</td>\n",
       "      <td>0</td>\n",
       "      <td>0.0</td>\n",
       "      <td>0</td>\n",
       "      <td>0</td>\n",
       "      <td>0.127686</td>\n",
       "    </tr>\n",
       "  </tbody>\n",
       "</table>\n",
       "</div>"
      ],
      "text/plain": [
       "                 Id         groupId         matchId  assists  boosts  damageDealt  DBNOs  headshotKills  heals  killPlace  killPoints  kills  killStreaks  longestKill  matchDuration  matchType  maxPlace  numGroups  rankPoints  revives  rideDistance  roadKills  swimDistance  teamKills  vehicleDestroys  walkDistance  weaponsAcquired  winPoints  winPlacePerc\n",
       "29   ac5b57ff39979c  857cc55b2b6001  e019e04dee4f19        0       0          0.0      0              0      0         87           0      0            0          0.0           1530        duo        46         44        1534        0           0.0          0           0.0          0                0           0.0                0          0      0.000000\n",
       "116  6adb021f5165ff  58e5500bd40898  de5c692fe25a73        0       0          0.0      0              0      0         68         311      0            0          0.0           1414        duo        41         36           0        0           0.0          0           0.0          0                0           0.0                0        847      0.000000\n",
       "151  a2bbe20aa8789d  926e8a09bab249  e36e4203ed4831        0       0          0.0      0              0      0         92         309      0            0          0.0           1377        duo        48         41          -1        0           0.0          0           0.0          0                0           0.0                0        765      0.000000\n",
       "237  baaa694658e085  d034728f22cff7  fa71620624d3e7        0       0          0.0      0              0      0         94        1397      0            0          0.0           1358  squad-fpp        29         26          -1        0           0.0          0           0.0          0                0           0.0                0       1510      0.000000\n",
       "283  3ab8128e6bcbe6  bb52a209f2e938  aabd2650b129e2        0       0          0.0      0              0      0         84           0      0            0          0.0           1797        duo        48         47        1500        0           0.0          0           0.0          0                0           0.0                0          0      0.127686"
      ]
     },
     "execution_count": 15,
     "metadata": {},
     "output_type": "execute_result"
    }
   ],
   "source": [
    "df[df['walkDistance'] == 0].head(5)"
   ]
  },
  {
   "cell_type": "code",
   "execution_count": null,
   "metadata": {
    "execution": {
     "iopub.execute_input": "2022-04-26T17:08:39.085242Z",
     "iopub.status.busy": "2022-04-26T17:08:39.085066Z",
     "iopub.status.idle": "2022-04-26T17:08:39.934548Z",
     "shell.execute_reply": "2022-04-26T17:08:39.933984Z",
     "shell.execute_reply.started": "2022-04-26T17:08:39.085224Z"
    },
    "tags": []
   },
   "outputs": [],
   "source": [
    "df.drop(df[df['walkDistance'] == 0].index, inplace=True)\n",
    "noWalkDropCount = len(df)"
   ]
  },
  {
   "cell_type": "code",
   "execution_count": null,
   "metadata": {
    "execution": {
     "iopub.execute_input": "2022-04-26T17:08:39.944196Z",
     "iopub.status.busy": "2022-04-26T17:08:39.942329Z",
     "iopub.status.idle": "2022-04-26T17:08:39.949845Z",
     "shell.execute_reply": "2022-04-26T17:08:39.949059Z",
     "shell.execute_reply.started": "2022-04-26T17:08:39.944167Z"
    },
    "tags": []
   },
   "outputs": [
    {
     "name": "stdout",
     "output_type": "stream",
     "text": [
      "4337720\n",
      "Dropped: 99364\n"
     ]
    }
   ],
   "source": [
    "print(noWalkDropCount) \n",
    "print(\"Dropped:\", customDropCount - noWalkDropCount)"
   ]
  },
  {
   "cell_type": "markdown",
   "metadata": {
    "execution": {
     "iopub.execute_input": "2022-03-23T13:50:26.181001Z",
     "iopub.status.busy": "2022-03-23T13:50:26.180459Z",
     "iopub.status.idle": "2022-03-23T13:50:26.185081Z",
     "shell.execute_reply": "2022-03-23T13:50:26.183705Z",
     "shell.execute_reply.started": "2022-03-23T13:50:26.180972Z"
    },
    "tags": []
   },
   "source": [
    "### Potential cheats\n",
    "Removing players who traveled great distances (potential speed cheat)\n",
    "- walked more than 10km\n",
    "- rode more than 30km\n",
    "- swam more than 2km"
   ]
  },
  {
   "cell_type": "code",
   "execution_count": null,
   "metadata": {
    "execution": {
     "iopub.execute_input": "2022-04-26T17:08:39.951115Z",
     "iopub.status.busy": "2022-04-26T17:08:39.950927Z",
     "iopub.status.idle": "2022-04-26T17:08:41.075911Z",
     "shell.execute_reply": "2022-04-26T17:08:41.075279Z",
     "shell.execute_reply.started": "2022-04-26T17:08:39.951096Z"
    },
    "tags": []
   },
   "outputs": [
    {
     "data": {
      "text/html": [
       "<div>\n",
       "<style scoped>\n",
       "    .dataframe tbody tr th:only-of-type {\n",
       "        vertical-align: middle;\n",
       "    }\n",
       "\n",
       "    .dataframe tbody tr th {\n",
       "        vertical-align: top;\n",
       "    }\n",
       "\n",
       "    .dataframe thead th {\n",
       "        text-align: right;\n",
       "    }\n",
       "</style>\n",
       "<table border=\"1\" class=\"dataframe\">\n",
       "  <thead>\n",
       "    <tr style=\"text-align: right;\">\n",
       "      <th></th>\n",
       "      <th>walkDistance</th>\n",
       "      <th>rideDistance</th>\n",
       "      <th>swimDistance</th>\n",
       "    </tr>\n",
       "  </thead>\n",
       "  <tbody>\n",
       "    <tr>\n",
       "      <th>count</th>\n",
       "      <td>4.337720e+06</td>\n",
       "      <td>4.337720e+06</td>\n",
       "      <td>4337720.0</td>\n",
       "    </tr>\n",
       "    <tr>\n",
       "      <th>mean</th>\n",
       "      <td>NaN</td>\n",
       "      <td>NaN</td>\n",
       "      <td>NaN</td>\n",
       "    </tr>\n",
       "    <tr>\n",
       "      <th>std</th>\n",
       "      <td>NaN</td>\n",
       "      <td>NaN</td>\n",
       "      <td>NaN</td>\n",
       "    </tr>\n",
       "    <tr>\n",
       "      <th>min</th>\n",
       "      <td>1.000166e-04</td>\n",
       "      <td>0.000000e+00</td>\n",
       "      <td>0.0</td>\n",
       "    </tr>\n",
       "    <tr>\n",
       "      <th>25%</th>\n",
       "      <td>1.722500e+02</td>\n",
       "      <td>0.000000e+00</td>\n",
       "      <td>0.0</td>\n",
       "    </tr>\n",
       "    <tr>\n",
       "      <th>50%</th>\n",
       "      <td>7.335000e+02</td>\n",
       "      <td>0.000000e+00</td>\n",
       "      <td>0.0</td>\n",
       "    </tr>\n",
       "    <tr>\n",
       "      <th>75%</th>\n",
       "      <td>2.010000e+03</td>\n",
       "      <td>7.756250e+01</td>\n",
       "      <td>0.0</td>\n",
       "    </tr>\n",
       "    <tr>\n",
       "      <th>max</th>\n",
       "      <td>2.577600e+04</td>\n",
       "      <td>4.070400e+04</td>\n",
       "      <td>3824.0</td>\n",
       "    </tr>\n",
       "  </tbody>\n",
       "</table>\n",
       "</div>"
      ],
      "text/plain": [
       "       walkDistance  rideDistance  swimDistance\n",
       "count  4.337720e+06  4.337720e+06     4337720.0\n",
       "mean            NaN           NaN           NaN\n",
       "std             NaN           NaN           NaN\n",
       "min    1.000166e-04  0.000000e+00           0.0\n",
       "25%    1.722500e+02  0.000000e+00           0.0\n",
       "50%    7.335000e+02  0.000000e+00           0.0\n",
       "75%    2.010000e+03  7.756250e+01           0.0\n",
       "max    2.577600e+04  4.070400e+04        3824.0"
      ]
     },
     "execution_count": 18,
     "metadata": {},
     "output_type": "execute_result"
    }
   ],
   "source": [
    "df[['walkDistance', 'rideDistance', 'swimDistance']].describe()"
   ]
  },
  {
   "cell_type": "code",
   "execution_count": null,
   "metadata": {
    "execution": {
     "iopub.execute_input": "2022-04-26T17:08:41.077340Z",
     "iopub.status.busy": "2022-04-26T17:08:41.076937Z",
     "iopub.status.idle": "2022-04-26T17:08:43.382422Z",
     "shell.execute_reply": "2022-04-26T17:08:43.381849Z",
     "shell.execute_reply.started": "2022-04-26T17:08:41.077316Z"
    },
    "tags": []
   },
   "outputs": [],
   "source": [
    "df.drop(df[df['walkDistance'] >= 10000].index, inplace=True)\n",
    "df.drop(df[df['rideDistance'] >= 30000].index, inplace=True)\n",
    "df.drop(df[df['swimDistance'] >= 2000].index, inplace=True)\n",
    "potentialCheatsDropCount = len(df)"
   ]
  },
  {
   "cell_type": "code",
   "execution_count": null,
   "metadata": {
    "execution": {
     "iopub.execute_input": "2022-04-26T17:08:43.383548Z",
     "iopub.status.busy": "2022-04-26T17:08:43.383376Z",
     "iopub.status.idle": "2022-04-26T17:08:43.388139Z",
     "shell.execute_reply": "2022-04-26T17:08:43.386706Z",
     "shell.execute_reply.started": "2022-04-26T17:08:43.383530Z"
    },
    "tags": []
   },
   "outputs": [
    {
     "name": "stdout",
     "output_type": "stream",
     "text": [
      "4337472\n",
      "Dropped: 248\n"
     ]
    }
   ],
   "source": [
    "print(potentialCheatsDropCount) \n",
    "print(\"Dropped:\", noWalkDropCount - potentialCheatsDropCount)"
   ]
  },
  {
   "cell_type": "markdown",
   "metadata": {
    "tags": []
   },
   "source": [
    "#### Large Number of Kills\n",
    "Removing players who have more than 40 kills.\n",
    "\n",
    "Let's plot the total kills for every player first."
   ]
  },
  {
   "cell_type": "code",
   "execution_count": null,
   "metadata": {
    "execution": {
     "iopub.execute_input": "2022-04-26T17:08:43.390027Z",
     "iopub.status.busy": "2022-04-26T17:08:43.389250Z",
     "iopub.status.idle": "2022-04-26T17:08:44.995244Z",
     "shell.execute_reply": "2022-04-26T17:08:44.994623Z",
     "shell.execute_reply.started": "2022-04-26T17:08:43.390001Z"
    },
    "tags": []
   },
   "outputs": [
    {
     "data": {
      "image/png": "[encoded data removed]",
      "text/plain": [
       "<Figure size 1500x600 with 1 Axes>"
      ]
     },
     "metadata": {
      "needs_background": "light"
     },
     "output_type": "display_data"
    }
   ],
   "source": [
    "plt.figure(figsize=(15,6))\n",
    "sns.countplot(data=df, x=df['kills']).set_title('Kills')\n",
    "plt.show()"
   ]
  },
  {
   "cell_type": "code",
   "execution_count": null,
   "metadata": {
    "execution": {
     "iopub.execute_input": "2022-04-26T17:08:44.996518Z",
     "iopub.status.busy": "2022-04-26T17:08:44.996348Z",
     "iopub.status.idle": "2022-04-26T17:08:45.005854Z",
     "shell.execute_reply": "2022-04-26T17:08:45.005290Z",
     "shell.execute_reply.started": "2022-04-26T17:08:44.996500Z"
    },
    "tags": []
   },
   "outputs": [
    {
     "data": {
      "text/plain": [
       "(32, 29)"
      ]
     },
     "metadata": {},
     "output_type": "display_data"
    }
   ],
   "source": [
    "display(df[df['kills'] > 40].shape)"
   ]
  },
  {
   "cell_type": "code",
   "execution_count": null,
   "metadata": {
    "execution": {
     "iopub.execute_input": "2022-04-26T17:08:45.006892Z",
     "iopub.status.busy": "2022-04-26T17:08:45.006659Z",
     "iopub.status.idle": "2022-04-26T17:08:45.028143Z",
     "shell.execute_reply": "2022-04-26T17:08:45.027501Z",
     "shell.execute_reply.started": "2022-04-26T17:08:45.006871Z"
    },
    "tags": []
   },
   "outputs": [
    {
     "data": {
      "text/html": [
       "<div>\n",
       "<style scoped>\n",
       "    .dataframe tbody tr th:only-of-type {\n",
       "        vertical-align: middle;\n",
       "    }\n",
       "\n",
       "    .dataframe tbody tr th {\n",
       "        vertical-align: top;\n",
       "    }\n",
       "\n",
       "    .dataframe thead th {\n",
       "        text-align: right;\n",
       "    }\n",
       "</style>\n",
       "<table border=\"1\" class=\"dataframe\">\n",
       "  <thead>\n",
       "    <tr style=\"text-align: right;\">\n",
       "      <th></th>\n",
       "      <th>Id</th>\n",
       "      <th>groupId</th>\n",
       "      <th>matchId</th>\n",
       "      <th>assists</th>\n",
       "      <th>boosts</th>\n",
       "      <th>damageDealt</th>\n",
       "      <th>DBNOs</th>\n",
       "      <th>headshotKills</th>\n",
       "      <th>heals</th>\n",
       "      <th>killPlace</th>\n",
       "      <th>killPoints</th>\n",
       "      <th>kills</th>\n",
       "      <th>killStreaks</th>\n",
       "      <th>longestKill</th>\n",
       "      <th>matchDuration</th>\n",
       "      <th>matchType</th>\n",
       "      <th>maxPlace</th>\n",
       "      <th>numGroups</th>\n",
       "      <th>rankPoints</th>\n",
       "      <th>revives</th>\n",
       "      <th>rideDistance</th>\n",
       "      <th>roadKills</th>\n",
       "      <th>swimDistance</th>\n",
       "      <th>teamKills</th>\n",
       "      <th>vehicleDestroys</th>\n",
       "      <th>walkDistance</th>\n",
       "      <th>weaponsAcquired</th>\n",
       "      <th>winPoints</th>\n",
       "      <th>winPlacePerc</th>\n",
       "    </tr>\n",
       "  </thead>\n",
       "  <tbody>\n",
       "    <tr>\n",
       "      <th>156599</th>\n",
       "      <td>746aa7eabf7c86</td>\n",
       "      <td>5723e7d8250da3</td>\n",
       "      <td>f900de1ec39fa5</td>\n",
       "      <td>21</td>\n",
       "      <td>0</td>\n",
       "      <td>5480.0</td>\n",
       "      <td>0</td>\n",
       "      <td>12</td>\n",
       "      <td>7</td>\n",
       "      <td>4</td>\n",
       "      <td>0</td>\n",
       "      <td>48</td>\n",
       "      <td>6</td>\n",
       "      <td>81.9375</td>\n",
       "      <td>1798</td>\n",
       "      <td>normal-solo-fpp</td>\n",
       "      <td>11</td>\n",
       "      <td>11</td>\n",
       "      <td>1500</td>\n",
       "      <td>0</td>\n",
       "      <td>0.0</td>\n",
       "      <td>0</td>\n",
       "      <td>0.0</td>\n",
       "      <td>0</td>\n",
       "      <td>0</td>\n",
       "      <td>23.703125</td>\n",
       "      <td>61</td>\n",
       "      <td>0</td>\n",
       "      <td>0.700195</td>\n",
       "    </tr>\n",
       "    <tr>\n",
       "      <th>160254</th>\n",
       "      <td>15622257cb44e2</td>\n",
       "      <td>1a513eeecfe724</td>\n",
       "      <td>db413c7c48292c</td>\n",
       "      <td>1</td>\n",
       "      <td>0</td>\n",
       "      <td>4032.0</td>\n",
       "      <td>0</td>\n",
       "      <td>40</td>\n",
       "      <td>0</td>\n",
       "      <td>1</td>\n",
       "      <td>1000</td>\n",
       "      <td>42</td>\n",
       "      <td>5</td>\n",
       "      <td>266.2500</td>\n",
       "      <td>844</td>\n",
       "      <td>normal-squad-fpp</td>\n",
       "      <td>8</td>\n",
       "      <td>8</td>\n",
       "      <td>-1</td>\n",
       "      <td>0</td>\n",
       "      <td>0.0</td>\n",
       "      <td>0</td>\n",
       "      <td>0.0</td>\n",
       "      <td>1</td>\n",
       "      <td>0</td>\n",
       "      <td>718.500000</td>\n",
       "      <td>16</td>\n",
       "      <td>1500</td>\n",
       "      <td>1.000000</td>\n",
       "    </tr>\n",
       "    <tr>\n",
       "      <th>334400</th>\n",
       "      <td>810f2379261545</td>\n",
       "      <td>7f3e493ee71534</td>\n",
       "      <td>f900de1ec39fa5</td>\n",
       "      <td>20</td>\n",
       "      <td>0</td>\n",
       "      <td>6616.0</td>\n",
       "      <td>0</td>\n",
       "      <td>13</td>\n",
       "      <td>5</td>\n",
       "      <td>1</td>\n",
       "      <td>0</td>\n",
       "      <td>65</td>\n",
       "      <td>7</td>\n",
       "      <td>73.8750</td>\n",
       "      <td>1798</td>\n",
       "      <td>normal-solo-fpp</td>\n",
       "      <td>11</td>\n",
       "      <td>11</td>\n",
       "      <td>1500</td>\n",
       "      <td>0</td>\n",
       "      <td>0.0</td>\n",
       "      <td>0</td>\n",
       "      <td>0.0</td>\n",
       "      <td>0</td>\n",
       "      <td>0</td>\n",
       "      <td>1036.000000</td>\n",
       "      <td>60</td>\n",
       "      <td>0</td>\n",
       "      <td>1.000000</td>\n",
       "    </tr>\n",
       "    <tr>\n",
       "      <th>672993</th>\n",
       "      <td>da31f191ace8ed</td>\n",
       "      <td>ce9a3c4950a8f2</td>\n",
       "      <td>17dea22cefe62a</td>\n",
       "      <td>10</td>\n",
       "      <td>0</td>\n",
       "      <td>5792.0</td>\n",
       "      <td>0</td>\n",
       "      <td>5</td>\n",
       "      <td>2</td>\n",
       "      <td>1</td>\n",
       "      <td>0</td>\n",
       "      <td>57</td>\n",
       "      <td>5</td>\n",
       "      <td>104.1875</td>\n",
       "      <td>1798</td>\n",
       "      <td>normal-duo-fpp</td>\n",
       "      <td>15</td>\n",
       "      <td>12</td>\n",
       "      <td>1500</td>\n",
       "      <td>0</td>\n",
       "      <td>0.0</td>\n",
       "      <td>0</td>\n",
       "      <td>0.0</td>\n",
       "      <td>0</td>\n",
       "      <td>0</td>\n",
       "      <td>24.265625</td>\n",
       "      <td>56</td>\n",
       "      <td>0</td>\n",
       "      <td>1.000000</td>\n",
       "    </tr>\n",
       "    <tr>\n",
       "      <th>770454</th>\n",
       "      <td>2ade4369bccd12</td>\n",
       "      <td>9f9e64a3db8384</td>\n",
       "      <td>e024bf51bf1799</td>\n",
       "      <td>12</td>\n",
       "      <td>0</td>\n",
       "      <td>5556.0</td>\n",
       "      <td>0</td>\n",
       "      <td>7</td>\n",
       "      <td>4</td>\n",
       "      <td>1</td>\n",
       "      <td>0</td>\n",
       "      <td>55</td>\n",
       "      <td>6</td>\n",
       "      <td>74.8125</td>\n",
       "      <td>1798</td>\n",
       "      <td>normal-solo-fpp</td>\n",
       "      <td>19</td>\n",
       "      <td>18</td>\n",
       "      <td>1500</td>\n",
       "      <td>0</td>\n",
       "      <td>0.0</td>\n",
       "      <td>0</td>\n",
       "      <td>0.0</td>\n",
       "      <td>0</td>\n",
       "      <td>0</td>\n",
       "      <td>85.562500</td>\n",
       "      <td>66</td>\n",
       "      <td>0</td>\n",
       "      <td>1.000000</td>\n",
       "    </tr>\n",
       "  </tbody>\n",
       "</table>\n",
       "</div>"
      ],
      "text/plain": [
       "                    Id         groupId         matchId  assists  boosts  damageDealt  DBNOs  headshotKills  heals  killPlace  killPoints  kills  killStreaks  longestKill  matchDuration         matchType  maxPlace  numGroups  rankPoints  revives  rideDistance  roadKills  swimDistance  teamKills  vehicleDestroys  walkDistance  weaponsAcquired  winPoints  winPlacePerc\n",
       "156599  746aa7eabf7c86  5723e7d8250da3  f900de1ec39fa5       21       0       5480.0      0             12      7          4           0     48            6      81.9375           1798   normal-solo-fpp        11         11        1500        0           0.0          0           0.0          0                0     23.703125               61          0      0.700195\n",
       "160254  15622257cb44e2  1a513eeecfe724  db413c7c48292c        1       0       4032.0      0             40      0          1        1000     42            5     266.2500            844  normal-squad-fpp         8          8          -1        0           0.0          0           0.0          1                0    718.500000               16       1500      1.000000\n",
       "334400  810f2379261545  7f3e493ee71534  f900de1ec39fa5       20       0       6616.0      0             13      5          1           0     65            7      73.8750           1798   normal-solo-fpp        11         11        1500        0           0.0          0           0.0          0                0   1036.000000               60          0      1.000000\n",
       "672993  da31f191ace8ed  ce9a3c4950a8f2  17dea22cefe62a       10       0       5792.0      0              5      2          1           0     57            5     104.1875           1798    normal-duo-fpp        15         12        1500        0           0.0          0           0.0          0                0     24.265625               56          0      1.000000\n",
       "770454  2ade4369bccd12  9f9e64a3db8384  e024bf51bf1799       12       0       5556.0      0              7      4          1           0     55            6      74.8125           1798   normal-solo-fpp        19         18        1500        0           0.0          0           0.0          0                0     85.562500               66          0      1.000000"
      ]
     },
     "execution_count": 23,
     "metadata": {},
     "output_type": "execute_result"
    }
   ],
   "source": [
    "df[df['kills'] >= 40].head(5)"
   ]
  },
  {
   "cell_type": "markdown",
   "metadata": {
    "tags": []
   },
   "source": [
    "It doesn't look like there are too many outliers. We decide to remove those."
   ]
  },
  {
   "cell_type": "code",
   "execution_count": null,
   "metadata": {
    "execution": {
     "iopub.execute_input": "2022-04-26T17:08:45.029122Z",
     "iopub.status.busy": "2022-04-26T17:08:45.028951Z",
     "iopub.status.idle": "2022-04-26T17:08:45.786143Z",
     "shell.execute_reply": "2022-04-26T17:08:45.785528Z",
     "shell.execute_reply.started": "2022-04-26T17:08:45.029102Z"
    },
    "tags": []
   },
   "outputs": [],
   "source": [
    "df.drop(df[df['kills'] >= 40].index, inplace=True)\n",
    "largeKillsDropCount = len(df)"
   ]
  },
  {
   "cell_type": "code",
   "execution_count": null,
   "metadata": {
    "execution": {
     "iopub.execute_input": "2022-04-26T17:08:45.787360Z",
     "iopub.status.busy": "2022-04-26T17:08:45.787170Z",
     "iopub.status.idle": "2022-04-26T17:08:45.791853Z",
     "shell.execute_reply": "2022-04-26T17:08:45.791184Z",
     "shell.execute_reply.started": "2022-04-26T17:08:45.787341Z"
    },
    "tags": []
   },
   "outputs": [
    {
     "name": "stdout",
     "output_type": "stream",
     "text": [
      "4337436\n",
      "Dropped: 36\n"
     ]
    }
   ],
   "source": [
    "print(largeKillsDropCount) \n",
    "print(\"Dropped:\", potentialCheatsDropCount - largeKillsDropCount)"
   ]
  },
  {
   "cell_type": "markdown",
   "metadata": {},
   "source": [
    "#### Potential Aim Bot\n",
    "\n",
    "We will create a new feature 'headshotRate' and plot of it"
   ]
  },
  {
   "cell_type": "code",
   "execution_count": null,
   "metadata": {
    "execution": {
     "iopub.execute_input": "2022-04-26T17:08:45.792854Z",
     "iopub.status.busy": "2022-04-26T17:08:45.792689Z",
     "iopub.status.idle": "2022-04-26T17:08:47.904324Z",
     "shell.execute_reply": "2022-04-26T17:08:47.903227Z",
     "shell.execute_reply.started": "2022-04-26T17:08:45.792835Z"
    },
    "tags": []
   },
   "outputs": [
    {
     "data": {
      "text/plain": [
       "<Figure size 1200x400 with 0 Axes>"
      ]
     },
     "metadata": {},
     "output_type": "display_data"
    },
    {
     "data": {
      "image/png": "[encoded data removed]",
      "text/plain": [
       "<Figure size 500x500 with 1 Axes>"
      ]
     },
     "metadata": {
      "needs_background": "light"
     },
     "output_type": "display_data"
    }
   ],
   "source": [
    "df['headshotPercentage'] = df['headshotKills'] / df['kills']\n",
    "df['headshotPercentage'] = df['headshotPercentage'].fillna(0)\n",
    "\n",
    "plt.figure(figsize=(12, 4))\n",
    "sns.displot(df['headshotPercentage'], bins=50)\n",
    "plt.title('Headshot percentage')\n",
    "plt.show()"
   ]
  },
  {
   "cell_type": "markdown",
   "metadata": {},
   "source": [
    "Not every player with 100% headshot has to be cheater. They might be just goog players.n\n",
    "That's why we will remove only players who have more than 10 kills and 100% headshots."
   ]
  },
  {
   "cell_type": "code",
   "execution_count": null,
   "metadata": {
    "execution": {
     "iopub.execute_input": "2022-04-26T17:08:47.905739Z",
     "iopub.status.busy": "2022-04-26T17:08:47.905361Z",
     "iopub.status.idle": "2022-04-26T17:08:47.932130Z",
     "shell.execute_reply": "2022-04-26T17:08:47.931355Z",
     "shell.execute_reply.started": "2022-04-26T17:08:47.905715Z"
    },
    "tags": []
   },
   "outputs": [
    {
     "data": {
      "text/html": [
       "<div>\n",
       "<style scoped>\n",
       "    .dataframe tbody tr th:only-of-type {\n",
       "        vertical-align: middle;\n",
       "    }\n",
       "\n",
       "    .dataframe tbody tr th {\n",
       "        vertical-align: top;\n",
       "    }\n",
       "\n",
       "    .dataframe thead th {\n",
       "        text-align: right;\n",
       "    }\n",
       "</style>\n",
       "<table border=\"1\" class=\"dataframe\">\n",
       "  <thead>\n",
       "    <tr style=\"text-align: right;\">\n",
       "      <th></th>\n",
       "      <th>Id</th>\n",
       "      <th>groupId</th>\n",
       "      <th>matchId</th>\n",
       "      <th>assists</th>\n",
       "      <th>boosts</th>\n",
       "      <th>damageDealt</th>\n",
       "      <th>DBNOs</th>\n",
       "      <th>headshotKills</th>\n",
       "      <th>heals</th>\n",
       "      <th>killPlace</th>\n",
       "      <th>killPoints</th>\n",
       "      <th>kills</th>\n",
       "      <th>killStreaks</th>\n",
       "      <th>longestKill</th>\n",
       "      <th>matchDuration</th>\n",
       "      <th>matchType</th>\n",
       "      <th>maxPlace</th>\n",
       "      <th>numGroups</th>\n",
       "      <th>rankPoints</th>\n",
       "      <th>revives</th>\n",
       "      <th>rideDistance</th>\n",
       "      <th>roadKills</th>\n",
       "      <th>swimDistance</th>\n",
       "      <th>teamKills</th>\n",
       "      <th>vehicleDestroys</th>\n",
       "      <th>walkDistance</th>\n",
       "      <th>weaponsAcquired</th>\n",
       "      <th>winPoints</th>\n",
       "      <th>winPlacePerc</th>\n",
       "      <th>headshotPercentage</th>\n",
       "    </tr>\n",
       "  </thead>\n",
       "  <tbody>\n",
       "    <tr>\n",
       "      <th>281570</th>\n",
       "      <td>ab9d7168570927</td>\n",
       "      <td>add05ebde0214c</td>\n",
       "      <td>e016a873339c7b</td>\n",
       "      <td>2</td>\n",
       "      <td>3</td>\n",
       "      <td>1212.0</td>\n",
       "      <td>8</td>\n",
       "      <td>10</td>\n",
       "      <td>0</td>\n",
       "      <td>1</td>\n",
       "      <td>0</td>\n",
       "      <td>10</td>\n",
       "      <td>4</td>\n",
       "      <td>159.25</td>\n",
       "      <td>1423</td>\n",
       "      <td>squad-fpp</td>\n",
       "      <td>27</td>\n",
       "      <td>25</td>\n",
       "      <td>1564</td>\n",
       "      <td>1</td>\n",
       "      <td>0.0</td>\n",
       "      <td>0</td>\n",
       "      <td>0.0</td>\n",
       "      <td>0</td>\n",
       "      <td>0</td>\n",
       "      <td>2940.0</td>\n",
       "      <td>5</td>\n",
       "      <td>0</td>\n",
       "      <td>0.846191</td>\n",
       "      <td>1.0</td>\n",
       "    </tr>\n",
       "    <tr>\n",
       "      <th>346124</th>\n",
       "      <td>044d18fc42fc75</td>\n",
       "      <td>fc1dbc2df6a887</td>\n",
       "      <td>628107d4c41084</td>\n",
       "      <td>3</td>\n",
       "      <td>5</td>\n",
       "      <td>1620.0</td>\n",
       "      <td>13</td>\n",
       "      <td>11</td>\n",
       "      <td>3</td>\n",
       "      <td>1</td>\n",
       "      <td>1424</td>\n",
       "      <td>11</td>\n",
       "      <td>2</td>\n",
       "      <td>633.50</td>\n",
       "      <td>1727</td>\n",
       "      <td>squad</td>\n",
       "      <td>27</td>\n",
       "      <td>26</td>\n",
       "      <td>-1</td>\n",
       "      <td>3</td>\n",
       "      <td>4720.0</td>\n",
       "      <td>0</td>\n",
       "      <td>0.0</td>\n",
       "      <td>0</td>\n",
       "      <td>0</td>\n",
       "      <td>3422.0</td>\n",
       "      <td>8</td>\n",
       "      <td>1560</td>\n",
       "      <td>1.000000</td>\n",
       "      <td>1.0</td>\n",
       "    </tr>\n",
       "    <tr>\n",
       "      <th>871244</th>\n",
       "      <td>e668a25f5488e3</td>\n",
       "      <td>5ba8feabfb2a23</td>\n",
       "      <td>f6e6581e03ba4f</td>\n",
       "      <td>0</td>\n",
       "      <td>4</td>\n",
       "      <td>1365.0</td>\n",
       "      <td>9</td>\n",
       "      <td>13</td>\n",
       "      <td>0</td>\n",
       "      <td>1</td>\n",
       "      <td>1579</td>\n",
       "      <td>13</td>\n",
       "      <td>2</td>\n",
       "      <td>353.75</td>\n",
       "      <td>1255</td>\n",
       "      <td>squad</td>\n",
       "      <td>27</td>\n",
       "      <td>27</td>\n",
       "      <td>-1</td>\n",
       "      <td>0</td>\n",
       "      <td>0.0</td>\n",
       "      <td>0</td>\n",
       "      <td>0.0</td>\n",
       "      <td>0</td>\n",
       "      <td>0</td>\n",
       "      <td>2104.0</td>\n",
       "      <td>5</td>\n",
       "      <td>1587</td>\n",
       "      <td>1.000000</td>\n",
       "      <td>1.0</td>\n",
       "    </tr>\n",
       "    <tr>\n",
       "      <th>908815</th>\n",
       "      <td>566d8218b705aa</td>\n",
       "      <td>a9b056478d71b2</td>\n",
       "      <td>3a41552d553583</td>\n",
       "      <td>2</td>\n",
       "      <td>5</td>\n",
       "      <td>1535.0</td>\n",
       "      <td>10</td>\n",
       "      <td>10</td>\n",
       "      <td>3</td>\n",
       "      <td>1</td>\n",
       "      <td>1393</td>\n",
       "      <td>10</td>\n",
       "      <td>3</td>\n",
       "      <td>533.00</td>\n",
       "      <td>1838</td>\n",
       "      <td>squad-fpp</td>\n",
       "      <td>28</td>\n",
       "      <td>24</td>\n",
       "      <td>-1</td>\n",
       "      <td>0</td>\n",
       "      <td>5188.0</td>\n",
       "      <td>0</td>\n",
       "      <td>0.0</td>\n",
       "      <td>2</td>\n",
       "      <td>0</td>\n",
       "      <td>2760.0</td>\n",
       "      <td>7</td>\n",
       "      <td>1519</td>\n",
       "      <td>0.962891</td>\n",
       "      <td>1.0</td>\n",
       "    </tr>\n",
       "    <tr>\n",
       "      <th>963463</th>\n",
       "      <td>1bd6fd288df4f0</td>\n",
       "      <td>90584ffa22fe15</td>\n",
       "      <td>ba2de992ec7bb8</td>\n",
       "      <td>2</td>\n",
       "      <td>6</td>\n",
       "      <td>1355.0</td>\n",
       "      <td>12</td>\n",
       "      <td>10</td>\n",
       "      <td>2</td>\n",
       "      <td>1</td>\n",
       "      <td>1543</td>\n",
       "      <td>10</td>\n",
       "      <td>2</td>\n",
       "      <td>277.00</td>\n",
       "      <td>1417</td>\n",
       "      <td>squad</td>\n",
       "      <td>27</td>\n",
       "      <td>26</td>\n",
       "      <td>-1</td>\n",
       "      <td>0</td>\n",
       "      <td>1018.0</td>\n",
       "      <td>0</td>\n",
       "      <td>0.0</td>\n",
       "      <td>0</td>\n",
       "      <td>0</td>\n",
       "      <td>2458.0</td>\n",
       "      <td>4</td>\n",
       "      <td>1562</td>\n",
       "      <td>1.000000</td>\n",
       "      <td>1.0</td>\n",
       "    </tr>\n",
       "  </tbody>\n",
       "</table>\n",
       "</div>"
      ],
      "text/plain": [
       "                    Id         groupId         matchId  assists  boosts  damageDealt  DBNOs  headshotKills  heals  killPlace  killPoints  kills  killStreaks  longestKill  matchDuration  matchType  maxPlace  numGroups  rankPoints  revives  rideDistance  roadKills  swimDistance  teamKills  vehicleDestroys  walkDistance  weaponsAcquired  winPoints  winPlacePerc  headshotPercentage\n",
       "281570  ab9d7168570927  add05ebde0214c  e016a873339c7b        2       3       1212.0      8             10      0          1           0     10            4       159.25           1423  squad-fpp        27         25        1564        1           0.0          0           0.0          0                0        2940.0                5          0      0.846191                 1.0\n",
       "346124  044d18fc42fc75  fc1dbc2df6a887  628107d4c41084        3       5       1620.0     13             11      3          1        1424     11            2       633.50           1727      squad        27         26          -1        3        4720.0          0           0.0          0                0        3422.0                8       1560      1.000000                 1.0\n",
       "871244  e668a25f5488e3  5ba8feabfb2a23  f6e6581e03ba4f        0       4       1365.0      9             13      0          1        1579     13            2       353.75           1255      squad        27         27          -1        0           0.0          0           0.0          0                0        2104.0                5       1587      1.000000                 1.0\n",
       "908815  566d8218b705aa  a9b056478d71b2  3a41552d553583        2       5       1535.0     10             10      3          1        1393     10            3       533.00           1838  squad-fpp        28         24          -1        0        5188.0          0           0.0          2                0        2760.0                7       1519      0.962891                 1.0\n",
       "963463  1bd6fd288df4f0  90584ffa22fe15  ba2de992ec7bb8        2       6       1355.0     12             10      2          1        1543     10            2       277.00           1417      squad        27         26          -1        0        1018.0          0           0.0          0                0        2458.0                4       1562      1.000000                 1.0"
      ]
     },
     "execution_count": 27,
     "metadata": {},
     "output_type": "execute_result"
    }
   ],
   "source": [
    "df[(df['headshotKills'] == df['kills']) & (df['kills'] >= 10)].head(5)"
   ]
  },
  {
   "cell_type": "code",
   "execution_count": null,
   "metadata": {
    "execution": {
     "iopub.execute_input": "2022-04-26T17:08:47.933349Z",
     "iopub.status.busy": "2022-04-26T17:08:47.933176Z",
     "iopub.status.idle": "2022-04-26T17:08:48.733773Z",
     "shell.execute_reply": "2022-04-26T17:08:48.733174Z",
     "shell.execute_reply.started": "2022-04-26T17:08:47.933328Z"
    },
    "tags": []
   },
   "outputs": [],
   "source": [
    "df.drop(df[(df['headshotKills'] == df['kills']) & (df['kills'] >= 10)].index, inplace=True)\n",
    "highHSrateDropCount = len(df)"
   ]
  },
  {
   "cell_type": "code",
   "execution_count": null,
   "metadata": {
    "execution": {
     "iopub.execute_input": "2022-04-26T17:08:48.735147Z",
     "iopub.status.busy": "2022-04-26T17:08:48.734829Z",
     "iopub.status.idle": "2022-04-26T17:08:48.739552Z",
     "shell.execute_reply": "2022-04-26T17:08:48.738603Z",
     "shell.execute_reply.started": "2022-04-26T17:08:48.735126Z"
    },
    "tags": []
   },
   "outputs": [
    {
     "name": "stdout",
     "output_type": "stream",
     "text": [
      "4337412\n",
      "Dropped: 24\n"
     ]
    }
   ],
   "source": [
    "print(highHSrateDropCount) \n",
    "print(\"Dropped:\", largeKillsDropCount - highHSrateDropCount)"
   ]
  },
  {
   "cell_type": "markdown",
   "metadata": {},
   "source": [
    "Altogether we dropped"
   ]
  },
  {
   "cell_type": "code",
   "execution_count": null,
   "metadata": {
    "execution": {
     "iopub.execute_input": "2022-04-26T17:08:48.741747Z",
     "iopub.status.busy": "2022-04-26T17:08:48.741364Z",
     "iopub.status.idle": "2022-04-26T17:08:48.747604Z",
     "shell.execute_reply": "2022-04-26T17:08:48.747085Z",
     "shell.execute_reply.started": "2022-04-26T17:08:48.741724Z"
    },
    "tags": []
   },
   "outputs": [
    {
     "name": "stdout",
     "output_type": "stream",
     "text": [
      "Dropped: 109553\n"
     ]
    }
   ],
   "source": [
    "print(\"Dropped:\", validStartCount - highHSrateDropCount)"
   ]
  },
  {
   "cell_type": "markdown",
   "metadata": {
    "id": "RDdvrWkEjgAx",
    "tags": []
   },
   "source": [
    "## Train data and test data"
   ]
  },
  {
   "cell_type": "markdown",
   "metadata": {
    "id": "cCb5aoFem6t8"
   },
   "source": [
    "Source of data: https://www.kaggle.com/c/pubg-finish-placement-prediction\n",
    "\n",
    "Our data contains around 4.5 millions rows.\n",
    "\n",
    "We are going to split it into two sets:\n",
    "- train set,\n",
    "- test set"
   ]
  },
  {
   "cell_type": "code",
   "execution_count": null,
   "metadata": {
    "execution": {
     "iopub.execute_input": "2022-04-26T17:08:48.748630Z",
     "iopub.status.busy": "2022-04-26T17:08:48.748221Z",
     "iopub.status.idle": "2022-04-26T17:08:51.653757Z",
     "shell.execute_reply": "2022-04-26T17:08:51.653083Z",
     "shell.execute_reply.started": "2022-04-26T17:08:48.748611Z"
    },
    "id": "ZL3sksGiNYFR",
    "tags": []
   },
   "outputs": [],
   "source": [
    "df_train, df_test = split_into_train_test_sets(df, 0.2)"
   ]
  },
  {
   "cell_type": "markdown",
   "metadata": {
    "id": "qg8Vdd3xa4eD",
    "tags": []
   },
   "source": [
    "### Train data\n"
   ]
  },
  {
   "cell_type": "markdown",
   "metadata": {
    "id": "BtveYGfnffYa"
   },
   "source": [
    "Brief look at the train data"
   ]
  },
  {
   "cell_type": "code",
   "execution_count": null,
   "metadata": {
    "colab": {
     "base_uri": "https://localhost:8080/",
     "height": 300
    },
    "execution": {
     "iopub.execute_input": "2022-04-26T17:08:51.654907Z",
     "iopub.status.busy": "2022-04-26T17:08:51.654627Z",
     "iopub.status.idle": "2022-04-26T17:08:51.673859Z",
     "shell.execute_reply": "2022-04-26T17:08:51.673106Z",
     "shell.execute_reply.started": "2022-04-26T17:08:51.654886Z"
    },
    "id": "UA7DabBea9oy",
    "outputId": "45cbe3dd-27f5-47bf-adce-c44f756e5a96",
    "tags": []
   },
   "outputs": [
    {
     "data": {
      "text/html": [
       "<div>\n",
       "<style scoped>\n",
       "    .dataframe tbody tr th:only-of-type {\n",
       "        vertical-align: middle;\n",
       "    }\n",
       "\n",
       "    .dataframe tbody tr th {\n",
       "        vertical-align: top;\n",
       "    }\n",
       "\n",
       "    .dataframe thead th {\n",
       "        text-align: right;\n",
       "    }\n",
       "</style>\n",
       "<table border=\"1\" class=\"dataframe\">\n",
       "  <thead>\n",
       "    <tr style=\"text-align: right;\">\n",
       "      <th></th>\n",
       "      <th>Id</th>\n",
       "      <th>groupId</th>\n",
       "      <th>matchId</th>\n",
       "      <th>assists</th>\n",
       "      <th>boosts</th>\n",
       "      <th>damageDealt</th>\n",
       "      <th>DBNOs</th>\n",
       "      <th>headshotKills</th>\n",
       "      <th>heals</th>\n",
       "      <th>killPlace</th>\n",
       "      <th>killPoints</th>\n",
       "      <th>kills</th>\n",
       "      <th>killStreaks</th>\n",
       "      <th>longestKill</th>\n",
       "      <th>matchDuration</th>\n",
       "      <th>matchType</th>\n",
       "      <th>maxPlace</th>\n",
       "      <th>numGroups</th>\n",
       "      <th>rankPoints</th>\n",
       "      <th>revives</th>\n",
       "      <th>rideDistance</th>\n",
       "      <th>roadKills</th>\n",
       "      <th>swimDistance</th>\n",
       "      <th>teamKills</th>\n",
       "      <th>vehicleDestroys</th>\n",
       "      <th>walkDistance</th>\n",
       "      <th>weaponsAcquired</th>\n",
       "      <th>winPoints</th>\n",
       "      <th>winPlacePerc</th>\n",
       "      <th>headshotPercentage</th>\n",
       "    </tr>\n",
       "  </thead>\n",
       "  <tbody>\n",
       "    <tr>\n",
       "      <th>0</th>\n",
       "      <td>7f96b2f878858a</td>\n",
       "      <td>4d4b580de459be</td>\n",
       "      <td>a10357fd1a4a91</td>\n",
       "      <td>0</td>\n",
       "      <td>0</td>\n",
       "      <td>0.00000</td>\n",
       "      <td>0</td>\n",
       "      <td>0</td>\n",
       "      <td>0</td>\n",
       "      <td>60</td>\n",
       "      <td>1241</td>\n",
       "      <td>0</td>\n",
       "      <td>0</td>\n",
       "      <td>0.00000</td>\n",
       "      <td>1306</td>\n",
       "      <td>squad-fpp</td>\n",
       "      <td>28</td>\n",
       "      <td>26</td>\n",
       "      <td>-1</td>\n",
       "      <td>0</td>\n",
       "      <td>0.000000</td>\n",
       "      <td>0</td>\n",
       "      <td>0.000000</td>\n",
       "      <td>0</td>\n",
       "      <td>0</td>\n",
       "      <td>244.75</td>\n",
       "      <td>1</td>\n",
       "      <td>1466</td>\n",
       "      <td>0.444336</td>\n",
       "      <td>0.0</td>\n",
       "    </tr>\n",
       "    <tr>\n",
       "      <th>1</th>\n",
       "      <td>eef90569b9d03c</td>\n",
       "      <td>684d5656442f9e</td>\n",
       "      <td>aeb375fc57110c</td>\n",
       "      <td>0</td>\n",
       "      <td>0</td>\n",
       "      <td>91.50000</td>\n",
       "      <td>0</td>\n",
       "      <td>0</td>\n",
       "      <td>0</td>\n",
       "      <td>57</td>\n",
       "      <td>0</td>\n",
       "      <td>0</td>\n",
       "      <td>0</td>\n",
       "      <td>0.00000</td>\n",
       "      <td>1777</td>\n",
       "      <td>squad-fpp</td>\n",
       "      <td>26</td>\n",
       "      <td>25</td>\n",
       "      <td>1484</td>\n",
       "      <td>0</td>\n",
       "      <td>0.004501</td>\n",
       "      <td>0</td>\n",
       "      <td>11.039062</td>\n",
       "      <td>0</td>\n",
       "      <td>0</td>\n",
       "      <td>1434.00</td>\n",
       "      <td>5</td>\n",
       "      <td>0</td>\n",
       "      <td>0.640137</td>\n",
       "      <td>0.0</td>\n",
       "    </tr>\n",
       "    <tr>\n",
       "      <th>2</th>\n",
       "      <td>1eaf90ac73de72</td>\n",
       "      <td>6a4a42c3245a74</td>\n",
       "      <td>110163d8bb94ae</td>\n",
       "      <td>1</td>\n",
       "      <td>0</td>\n",
       "      <td>68.00000</td>\n",
       "      <td>0</td>\n",
       "      <td>0</td>\n",
       "      <td>0</td>\n",
       "      <td>47</td>\n",
       "      <td>0</td>\n",
       "      <td>0</td>\n",
       "      <td>0</td>\n",
       "      <td>0.00000</td>\n",
       "      <td>1318</td>\n",
       "      <td>duo</td>\n",
       "      <td>50</td>\n",
       "      <td>47</td>\n",
       "      <td>1491</td>\n",
       "      <td>0</td>\n",
       "      <td>0.000000</td>\n",
       "      <td>0</td>\n",
       "      <td>0.000000</td>\n",
       "      <td>0</td>\n",
       "      <td>0</td>\n",
       "      <td>161.75</td>\n",
       "      <td>2</td>\n",
       "      <td>0</td>\n",
       "      <td>0.775391</td>\n",
       "      <td>0.0</td>\n",
       "    </tr>\n",
       "    <tr>\n",
       "      <th>3</th>\n",
       "      <td>4616d365dd2853</td>\n",
       "      <td>a930a9c79cd721</td>\n",
       "      <td>f1f1f4ef412d7e</td>\n",
       "      <td>0</td>\n",
       "      <td>0</td>\n",
       "      <td>32.90625</td>\n",
       "      <td>0</td>\n",
       "      <td>0</td>\n",
       "      <td>0</td>\n",
       "      <td>75</td>\n",
       "      <td>0</td>\n",
       "      <td>0</td>\n",
       "      <td>0</td>\n",
       "      <td>0.00000</td>\n",
       "      <td>1436</td>\n",
       "      <td>squad-fpp</td>\n",
       "      <td>31</td>\n",
       "      <td>30</td>\n",
       "      <td>1408</td>\n",
       "      <td>0</td>\n",
       "      <td>0.000000</td>\n",
       "      <td>0</td>\n",
       "      <td>0.000000</td>\n",
       "      <td>0</td>\n",
       "      <td>0</td>\n",
       "      <td>202.75</td>\n",
       "      <td>3</td>\n",
       "      <td>0</td>\n",
       "      <td>0.166748</td>\n",
       "      <td>0.0</td>\n",
       "    </tr>\n",
       "    <tr>\n",
       "      <th>4</th>\n",
       "      <td>315c96c26c9aac</td>\n",
       "      <td>de04010b3458dd</td>\n",
       "      <td>6dc8ff871e21e6</td>\n",
       "      <td>0</td>\n",
       "      <td>0</td>\n",
       "      <td>100.00000</td>\n",
       "      <td>0</td>\n",
       "      <td>0</td>\n",
       "      <td>0</td>\n",
       "      <td>45</td>\n",
       "      <td>0</td>\n",
       "      <td>1</td>\n",
       "      <td>1</td>\n",
       "      <td>58.53125</td>\n",
       "      <td>1424</td>\n",
       "      <td>solo-fpp</td>\n",
       "      <td>97</td>\n",
       "      <td>95</td>\n",
       "      <td>1560</td>\n",
       "      <td>0</td>\n",
       "      <td>0.000000</td>\n",
       "      <td>0</td>\n",
       "      <td>0.000000</td>\n",
       "      <td>0</td>\n",
       "      <td>0</td>\n",
       "      <td>49.75</td>\n",
       "      <td>2</td>\n",
       "      <td>0</td>\n",
       "      <td>0.187500</td>\n",
       "      <td>0.0</td>\n",
       "    </tr>\n",
       "  </tbody>\n",
       "</table>\n",
       "</div>"
      ],
      "text/plain": [
       "               Id         groupId         matchId  assists  boosts  damageDealt  DBNOs  headshotKills  heals  killPlace  killPoints  kills  killStreaks  longestKill  matchDuration  matchType  maxPlace  numGroups  rankPoints  revives  rideDistance  roadKills  swimDistance  teamKills  vehicleDestroys  walkDistance  weaponsAcquired  winPoints  winPlacePerc  headshotPercentage\n",
       "0  7f96b2f878858a  4d4b580de459be  a10357fd1a4a91        0       0      0.00000      0              0      0         60        1241      0            0      0.00000           1306  squad-fpp        28         26          -1        0      0.000000          0      0.000000          0                0        244.75                1       1466      0.444336                 0.0\n",
       "1  eef90569b9d03c  684d5656442f9e  aeb375fc57110c        0       0     91.50000      0              0      0         57           0      0            0      0.00000           1777  squad-fpp        26         25        1484        0      0.004501          0     11.039062          0                0       1434.00                5          0      0.640137                 0.0\n",
       "2  1eaf90ac73de72  6a4a42c3245a74  110163d8bb94ae        1       0     68.00000      0              0      0         47           0      0            0      0.00000           1318        duo        50         47        1491        0      0.000000          0      0.000000          0                0        161.75                2          0      0.775391                 0.0\n",
       "3  4616d365dd2853  a930a9c79cd721  f1f1f4ef412d7e        0       0     32.90625      0              0      0         75           0      0            0      0.00000           1436  squad-fpp        31         30        1408        0      0.000000          0      0.000000          0                0        202.75                3          0      0.166748                 0.0\n",
       "4  315c96c26c9aac  de04010b3458dd  6dc8ff871e21e6        0       0    100.00000      0              0      0         45           0      1            1     58.53125           1424   solo-fpp        97         95        1560        0      0.000000          0      0.000000          0                0         49.75                2          0      0.187500                 0.0"
      ]
     },
     "execution_count": 32,
     "metadata": {},
     "output_type": "execute_result"
    }
   ],
   "source": [
    "df_train.head()"
   ]
  },
  {
   "cell_type": "code",
   "execution_count": null,
   "metadata": {
    "colab": {
     "base_uri": "https://localhost:8080/",
     "height": 364
    },
    "execution": {
     "iopub.execute_input": "2022-04-26T17:08:51.675351Z",
     "iopub.status.busy": "2022-04-26T17:08:51.675058Z",
     "iopub.status.idle": "2022-04-26T17:08:54.668558Z",
     "shell.execute_reply": "2022-04-26T17:08:54.667870Z",
     "shell.execute_reply.started": "2022-04-26T17:08:51.675331Z"
    },
    "id": "JyJz4uXcqJvi",
    "outputId": "db83457a-a5f2-4347-ac9d-865cde1422e0",
    "tags": []
   },
   "outputs": [
    {
     "data": {
      "text/html": [
       "<div>\n",
       "<style scoped>\n",
       "    .dataframe tbody tr th:only-of-type {\n",
       "        vertical-align: middle;\n",
       "    }\n",
       "\n",
       "    .dataframe tbody tr th {\n",
       "        vertical-align: top;\n",
       "    }\n",
       "\n",
       "    .dataframe thead th {\n",
       "        text-align: right;\n",
       "    }\n",
       "</style>\n",
       "<table border=\"1\" class=\"dataframe\">\n",
       "  <thead>\n",
       "    <tr style=\"text-align: right;\">\n",
       "      <th></th>\n",
       "      <th>assists</th>\n",
       "      <th>boosts</th>\n",
       "      <th>damageDealt</th>\n",
       "      <th>DBNOs</th>\n",
       "      <th>headshotKills</th>\n",
       "      <th>heals</th>\n",
       "      <th>killPlace</th>\n",
       "      <th>killPoints</th>\n",
       "      <th>kills</th>\n",
       "      <th>killStreaks</th>\n",
       "      <th>longestKill</th>\n",
       "      <th>matchDuration</th>\n",
       "      <th>maxPlace</th>\n",
       "      <th>numGroups</th>\n",
       "      <th>rankPoints</th>\n",
       "      <th>revives</th>\n",
       "      <th>rideDistance</th>\n",
       "      <th>roadKills</th>\n",
       "      <th>swimDistance</th>\n",
       "      <th>teamKills</th>\n",
       "      <th>vehicleDestroys</th>\n",
       "      <th>walkDistance</th>\n",
       "      <th>weaponsAcquired</th>\n",
       "      <th>winPoints</th>\n",
       "      <th>winPlacePerc</th>\n",
       "      <th>headshotPercentage</th>\n",
       "    </tr>\n",
       "  </thead>\n",
       "  <tbody>\n",
       "    <tr>\n",
       "      <th>count</th>\n",
       "      <td>3.469847e+06</td>\n",
       "      <td>3.469847e+06</td>\n",
       "      <td>3.469847e+06</td>\n",
       "      <td>3.469847e+06</td>\n",
       "      <td>3.469847e+06</td>\n",
       "      <td>3.469847e+06</td>\n",
       "      <td>3.469847e+06</td>\n",
       "      <td>3.469847e+06</td>\n",
       "      <td>3.469847e+06</td>\n",
       "      <td>3.469847e+06</td>\n",
       "      <td>3.469847e+06</td>\n",
       "      <td>3.469847e+06</td>\n",
       "      <td>3.469847e+06</td>\n",
       "      <td>3.469847e+06</td>\n",
       "      <td>3.469847e+06</td>\n",
       "      <td>3.469847e+06</td>\n",
       "      <td>3469847.000</td>\n",
       "      <td>3.469847e+06</td>\n",
       "      <td>3469847.0</td>\n",
       "      <td>3.469847e+06</td>\n",
       "      <td>3.469847e+06</td>\n",
       "      <td>3.469847e+06</td>\n",
       "      <td>3.469847e+06</td>\n",
       "      <td>3.469847e+06</td>\n",
       "      <td>3.469847e+06</td>\n",
       "      <td>3.469847e+06</td>\n",
       "    </tr>\n",
       "    <tr>\n",
       "      <th>mean</th>\n",
       "      <td>2.383901e-01</td>\n",
       "      <td>1.131767e+00</td>\n",
       "      <td>NaN</td>\n",
       "      <td>6.718607e-01</td>\n",
       "      <td>2.316344e-01</td>\n",
       "      <td>1.402385e+00</td>\n",
       "      <td>4.682020e+01</td>\n",
       "      <td>5.064362e+02</td>\n",
       "      <td>9.446624e-01</td>\n",
       "      <td>5.557087e-01</td>\n",
       "      <td>NaN</td>\n",
       "      <td>1.580254e+03</td>\n",
       "      <td>4.450200e+01</td>\n",
       "      <td>4.304152e+01</td>\n",
       "      <td>8.922022e+02</td>\n",
       "      <td>1.682633e-01</td>\n",
       "      <td>NaN</td>\n",
       "      <td>3.084286e-03</td>\n",
       "      <td>NaN</td>\n",
       "      <td>2.396071e-02</td>\n",
       "      <td>7.964328e-03</td>\n",
       "      <td>NaN</td>\n",
       "      <td>3.734484e+00</td>\n",
       "      <td>6.076616e+02</td>\n",
       "      <td>NaN</td>\n",
       "      <td>1.054396e-01</td>\n",
       "    </tr>\n",
       "    <tr>\n",
       "      <th>std</th>\n",
       "      <td>5.927108e-01</td>\n",
       "      <td>1.727558e+00</td>\n",
       "      <td>NaN</td>\n",
       "      <td>1.153240e+00</td>\n",
       "      <td>6.027012e-01</td>\n",
       "      <td>2.705222e+00</td>\n",
       "      <td>2.705407e+01</td>\n",
       "      <td>6.284574e+02</td>\n",
       "      <td>1.561952e+00</td>\n",
       "      <td>7.132730e-01</td>\n",
       "      <td>NaN</td>\n",
       "      <td>2.572401e+02</td>\n",
       "      <td>2.377867e+01</td>\n",
       "      <td>2.321655e+01</td>\n",
       "      <td>7.368644e+02</td>\n",
       "      <td>4.768281e-01</td>\n",
       "      <td>NaN</td>\n",
       "      <td>6.590024e-02</td>\n",
       "      <td>NaN</td>\n",
       "      <td>1.680334e-01</td>\n",
       "      <td>9.259659e-02</td>\n",
       "      <td>NaN</td>\n",
       "      <td>2.415307e+00</td>\n",
       "      <td>7.404351e+02</td>\n",
       "      <td>0.000000e+00</td>\n",
       "      <td>2.628985e-01</td>\n",
       "    </tr>\n",
       "    <tr>\n",
       "      <th>min</th>\n",
       "      <td>0.000000e+00</td>\n",
       "      <td>0.000000e+00</td>\n",
       "      <td>0.000000e+00</td>\n",
       "      <td>0.000000e+00</td>\n",
       "      <td>0.000000e+00</td>\n",
       "      <td>0.000000e+00</td>\n",
       "      <td>1.000000e+00</td>\n",
       "      <td>0.000000e+00</td>\n",
       "      <td>0.000000e+00</td>\n",
       "      <td>0.000000e+00</td>\n",
       "      <td>0.000000e+00</td>\n",
       "      <td>1.330000e+02</td>\n",
       "      <td>2.000000e+00</td>\n",
       "      <td>1.000000e+00</td>\n",
       "      <td>-1.000000e+00</td>\n",
       "      <td>0.000000e+00</td>\n",
       "      <td>0.000</td>\n",
       "      <td>0.000000e+00</td>\n",
       "      <td>0.0</td>\n",
       "      <td>0.000000e+00</td>\n",
       "      <td>0.000000e+00</td>\n",
       "      <td>1.000166e-04</td>\n",
       "      <td>0.000000e+00</td>\n",
       "      <td>0.000000e+00</td>\n",
       "      <td>0.000000e+00</td>\n",
       "      <td>0.000000e+00</td>\n",
       "    </tr>\n",
       "    <tr>\n",
       "      <th>25%</th>\n",
       "      <td>0.000000e+00</td>\n",
       "      <td>0.000000e+00</td>\n",
       "      <td>0.000000e+00</td>\n",
       "      <td>0.000000e+00</td>\n",
       "      <td>0.000000e+00</td>\n",
       "      <td>0.000000e+00</td>\n",
       "      <td>2.300000e+01</td>\n",
       "      <td>0.000000e+00</td>\n",
       "      <td>0.000000e+00</td>\n",
       "      <td>0.000000e+00</td>\n",
       "      <td>0.000000e+00</td>\n",
       "      <td>1.367000e+03</td>\n",
       "      <td>2.800000e+01</td>\n",
       "      <td>2.700000e+01</td>\n",
       "      <td>-1.000000e+00</td>\n",
       "      <td>0.000000e+00</td>\n",
       "      <td>0.000</td>\n",
       "      <td>0.000000e+00</td>\n",
       "      <td>0.0</td>\n",
       "      <td>0.000000e+00</td>\n",
       "      <td>0.000000e+00</td>\n",
       "      <td>1.722500e+02</td>\n",
       "      <td>2.000000e+00</td>\n",
       "      <td>0.000000e+00</td>\n",
       "      <td>2.143555e-01</td>\n",
       "      <td>0.000000e+00</td>\n",
       "    </tr>\n",
       "    <tr>\n",
       "      <th>50%</th>\n",
       "      <td>0.000000e+00</td>\n",
       "      <td>0.000000e+00</td>\n",
       "      <td>8.818750e+01</td>\n",
       "      <td>0.000000e+00</td>\n",
       "      <td>0.000000e+00</td>\n",
       "      <td>0.000000e+00</td>\n",
       "      <td>4.700000e+01</td>\n",
       "      <td>0.000000e+00</td>\n",
       "      <td>0.000000e+00</td>\n",
       "      <td>0.000000e+00</td>\n",
       "      <td>0.000000e+00</td>\n",
       "      <td>1.438000e+03</td>\n",
       "      <td>3.000000e+01</td>\n",
       "      <td>3.000000e+01</td>\n",
       "      <td>1.444000e+03</td>\n",
       "      <td>0.000000e+00</td>\n",
       "      <td>0.000</td>\n",
       "      <td>0.000000e+00</td>\n",
       "      <td>0.0</td>\n",
       "      <td>0.000000e+00</td>\n",
       "      <td>0.000000e+00</td>\n",
       "      <td>7.340000e+02</td>\n",
       "      <td>3.000000e+00</td>\n",
       "      <td>0.000000e+00</td>\n",
       "      <td>4.680176e-01</td>\n",
       "      <td>0.000000e+00</td>\n",
       "    </tr>\n",
       "    <tr>\n",
       "      <th>75%</th>\n",
       "      <td>0.000000e+00</td>\n",
       "      <td>2.000000e+00</td>\n",
       "      <td>1.897500e+02</td>\n",
       "      <td>1.000000e+00</td>\n",
       "      <td>0.000000e+00</td>\n",
       "      <td>2.000000e+00</td>\n",
       "      <td>7.000000e+01</td>\n",
       "      <td>1.174000e+03</td>\n",
       "      <td>1.000000e+00</td>\n",
       "      <td>1.000000e+00</td>\n",
       "      <td>2.231250e+01</td>\n",
       "      <td>1.851000e+03</td>\n",
       "      <td>4.900000e+01</td>\n",
       "      <td>4.700000e+01</td>\n",
       "      <td>1.500000e+03</td>\n",
       "      <td>0.000000e+00</td>\n",
       "      <td>81.625</td>\n",
       "      <td>0.000000e+00</td>\n",
       "      <td>0.0</td>\n",
       "      <td>0.000000e+00</td>\n",
       "      <td>0.000000e+00</td>\n",
       "      <td>2.009000e+03</td>\n",
       "      <td>5.000000e+00</td>\n",
       "      <td>1.495000e+03</td>\n",
       "      <td>7.500000e-01</td>\n",
       "      <td>0.000000e+00</td>\n",
       "    </tr>\n",
       "    <tr>\n",
       "      <th>max</th>\n",
       "      <td>1.700000e+01</td>\n",
       "      <td>3.300000e+01</td>\n",
       "      <td>4.240000e+03</td>\n",
       "      <td>3.900000e+01</td>\n",
       "      <td>2.700000e+01</td>\n",
       "      <td>7.300000e+01</td>\n",
       "      <td>1.010000e+02</td>\n",
       "      <td>2.170000e+03</td>\n",
       "      <td>3.900000e+01</td>\n",
       "      <td>1.800000e+01</td>\n",
       "      <td>1.094000e+03</td>\n",
       "      <td>2.237000e+03</td>\n",
       "      <td>1.000000e+02</td>\n",
       "      <td>1.000000e+02</td>\n",
       "      <td>5.910000e+03</td>\n",
       "      <td>3.200000e+01</td>\n",
       "      <td>29424.000</td>\n",
       "      <td>1.800000e+01</td>\n",
       "      <td>1980.0</td>\n",
       "      <td>1.200000e+01</td>\n",
       "      <td>5.000000e+00</td>\n",
       "      <td>9.984000e+03</td>\n",
       "      <td>2.360000e+02</td>\n",
       "      <td>2.013000e+03</td>\n",
       "      <td>1.000000e+00</td>\n",
       "      <td>1.000000e+00</td>\n",
       "    </tr>\n",
       "  </tbody>\n",
       "</table>\n",
       "</div>"
      ],
      "text/plain": [
       "            assists        boosts   damageDealt         DBNOs  headshotKills         heals     killPlace    killPoints         kills   killStreaks   longestKill  matchDuration      maxPlace     numGroups    rankPoints       revives  rideDistance     roadKills  swimDistance     teamKills  vehicleDestroys  walkDistance  weaponsAcquired     winPoints  winPlacePerc  headshotPercentage\n",
       "count  3.469847e+06  3.469847e+06  3.469847e+06  3.469847e+06   3.469847e+06  3.469847e+06  3.469847e+06  3.469847e+06  3.469847e+06  3.469847e+06  3.469847e+06   3.469847e+06  3.469847e+06  3.469847e+06  3.469847e+06  3.469847e+06   3469847.000  3.469847e+06     3469847.0  3.469847e+06     3.469847e+06  3.469847e+06     3.469847e+06  3.469847e+06  3.469847e+06        3.469847e+06\n",
       "mean   2.383901e-01  1.131767e+00           NaN  6.718607e-01   2.316344e-01  1.402385e+00  4.682020e+01  5.064362e+02  9.446624e-01  5.557087e-01           NaN   1.580254e+03  4.450200e+01  4.304152e+01  8.922022e+02  1.682633e-01           NaN  3.084286e-03           NaN  2.396071e-02     7.964328e-03           NaN     3.734484e+00  6.076616e+02           NaN        1.054396e-01\n",
       "std    5.927108e-01  1.727558e+00           NaN  1.153240e+00   6.027012e-01  2.705222e+00  2.705407e+01  6.284574e+02  1.561952e+00  7.132730e-01           NaN   2.572401e+02  2.377867e+01  2.321655e+01  7.368644e+02  4.768281e-01           NaN  6.590024e-02           NaN  1.680334e-01     9.259659e-02           NaN     2.415307e+00  7.404351e+02  0.000000e+00        2.628985e-01\n",
       "min    0.000000e+00  0.000000e+00  0.000000e+00  0.000000e+00   0.000000e+00  0.000000e+00  1.000000e+00  0.000000e+00  0.000000e+00  0.000000e+00  0.000000e+00   1.330000e+02  2.000000e+00  1.000000e+00 -1.000000e+00  0.000000e+00         0.000  0.000000e+00           0.0  0.000000e+00     0.000000e+00  1.000166e-04     0.000000e+00  0.000000e+00  0.000000e+00        0.000000e+00\n",
       "25%    0.000000e+00  0.000000e+00  0.000000e+00  0.000000e+00   0.000000e+00  0.000000e+00  2.300000e+01  0.000000e+00  0.000000e+00  0.000000e+00  0.000000e+00   1.367000e+03  2.800000e+01  2.700000e+01 -1.000000e+00  0.000000e+00         0.000  0.000000e+00           0.0  0.000000e+00     0.000000e+00  1.722500e+02     2.000000e+00  0.000000e+00  2.143555e-01        0.000000e+00\n",
       "50%    0.000000e+00  0.000000e+00  8.818750e+01  0.000000e+00   0.000000e+00  0.000000e+00  4.700000e+01  0.000000e+00  0.000000e+00  0.000000e+00  0.000000e+00   1.438000e+03  3.000000e+01  3.000000e+01  1.444000e+03  0.000000e+00         0.000  0.000000e+00           0.0  0.000000e+00     0.000000e+00  7.340000e+02     3.000000e+00  0.000000e+00  4.680176e-01        0.000000e+00\n",
       "75%    0.000000e+00  2.000000e+00  1.897500e+02  1.000000e+00   0.000000e+00  2.000000e+00  7.000000e+01  1.174000e+03  1.000000e+00  1.000000e+00  2.231250e+01   1.851000e+03  4.900000e+01  4.700000e+01  1.500000e+03  0.000000e+00        81.625  0.000000e+00           0.0  0.000000e+00     0.000000e+00  2.009000e+03     5.000000e+00  1.495000e+03  7.500000e-01        0.000000e+00\n",
       "max    1.700000e+01  3.300000e+01  4.240000e+03  3.900000e+01   2.700000e+01  7.300000e+01  1.010000e+02  2.170000e+03  3.900000e+01  1.800000e+01  1.094000e+03   2.237000e+03  1.000000e+02  1.000000e+02  5.910000e+03  3.200000e+01     29424.000  1.800000e+01        1980.0  1.200000e+01     5.000000e+00  9.984000e+03     2.360000e+02  2.013000e+03  1.000000e+00        1.000000e+00"
      ]
     },
     "execution_count": 33,
     "metadata": {},
     "output_type": "execute_result"
    }
   ],
   "source": [
    "df_train.describe()"
   ]
  },
  {
   "cell_type": "markdown",
   "metadata": {
    "id": "ge0vkXhFsTYB",
    "tags": []
   },
   "source": [
    "### Test data"
   ]
  },
  {
   "cell_type": "code",
   "execution_count": null,
   "metadata": {
    "colab": {
     "base_uri": "https://localhost:8080/",
     "height": 288
    },
    "execution": {
     "iopub.execute_input": "2022-04-26T17:08:54.669784Z",
     "iopub.status.busy": "2022-04-26T17:08:54.669621Z",
     "iopub.status.idle": "2022-04-26T17:08:54.686866Z",
     "shell.execute_reply": "2022-04-26T17:08:54.686238Z",
     "shell.execute_reply.started": "2022-04-26T17:08:54.669766Z"
    },
    "id": "Tg1U9viNs3tO",
    "outputId": "1d4cae35-4ba1-4b03-8c04-c5190274c6ec",
    "tags": []
   },
   "outputs": [
    {
     "data": {
      "text/html": [
       "<div>\n",
       "<style scoped>\n",
       "    .dataframe tbody tr th:only-of-type {\n",
       "        vertical-align: middle;\n",
       "    }\n",
       "\n",
       "    .dataframe tbody tr th {\n",
       "        vertical-align: top;\n",
       "    }\n",
       "\n",
       "    .dataframe thead th {\n",
       "        text-align: right;\n",
       "    }\n",
       "</style>\n",
       "<table border=\"1\" class=\"dataframe\">\n",
       "  <thead>\n",
       "    <tr style=\"text-align: right;\">\n",
       "      <th></th>\n",
       "      <th>Id</th>\n",
       "      <th>groupId</th>\n",
       "      <th>matchId</th>\n",
       "      <th>assists</th>\n",
       "      <th>boosts</th>\n",
       "      <th>damageDealt</th>\n",
       "      <th>DBNOs</th>\n",
       "      <th>headshotKills</th>\n",
       "      <th>heals</th>\n",
       "      <th>killPlace</th>\n",
       "      <th>killPoints</th>\n",
       "      <th>kills</th>\n",
       "      <th>killStreaks</th>\n",
       "      <th>longestKill</th>\n",
       "      <th>matchDuration</th>\n",
       "      <th>matchType</th>\n",
       "      <th>maxPlace</th>\n",
       "      <th>numGroups</th>\n",
       "      <th>rankPoints</th>\n",
       "      <th>revives</th>\n",
       "      <th>rideDistance</th>\n",
       "      <th>roadKills</th>\n",
       "      <th>swimDistance</th>\n",
       "      <th>teamKills</th>\n",
       "      <th>vehicleDestroys</th>\n",
       "      <th>walkDistance</th>\n",
       "      <th>weaponsAcquired</th>\n",
       "      <th>winPoints</th>\n",
       "      <th>winPlacePerc</th>\n",
       "      <th>headshotPercentage</th>\n",
       "    </tr>\n",
       "  </thead>\n",
       "  <tbody>\n",
       "    <tr>\n",
       "      <th>7</th>\n",
       "      <td>311b84c6ff4390</td>\n",
       "      <td>eaba5fcb7fc1ae</td>\n",
       "      <td>292611730ca862</td>\n",
       "      <td>0</td>\n",
       "      <td>0</td>\n",
       "      <td>8.539062</td>\n",
       "      <td>0</td>\n",
       "      <td>0</td>\n",
       "      <td>0</td>\n",
       "      <td>48</td>\n",
       "      <td>1000</td>\n",
       "      <td>0</td>\n",
       "      <td>0</td>\n",
       "      <td>0.000000</td>\n",
       "      <td>1967</td>\n",
       "      <td>solo-fpp</td>\n",
       "      <td>96</td>\n",
       "      <td>92</td>\n",
       "      <td>-1</td>\n",
       "      <td>0</td>\n",
       "      <td>2004.0</td>\n",
       "      <td>0</td>\n",
       "      <td>0.00000</td>\n",
       "      <td>0</td>\n",
       "      <td>0</td>\n",
       "      <td>1089.00</td>\n",
       "      <td>6</td>\n",
       "      <td>1500</td>\n",
       "      <td>0.736816</td>\n",
       "      <td>0.00</td>\n",
       "    </tr>\n",
       "    <tr>\n",
       "      <th>19</th>\n",
       "      <td>71cbdbc3b263e5</td>\n",
       "      <td>7b61f74b51906c</td>\n",
       "      <td>a329ac99449ad7</td>\n",
       "      <td>0</td>\n",
       "      <td>1</td>\n",
       "      <td>65.250000</td>\n",
       "      <td>0</td>\n",
       "      <td>0</td>\n",
       "      <td>1</td>\n",
       "      <td>48</td>\n",
       "      <td>1349</td>\n",
       "      <td>0</td>\n",
       "      <td>0</td>\n",
       "      <td>0.000000</td>\n",
       "      <td>1322</td>\n",
       "      <td>squad-fpp</td>\n",
       "      <td>30</td>\n",
       "      <td>28</td>\n",
       "      <td>0</td>\n",
       "      <td>0</td>\n",
       "      <td>0.0</td>\n",
       "      <td>0</td>\n",
       "      <td>20.84375</td>\n",
       "      <td>0</td>\n",
       "      <td>0</td>\n",
       "      <td>3310.00</td>\n",
       "      <td>3</td>\n",
       "      <td>1479</td>\n",
       "      <td>0.931152</td>\n",
       "      <td>0.00</td>\n",
       "    </tr>\n",
       "    <tr>\n",
       "      <th>28</th>\n",
       "      <td>f9473c4f1cfdc4</td>\n",
       "      <td>8483976f3ba230</td>\n",
       "      <td>6057f846f3ed12</td>\n",
       "      <td>0</td>\n",
       "      <td>6</td>\n",
       "      <td>345.500000</td>\n",
       "      <td>2</td>\n",
       "      <td>1</td>\n",
       "      <td>1</td>\n",
       "      <td>6</td>\n",
       "      <td>0</td>\n",
       "      <td>4</td>\n",
       "      <td>1</td>\n",
       "      <td>105.187500</td>\n",
       "      <td>1339</td>\n",
       "      <td>squad-fpp</td>\n",
       "      <td>28</td>\n",
       "      <td>28</td>\n",
       "      <td>1339</td>\n",
       "      <td>0</td>\n",
       "      <td>0.0</td>\n",
       "      <td>0</td>\n",
       "      <td>0.00000</td>\n",
       "      <td>0</td>\n",
       "      <td>0</td>\n",
       "      <td>3856.00</td>\n",
       "      <td>4</td>\n",
       "      <td>0</td>\n",
       "      <td>0.962891</td>\n",
       "      <td>0.25</td>\n",
       "    </tr>\n",
       "    <tr>\n",
       "      <th>35</th>\n",
       "      <td>47143f942503e0</td>\n",
       "      <td>e17a8867a393ec</td>\n",
       "      <td>bc2faecb77e5ec</td>\n",
       "      <td>0</td>\n",
       "      <td>0</td>\n",
       "      <td>136.875000</td>\n",
       "      <td>0</td>\n",
       "      <td>0</td>\n",
       "      <td>0</td>\n",
       "      <td>37</td>\n",
       "      <td>0</td>\n",
       "      <td>1</td>\n",
       "      <td>1</td>\n",
       "      <td>22.828125</td>\n",
       "      <td>1425</td>\n",
       "      <td>solo-fpp</td>\n",
       "      <td>96</td>\n",
       "      <td>94</td>\n",
       "      <td>1500</td>\n",
       "      <td>0</td>\n",
       "      <td>0.0</td>\n",
       "      <td>0</td>\n",
       "      <td>0.00000</td>\n",
       "      <td>0</td>\n",
       "      <td>0</td>\n",
       "      <td>270.75</td>\n",
       "      <td>1</td>\n",
       "      <td>0</td>\n",
       "      <td>0.347412</td>\n",
       "      <td>0.00</td>\n",
       "    </tr>\n",
       "    <tr>\n",
       "      <th>40</th>\n",
       "      <td>ffd9e56f13438e</td>\n",
       "      <td>8df2112760f9e2</td>\n",
       "      <td>3f8b160eeee685</td>\n",
       "      <td>0</td>\n",
       "      <td>1</td>\n",
       "      <td>61.906250</td>\n",
       "      <td>1</td>\n",
       "      <td>0</td>\n",
       "      <td>1</td>\n",
       "      <td>31</td>\n",
       "      <td>0</td>\n",
       "      <td>1</td>\n",
       "      <td>1</td>\n",
       "      <td>48.406250</td>\n",
       "      <td>1303</td>\n",
       "      <td>squad</td>\n",
       "      <td>26</td>\n",
       "      <td>25</td>\n",
       "      <td>1472</td>\n",
       "      <td>0</td>\n",
       "      <td>529.0</td>\n",
       "      <td>0</td>\n",
       "      <td>0.00000</td>\n",
       "      <td>0</td>\n",
       "      <td>0</td>\n",
       "      <td>327.25</td>\n",
       "      <td>2</td>\n",
       "      <td>0</td>\n",
       "      <td>0.320068</td>\n",
       "      <td>0.00</td>\n",
       "    </tr>\n",
       "  </tbody>\n",
       "</table>\n",
       "</div>"
      ],
      "text/plain": [
       "                Id         groupId         matchId  assists  boosts  damageDealt  DBNOs  headshotKills  heals  killPlace  killPoints  kills  killStreaks  longestKill  matchDuration  matchType  maxPlace  numGroups  rankPoints  revives  rideDistance  roadKills  swimDistance  teamKills  vehicleDestroys  walkDistance  weaponsAcquired  winPoints  winPlacePerc  headshotPercentage\n",
       "7   311b84c6ff4390  eaba5fcb7fc1ae  292611730ca862        0       0     8.539062      0              0      0         48        1000      0            0     0.000000           1967   solo-fpp        96         92          -1        0        2004.0          0       0.00000          0                0       1089.00                6       1500      0.736816                0.00\n",
       "19  71cbdbc3b263e5  7b61f74b51906c  a329ac99449ad7        0       1    65.250000      0              0      1         48        1349      0            0     0.000000           1322  squad-fpp        30         28           0        0           0.0          0      20.84375          0                0       3310.00                3       1479      0.931152                0.00\n",
       "28  f9473c4f1cfdc4  8483976f3ba230  6057f846f3ed12        0       6   345.500000      2              1      1          6           0      4            1   105.187500           1339  squad-fpp        28         28        1339        0           0.0          0       0.00000          0                0       3856.00                4          0      0.962891                0.25\n",
       "35  47143f942503e0  e17a8867a393ec  bc2faecb77e5ec        0       0   136.875000      0              0      0         37           0      1            1    22.828125           1425   solo-fpp        96         94        1500        0           0.0          0       0.00000          0                0        270.75                1          0      0.347412                0.00\n",
       "40  ffd9e56f13438e  8df2112760f9e2  3f8b160eeee685        0       1    61.906250      1              0      1         31           0      1            1    48.406250           1303      squad        26         25        1472        0         529.0          0       0.00000          0                0        327.25                2          0      0.320068                0.00"
      ]
     },
     "execution_count": 34,
     "metadata": {},
     "output_type": "execute_result"
    }
   ],
   "source": [
    "df_test.head()"
   ]
  },
  {
   "cell_type": "code",
   "execution_count": null,
   "metadata": {
    "colab": {
     "base_uri": "https://localhost:8080/",
     "height": 393
    },
    "execution": {
     "iopub.execute_input": "2022-04-26T17:08:54.687969Z",
     "iopub.status.busy": "2022-04-26T17:08:54.687795Z",
     "iopub.status.idle": "2022-04-26T17:08:55.481522Z",
     "shell.execute_reply": "2022-04-26T17:08:55.480718Z",
     "shell.execute_reply.started": "2022-04-26T17:08:54.687950Z"
    },
    "id": "Ynsxq32VzVrS",
    "outputId": "cbfc473a-9f57-47ed-c066-60d56645b6d3",
    "tags": []
   },
   "outputs": [
    {
     "data": {
      "text/html": [
       "<div>\n",
       "<style scoped>\n",
       "    .dataframe tbody tr th:only-of-type {\n",
       "        vertical-align: middle;\n",
       "    }\n",
       "\n",
       "    .dataframe tbody tr th {\n",
       "        vertical-align: top;\n",
       "    }\n",
       "\n",
       "    .dataframe thead th {\n",
       "        text-align: right;\n",
       "    }\n",
       "</style>\n",
       "<table border=\"1\" class=\"dataframe\">\n",
       "  <thead>\n",
       "    <tr style=\"text-align: right;\">\n",
       "      <th></th>\n",
       "      <th>assists</th>\n",
       "      <th>boosts</th>\n",
       "      <th>damageDealt</th>\n",
       "      <th>DBNOs</th>\n",
       "      <th>headshotKills</th>\n",
       "      <th>heals</th>\n",
       "      <th>killPlace</th>\n",
       "      <th>killPoints</th>\n",
       "      <th>kills</th>\n",
       "      <th>killStreaks</th>\n",
       "      <th>longestKill</th>\n",
       "      <th>matchDuration</th>\n",
       "      <th>maxPlace</th>\n",
       "      <th>numGroups</th>\n",
       "      <th>rankPoints</th>\n",
       "      <th>revives</th>\n",
       "      <th>rideDistance</th>\n",
       "      <th>roadKills</th>\n",
       "      <th>swimDistance</th>\n",
       "      <th>teamKills</th>\n",
       "      <th>vehicleDestroys</th>\n",
       "      <th>walkDistance</th>\n",
       "      <th>weaponsAcquired</th>\n",
       "      <th>winPoints</th>\n",
       "      <th>winPlacePerc</th>\n",
       "      <th>headshotPercentage</th>\n",
       "    </tr>\n",
       "  </thead>\n",
       "  <tbody>\n",
       "    <tr>\n",
       "      <th>count</th>\n",
       "      <td>867565.000000</td>\n",
       "      <td>867565.000000</td>\n",
       "      <td>867565.000</td>\n",
       "      <td>867565.000000</td>\n",
       "      <td>867565.000000</td>\n",
       "      <td>867565.000000</td>\n",
       "      <td>867565.000000</td>\n",
       "      <td>867565.000000</td>\n",
       "      <td>867565.000000</td>\n",
       "      <td>867565.000000</td>\n",
       "      <td>867565.000000</td>\n",
       "      <td>867565.000000</td>\n",
       "      <td>867565.000000</td>\n",
       "      <td>867565.000000</td>\n",
       "      <td>867565.000000</td>\n",
       "      <td>867565.000000</td>\n",
       "      <td>867565.0000</td>\n",
       "      <td>867565.000000</td>\n",
       "      <td>867565.0</td>\n",
       "      <td>867565.000000</td>\n",
       "      <td>867565.000000</td>\n",
       "      <td>867565.0000</td>\n",
       "      <td>867565.000000</td>\n",
       "      <td>867565.000000</td>\n",
       "      <td>867565.000000</td>\n",
       "      <td>867565.000000</td>\n",
       "    </tr>\n",
       "    <tr>\n",
       "      <th>mean</th>\n",
       "      <td>0.238522</td>\n",
       "      <td>1.131575</td>\n",
       "      <td>NaN</td>\n",
       "      <td>0.675299</td>\n",
       "      <td>0.231425</td>\n",
       "      <td>1.392457</td>\n",
       "      <td>46.833276</td>\n",
       "      <td>515.209303</td>\n",
       "      <td>0.940653</td>\n",
       "      <td>0.556460</td>\n",
       "      <td>NaN</td>\n",
       "      <td>1580.545062</td>\n",
       "      <td>44.283254</td>\n",
       "      <td>42.829447</td>\n",
       "      <td>880.640411</td>\n",
       "      <td>0.169433</td>\n",
       "      <td>NaN</td>\n",
       "      <td>0.003108</td>\n",
       "      <td>NaN</td>\n",
       "      <td>0.023577</td>\n",
       "      <td>0.008021</td>\n",
       "      <td>NaN</td>\n",
       "      <td>3.720321</td>\n",
       "      <td>618.834212</td>\n",
       "      <td>NaN</td>\n",
       "      <td>0.105714</td>\n",
       "    </tr>\n",
       "    <tr>\n",
       "      <th>std</th>\n",
       "      <td>0.587974</td>\n",
       "      <td>1.724802</td>\n",
       "      <td>NaN</td>\n",
       "      <td>1.147718</td>\n",
       "      <td>0.600599</td>\n",
       "      <td>2.686267</td>\n",
       "      <td>27.049054</td>\n",
       "      <td>629.828682</td>\n",
       "      <td>1.542626</td>\n",
       "      <td>0.714488</td>\n",
       "      <td>NaN</td>\n",
       "      <td>257.405717</td>\n",
       "      <td>23.582118</td>\n",
       "      <td>23.000790</td>\n",
       "      <td>738.636207</td>\n",
       "      <td>0.476911</td>\n",
       "      <td>NaN</td>\n",
       "      <td>0.065496</td>\n",
       "      <td>NaN</td>\n",
       "      <td>0.165959</td>\n",
       "      <td>0.093134</td>\n",
       "      <td>NaN</td>\n",
       "      <td>2.352038</td>\n",
       "      <td>742.563683</td>\n",
       "      <td>0.000000</td>\n",
       "      <td>0.263227</td>\n",
       "    </tr>\n",
       "    <tr>\n",
       "      <th>min</th>\n",
       "      <td>0.000000</td>\n",
       "      <td>0.000000</td>\n",
       "      <td>0.000</td>\n",
       "      <td>0.000000</td>\n",
       "      <td>0.000000</td>\n",
       "      <td>0.000000</td>\n",
       "      <td>1.000000</td>\n",
       "      <td>0.000000</td>\n",
       "      <td>0.000000</td>\n",
       "      <td>0.000000</td>\n",
       "      <td>0.000000</td>\n",
       "      <td>312.000000</td>\n",
       "      <td>2.000000</td>\n",
       "      <td>1.000000</td>\n",
       "      <td>-1.000000</td>\n",
       "      <td>0.000000</td>\n",
       "      <td>0.0000</td>\n",
       "      <td>0.000000</td>\n",
       "      <td>0.0</td>\n",
       "      <td>0.000000</td>\n",
       "      <td>0.000000</td>\n",
       "      <td>0.0001</td>\n",
       "      <td>0.000000</td>\n",
       "      <td>0.000000</td>\n",
       "      <td>0.000000</td>\n",
       "      <td>0.000000</td>\n",
       "    </tr>\n",
       "    <tr>\n",
       "      <th>25%</th>\n",
       "      <td>0.000000</td>\n",
       "      <td>0.000000</td>\n",
       "      <td>0.000</td>\n",
       "      <td>0.000000</td>\n",
       "      <td>0.000000</td>\n",
       "      <td>0.000000</td>\n",
       "      <td>23.000000</td>\n",
       "      <td>0.000000</td>\n",
       "      <td>0.000000</td>\n",
       "      <td>0.000000</td>\n",
       "      <td>0.000000</td>\n",
       "      <td>1367.000000</td>\n",
       "      <td>28.000000</td>\n",
       "      <td>27.000000</td>\n",
       "      <td>-1.000000</td>\n",
       "      <td>0.000000</td>\n",
       "      <td>0.0000</td>\n",
       "      <td>0.000000</td>\n",
       "      <td>0.0</td>\n",
       "      <td>0.000000</td>\n",
       "      <td>0.000000</td>\n",
       "      <td>171.7500</td>\n",
       "      <td>2.000000</td>\n",
       "      <td>0.000000</td>\n",
       "      <td>0.214355</td>\n",
       "      <td>0.000000</td>\n",
       "    </tr>\n",
       "    <tr>\n",
       "      <th>50%</th>\n",
       "      <td>0.000000</td>\n",
       "      <td>0.000000</td>\n",
       "      <td>88.750</td>\n",
       "      <td>0.000000</td>\n",
       "      <td>0.000000</td>\n",
       "      <td>0.000000</td>\n",
       "      <td>47.000000</td>\n",
       "      <td>0.000000</td>\n",
       "      <td>0.000000</td>\n",
       "      <td>0.000000</td>\n",
       "      <td>0.000000</td>\n",
       "      <td>1438.000000</td>\n",
       "      <td>30.000000</td>\n",
       "      <td>30.000000</td>\n",
       "      <td>1438.000000</td>\n",
       "      <td>0.000000</td>\n",
       "      <td>0.0000</td>\n",
       "      <td>0.000000</td>\n",
       "      <td>0.0</td>\n",
       "      <td>0.000000</td>\n",
       "      <td>0.000000</td>\n",
       "      <td>731.5000</td>\n",
       "      <td>3.000000</td>\n",
       "      <td>0.000000</td>\n",
       "      <td>0.466797</td>\n",
       "      <td>0.000000</td>\n",
       "    </tr>\n",
       "    <tr>\n",
       "      <th>75%</th>\n",
       "      <td>0.000000</td>\n",
       "      <td>2.000000</td>\n",
       "      <td>189.625</td>\n",
       "      <td>1.000000</td>\n",
       "      <td>0.000000</td>\n",
       "      <td>2.000000</td>\n",
       "      <td>70.000000</td>\n",
       "      <td>1178.000000</td>\n",
       "      <td>1.000000</td>\n",
       "      <td>1.000000</td>\n",
       "      <td>22.296875</td>\n",
       "      <td>1851.000000</td>\n",
       "      <td>49.000000</td>\n",
       "      <td>47.000000</td>\n",
       "      <td>1500.000000</td>\n",
       "      <td>0.000000</td>\n",
       "      <td>59.6875</td>\n",
       "      <td>0.000000</td>\n",
       "      <td>0.0</td>\n",
       "      <td>0.000000</td>\n",
       "      <td>0.000000</td>\n",
       "      <td>2011.0000</td>\n",
       "      <td>5.000000</td>\n",
       "      <td>1497.000000</td>\n",
       "      <td>0.750000</td>\n",
       "      <td>0.000000</td>\n",
       "    </tr>\n",
       "    <tr>\n",
       "      <th>max</th>\n",
       "      <td>17.000000</td>\n",
       "      <td>23.000000</td>\n",
       "      <td>4080.000</td>\n",
       "      <td>26.000000</td>\n",
       "      <td>23.000000</td>\n",
       "      <td>80.000000</td>\n",
       "      <td>100.000000</td>\n",
       "      <td>2154.000000</td>\n",
       "      <td>38.000000</td>\n",
       "      <td>11.000000</td>\n",
       "      <td>1000.000000</td>\n",
       "      <td>2218.000000</td>\n",
       "      <td>100.000000</td>\n",
       "      <td>100.000000</td>\n",
       "      <td>5820.000000</td>\n",
       "      <td>39.000000</td>\n",
       "      <td>28448.0000</td>\n",
       "      <td>11.000000</td>\n",
       "      <td>1960.0</td>\n",
       "      <td>4.000000</td>\n",
       "      <td>3.000000</td>\n",
       "      <td>9992.0000</td>\n",
       "      <td>95.000000</td>\n",
       "      <td>2002.000000</td>\n",
       "      <td>1.000000</td>\n",
       "      <td>1.000000</td>\n",
       "    </tr>\n",
       "  </tbody>\n",
       "</table>\n",
       "</div>"
      ],
      "text/plain": [
       "             assists         boosts  damageDealt          DBNOs  headshotKills          heals      killPlace     killPoints          kills    killStreaks    longestKill  matchDuration       maxPlace      numGroups     rankPoints        revives  rideDistance      roadKills  swimDistance      teamKills  vehicleDestroys  walkDistance  weaponsAcquired      winPoints   winPlacePerc  headshotPercentage\n",
       "count  867565.000000  867565.000000   867565.000  867565.000000  867565.000000  867565.000000  867565.000000  867565.000000  867565.000000  867565.000000  867565.000000  867565.000000  867565.000000  867565.000000  867565.000000  867565.000000   867565.0000  867565.000000      867565.0  867565.000000    867565.000000   867565.0000    867565.000000  867565.000000  867565.000000       867565.000000\n",
       "mean        0.238522       1.131575          NaN       0.675299       0.231425       1.392457      46.833276     515.209303       0.940653       0.556460            NaN    1580.545062      44.283254      42.829447     880.640411       0.169433           NaN       0.003108           NaN       0.023577         0.008021           NaN         3.720321     618.834212            NaN            0.105714\n",
       "std         0.587974       1.724802          NaN       1.147718       0.600599       2.686267      27.049054     629.828682       1.542626       0.714488            NaN     257.405717      23.582118      23.000790     738.636207       0.476911           NaN       0.065496           NaN       0.165959         0.093134           NaN         2.352038     742.563683       0.000000            0.263227\n",
       "min         0.000000       0.000000        0.000       0.000000       0.000000       0.000000       1.000000       0.000000       0.000000       0.000000       0.000000     312.000000       2.000000       1.000000      -1.000000       0.000000        0.0000       0.000000           0.0       0.000000         0.000000        0.0001         0.000000       0.000000       0.000000            0.000000\n",
       "25%         0.000000       0.000000        0.000       0.000000       0.000000       0.000000      23.000000       0.000000       0.000000       0.000000       0.000000    1367.000000      28.000000      27.000000      -1.000000       0.000000        0.0000       0.000000           0.0       0.000000         0.000000      171.7500         2.000000       0.000000       0.214355            0.000000\n",
       "50%         0.000000       0.000000       88.750       0.000000       0.000000       0.000000      47.000000       0.000000       0.000000       0.000000       0.000000    1438.000000      30.000000      30.000000    1438.000000       0.000000        0.0000       0.000000           0.0       0.000000         0.000000      731.5000         3.000000       0.000000       0.466797            0.000000\n",
       "75%         0.000000       2.000000      189.625       1.000000       0.000000       2.000000      70.000000    1178.000000       1.000000       1.000000      22.296875    1851.000000      49.000000      47.000000    1500.000000       0.000000       59.6875       0.000000           0.0       0.000000         0.000000     2011.0000         5.000000    1497.000000       0.750000            0.000000\n",
       "max        17.000000      23.000000     4080.000      26.000000      23.000000      80.000000     100.000000    2154.000000      38.000000      11.000000    1000.000000    2218.000000     100.000000     100.000000    5820.000000      39.000000    28448.0000      11.000000        1960.0       4.000000         3.000000     9992.0000        95.000000    2002.000000       1.000000            1.000000"
      ]
     },
     "execution_count": 35,
     "metadata": {},
     "output_type": "execute_result"
    }
   ],
   "source": [
    "df_test.describe()"
   ]
  },
  {
   "cell_type": "markdown",
   "metadata": {
    "id": "6y-aQgV2Y-Sb",
    "tags": []
   },
   "source": [
    "### Data Fields Descriptions\n"
   ]
  },
  {
   "cell_type": "code",
   "execution_count": null,
   "metadata": {
    "colab": {
     "base_uri": "https://localhost:8080/"
    },
    "execution": {
     "iopub.execute_input": "2022-04-26T17:08:55.482862Z",
     "iopub.status.busy": "2022-04-26T17:08:55.482589Z",
     "iopub.status.idle": "2022-04-26T17:08:55.489288Z",
     "shell.execute_reply": "2022-04-26T17:08:55.488236Z",
     "shell.execute_reply.started": "2022-04-26T17:08:55.482842Z"
    },
    "id": "ogKDzUo0BvKC",
    "outputId": "567313fa-4acd-4b8e-90c4-f4e9190f3737",
    "tags": []
   },
   "outputs": [
    {
     "name": "stdout",
     "output_type": "stream",
     "text": [
      "         Data field                                        Description     Type\n",
      "0                Id                                        Player's Id   object\n",
      "1           groupId              ID to identify a group within a match   object\n",
      "2           matchId                               ID to identify match   object\n",
      "3         matchType  String identifing the game mode that the data ...   object\n",
      "4           assists  Number of enemy players this player damaged th...    int64\n",
      "5            boosts                         Number of boost items used    int64\n",
      "6       damageDealt                                 Total damage dealt  float64\n",
      "7             DBNOs                    Number of enemy players knocked    int64\n",
      "8     headshotKills      Number of enemy players killed with headshots    int64\n",
      "9             heals                       Number of healing items used    int64\n",
      "10        killPlace  Ranking in match of number of enemy players ki...    int64\n",
      "11       killPoints             Kills-based external ranking of player    int64\n",
      "12      killStreaks  Max number of enemy players killed in a short ...    int64\n",
      "13            kills                     Number of enemy players killed    int64\n",
      "14      longestKill  Longest distance between player and player kil...  float64\n",
      "15    matchDuration                       Duration of match in seconds    int64\n",
      "16       rankPoints                         Elo-like ranking of player    int64\n",
      "17          revives      Number of times this player revived teammates    int64\n",
      "18     rideDistance  Total distance traveled in vehicles measured i...    int64\n",
      "19        roadKills                 Number of kills while in a vehicle    int64\n",
      "20     swimDistance  Total distance traveled by swimming measured i...  float64\n",
      "21        teamKills      Number of times this player killed a teammate    int64\n",
      "22  vehicleDestroys                       Number of vehicles destroyed    int64\n",
      "23     walkDistance  Total distance traveled on foot measured in me...  float64\n",
      "24  weaponsAcquired                        Number of weapons picked up    int64\n",
      "25        winPoints               Win-based external ranking of player    int64\n",
      "26        numGroups     Number of groups we have data for in the match    int64\n",
      "27         maxPlace      Worst placement we have data for in the match    int64\n",
      "28     winPlacePerc                           The target of prediction  float64\n"
     ]
    }
   ],
   "source": [
    "print(df_types)"
   ]
  },
  {
   "cell_type": "markdown",
   "metadata": {
    "id": "kouu3tj8gDWw"
   },
   "source": [
    "We have total 28 predictors where 24 of them is numerical. Id, groupId, matchId and matchType are objects. The three ids identify the players information of each group in each match the participated. The match type indicates one of the 16 game types."
   ]
  },
  {
   "cell_type": "code",
   "execution_count": null,
   "metadata": {
    "colab": {
     "base_uri": "https://localhost:8080/"
    },
    "execution": {
     "iopub.execute_input": "2022-04-26T17:08:55.491589Z",
     "iopub.status.busy": "2022-04-26T17:08:55.491412Z",
     "iopub.status.idle": "2022-04-26T17:08:55.664121Z",
     "shell.execute_reply": "2022-04-26T17:08:55.663567Z",
     "shell.execute_reply.started": "2022-04-26T17:08:55.491570Z"
    },
    "id": "nH_VpAd3hJdl",
    "outputId": "8b457442-5634-4669-c9bb-dcf81befbfee",
    "tags": []
   },
   "outputs": [
    {
     "name": "stdout",
     "output_type": "stream",
     "text": [
      "['squad-fpp' 'duo' 'solo-fpp' 'squad' 'duo-fpp' 'solo' 'normal-squad-fpp'\n",
      " 'normal-solo-fpp' 'normal-duo-fpp' 'normal-duo' 'normal-squad'\n",
      " 'normal-solo']\n"
     ]
    }
   ],
   "source": [
    "print(df_train[\"matchType\"].unique())"
   ]
  },
  {
   "cell_type": "markdown",
   "metadata": {
    "id": "CaBULiI3bYc2"
   },
   "source": [
    "Players playing solo-match have their own placement, while the players from the same group share the same placement."
   ]
  },
  {
   "cell_type": "markdown",
   "metadata": {
    "id": "CaBULiI3bYc2",
    "tags": []
   },
   "source": [
    "## Looking for best strategy"
   ]
  },
  {
   "cell_type": "markdown",
   "metadata": {
    "id": "WbD2mc82Ob6Q"
   },
   "source": [
    "### Correlation of feature "
   ]
  },
  {
   "cell_type": "markdown",
   "metadata": {
    "id": "01_nynjrbj_j"
   },
   "source": [
    "A correlation matrix is a table showing correlation coefficients between variables. Each cell in the table shows the correlation between two variables."
   ]
  },
  {
   "cell_type": "code",
   "execution_count": null,
   "metadata": {
    "execution": {
     "iopub.execute_input": "2022-04-26T17:08:55.665128Z",
     "iopub.status.busy": "2022-04-26T17:08:55.664951Z",
     "iopub.status.idle": "2022-04-26T17:09:01.899079Z",
     "shell.execute_reply": "2022-04-26T17:09:01.897903Z",
     "shell.execute_reply.started": "2022-04-26T17:08:55.665108Z"
    },
    "id": "hA5KV59MOizE",
    "tags": []
   },
   "outputs": [
    {
     "data": {
      "image/png": "[encoded data removed]",
      "text/plain": [
       "<Figure size 1400x1100 with 2 Axes>"
      ]
     },
     "metadata": {
      "needs_background": "light"
     },
     "output_type": "display_data"
    }
   ],
   "source": [
    "# We do not use columns containing Id and matchType. Only numerical values.\n",
    "cols_to_drop = ['Id', 'groupId', 'matchId', 'matchType']\n",
    "cols_to_fit = [col for col in df.columns if col not in cols_to_drop]\n",
    "corr = df[cols_to_fit].corr()\n",
    "\n",
    "plt.figure(figsize=(14,11))\n",
    "sns.heatmap(\n",
    "    corr,\n",
    "    xticklabels=corr.columns.values,\n",
    "    yticklabels=corr.columns.values,\n",
    "    linecolor='black',\n",
    "    linewidths=0.1,\n",
    "    cmap=\"RdBu\"\n",
    ")\n",
    "plt.show()"
   ]
  },
  {
   "cell_type": "markdown",
   "metadata": {
    "id": "01_nynjrbj_j"
   },
   "source": [
    "As we can see there are some pairs of value that are highly correlated. It is possible that the highly correlated variables such as might be the most important features in predicting winPlacePerc. \n",
    "\n",
    "Pairs with correlation >= 0.45:"
   ]
  },
  {
   "cell_type": "code",
   "execution_count": null,
   "metadata": {
    "execution": {
     "iopub.execute_input": "2022-04-26T17:09:01.900574Z",
     "iopub.status.busy": "2022-04-26T17:09:01.899936Z",
     "iopub.status.idle": "2022-04-26T17:09:01.911280Z",
     "shell.execute_reply": "2022-04-26T17:09:01.910371Z",
     "shell.execute_reply.started": "2022-04-26T17:09:01.900543Z"
    },
    "tags": []
   },
   "outputs": [
    {
     "data": {
      "text/plain": [
       "assists             assists          1.000000\n",
       "maxPlace            numGroups        0.998236\n",
       "winPoints           killPoints       0.983452\n",
       "damageDealt         kills            0.887425\n",
       "winPlacePerc        walkDistance     0.810390\n",
       "kills               killStreaks      0.803082\n",
       "damageDealt         DBNOs            0.737639\n",
       "headshotPercentage  headshotKills    0.737256\n",
       "kills               DBNOs            0.709956\n",
       "killStreaks         damageDealt      0.701581\n",
       "kills               headshotKills    0.671712\n",
       "killStreaks         DBNOs            0.644889\n",
       "boosts              walkDistance     0.637142\n",
       "winPlacePerc        boosts           0.632603\n",
       "headshotKills       damageDealt      0.610699\n",
       "kills               longestKill      0.603579\n",
       "weaponsAcquired     winPlacePerc     0.573229\n",
       "damageDealt         longestKill      0.563338\n",
       "weaponsAcquired     walkDistance     0.537947\n",
       "boosts              heals            0.532803\n",
       "                    damageDealt      0.521317\n",
       "killStreaks         longestKill      0.512229\n",
       "                    headshotKills    0.511868\n",
       "kills               boosts           0.502377\n",
       "DBNOs               headshotKills    0.470472\n",
       "dtype: float64"
      ]
     },
     "execution_count": 39,
     "metadata": {},
     "output_type": "execute_result"
    }
   ],
   "source": [
    "corr_pairs = corr.unstack().sort_values(ascending=False).drop_duplicates()\n",
    "corr_pairs[corr_pairs >= 0.45]"
   ]
  },
  {
   "cell_type": "markdown",
   "metadata": {
    "id": "01_nynjrbj_j"
   },
   "source": [
    "#### Highlt correlated\n",
    "\n",
    "Let's take a closer look at 6 most correlated variables with the target"
   ]
  },
  {
   "cell_type": "code",
   "execution_count": null,
   "metadata": {
    "execution": {
     "iopub.execute_input": "2022-04-26T17:09:01.912486Z",
     "iopub.status.busy": "2022-04-26T17:09:01.912232Z",
     "iopub.status.idle": "2022-04-26T17:09:07.801614Z",
     "shell.execute_reply": "2022-04-26T17:09:07.800654Z",
     "shell.execute_reply.started": "2022-04-26T17:09:01.912462Z"
    },
    "tags": []
   },
   "outputs": [
    {
     "data": {
      "image/png": "[encoded data removed]",
      "text/plain": [
       "<Figure size 1100x1100 with 2 Axes>"
      ]
     },
     "metadata": {
      "needs_background": "light"
     },
     "output_type": "display_data"
    }
   ],
   "source": [
    "f,ax = plt.subplots(figsize=(11, 11))\n",
    "cols = df.corr().nlargest(5, 'winPlacePerc')['winPlacePerc'].index\n",
    "cm = np.corrcoef(df[cols].values.T)\n",
    "sns.set(font_scale=1.25)\n",
    "hm = sns.heatmap(cm, cbar=True, annot=True, square=True, fmt='.2f', annot_kws={'size': 10}, yticklabels=cols.values, xticklabels=cols.values)\n",
    "plt.show()"
   ]
  },
  {
   "cell_type": "markdown",
   "metadata": {},
   "source": [
    "### Impactof kills made on final position"
   ]
  },
  {
   "cell_type": "code",
   "execution_count": null,
   "metadata": {},
   "outputs": [],
   "source": []
  },
  {
   "cell_type": "code",
   "execution_count": null,
   "metadata": {
    "execution": {
     "iopub.execute_input": "2022-04-26T17:09:07.805573Z",
     "iopub.status.busy": "2022-04-26T17:09:07.805149Z",
     "iopub.status.idle": "2022-04-26T17:09:09.144675Z",
     "shell.execute_reply": "2022-04-26T17:09:09.144024Z",
     "shell.execute_reply.started": "2022-04-26T17:09:07.805548Z"
    },
    "tags": []
   },
   "outputs": [
    {
     "data": {
      "image/png": "[encoded data removed]",
      "text/plain": [
       "<Figure size 1600x1000 with 1 Axes>"
      ]
     },
     "metadata": {},
     "output_type": "display_data"
    }
   ],
   "source": [
    "df['killsRange'] = pd.cut(df['kills'], [-1, 0, 2, 4, 6, 8, 10, 15, 100], \n",
    "                                            labels=['0 kills','1-2 kills', '3-4 kills', '5-6 kills',\n",
    "                                                    '7-8 kills', '9-10 kills','10-15 kills', '15+ kills'])\n",
    "plt.figure(figsize=(16,10))\n",
    "sns.boxplot(x='killsRange', y='winPlacePerc', data=df)\n",
    "df.drop(['killsRange'],axis=1,inplace=True)"
   ]
  },
  {
   "cell_type": "markdown",
   "metadata": {},
   "source": [
    "### Boosts and heals importance"
   ]
  },
  {
   "cell_type": "code",
   "execution_count": null,
   "metadata": {
    "execution": {
     "iopub.execute_input": "2022-04-26T17:09:09.145961Z",
     "iopub.status.busy": "2022-04-26T17:09:09.145790Z",
     "iopub.status.idle": "2022-04-26T17:09:29.566123Z",
     "shell.execute_reply": "2022-04-26T17:09:29.565261Z",
     "shell.execute_reply.started": "2022-04-26T17:09:09.145941Z"
    },
    "tags": []
   },
   "outputs": [
    {
     "data": {
      "image/png": "[encoded data removed]",
      "text/plain": [
       "<Figure size 600x600 with 3 Axes>"
      ]
     },
     "metadata": {},
     "output_type": "display_data"
    },
    {
     "data": {
      "image/png": "[encoded data removed]",
      "text/plain": [
       "<Figure size 600x600 with 3 Axes>"
      ]
     },
     "metadata": {},
     "output_type": "display_data"
    }
   ],
   "source": [
    "sns.jointplot(x='winPlacePerc', y='heals', data=df, color='green')\n",
    "sns.jointplot(x='winPlacePerc', y='boosts', data=df, color='blue')\n",
    "plt.show()"
   ]
  },
  {
   "cell_type": "markdown",
   "metadata": {
    "id": "G_NDU8tr3Spq",
    "tags": []
   },
   "source": [
    "## New Features\n"
   ]
  },
  {
   "cell_type": "markdown",
   "metadata": {
    "id": "01_nynjrbj_j"
   },
   "source": [
    "We already created 'headshotPercentage' and 'totalDistance' features during cleaning stage. \n",
    "\n",
    "Now we will consider some other options.\n"
   ]
  },
  {
   "cell_type": "markdown",
   "metadata": {
    "id": "G_NDU8tr3Spq",
    "tags": []
   },
   "source": [
    "### Players in match\n",
    "\n",
    "This features will let as know how many people are in a match. Thanks to that we can normalize some features."
   ]
  },
  {
   "cell_type": "code",
   "execution_count": null,
   "metadata": {
    "execution": {
     "iopub.execute_input": "2022-04-26T17:09:29.567531Z",
     "iopub.status.busy": "2022-04-26T17:09:29.567364Z",
     "iopub.status.idle": "2022-04-26T17:09:32.395573Z",
     "shell.execute_reply": "2022-04-26T17:09:32.394572Z",
     "shell.execute_reply.started": "2022-04-26T17:09:29.567512Z"
    },
    "tags": []
   },
   "outputs": [
    {
     "data": {
      "image/png": "[encoded data removed]",
      "text/plain": [
       "<Figure size 1600x1000 with 1 Axes>"
      ]
     },
     "metadata": {},
     "output_type": "display_data"
    }
   ],
   "source": [
    "df['playersInMatch'] = df.groupby('matchId')['matchId'].transform('count')\n",
    "plt.figure(figsize=(16,10))\n",
    "sns.countplot(x=df[df['playersInMatch']>=70]['playersInMatch'])\n",
    "plt.title('Players in Match')\n",
    "plt.show()"
   ]
  },
  {
   "cell_type": "markdown",
   "metadata": {
    "id": "01_nynjrbj_j"
   },
   "source": [
    "Most of the matches are nearly full.\n"
   ]
  },
  {
   "cell_type": "markdown",
   "metadata": {
    "id": "01_nynjrbj_j"
   },
   "source": [
    "#### Normalization \n",
    "\n",
    "Based on the \"playersInMatch\" feature we can create (or change) a lot of others to normalize their values.\n",
    "Since the number of players in game is not const and when there are 100players in the game it might be easier to find someone\n",
    "we can create the \"killsNorm\", \"damageDealtNorm\""
   ]
  },
  {
   "cell_type": "code",
   "execution_count": null,
   "metadata": {
    "execution": {
     "iopub.execute_input": "2022-04-26T17:09:32.396704Z",
     "iopub.status.busy": "2022-04-26T17:09:32.396509Z",
     "iopub.status.idle": "2022-04-26T17:09:32.705976Z",
     "shell.execute_reply": "2022-04-26T17:09:32.705046Z",
     "shell.execute_reply.started": "2022-04-26T17:09:32.396684Z"
    },
    "tags": []
   },
   "outputs": [
    {
     "data": {
      "text/html": [
       "<div>\n",
       "<style scoped>\n",
       "    .dataframe tbody tr th:only-of-type {\n",
       "        vertical-align: middle;\n",
       "    }\n",
       "\n",
       "    .dataframe tbody tr th {\n",
       "        vertical-align: top;\n",
       "    }\n",
       "\n",
       "    .dataframe thead th {\n",
       "        text-align: right;\n",
       "    }\n",
       "</style>\n",
       "<table border=\"1\" class=\"dataframe\">\n",
       "  <thead>\n",
       "    <tr style=\"text-align: right;\">\n",
       "      <th></th>\n",
       "      <th>playersInMatch</th>\n",
       "      <th>kills</th>\n",
       "      <th>killsNorm</th>\n",
       "      <th>damageDealt</th>\n",
       "      <th>damageDealtNorm</th>\n",
       "      <th>assists</th>\n",
       "      <th>assistsNorm</th>\n",
       "      <th>DBNOs</th>\n",
       "      <th>DBNOsNorm</th>\n",
       "    </tr>\n",
       "  </thead>\n",
       "  <tbody>\n",
       "    <tr>\n",
       "      <th>0</th>\n",
       "      <td>94</td>\n",
       "      <td>0</td>\n",
       "      <td>0.00</td>\n",
       "      <td>0.00000</td>\n",
       "      <td>0.000000</td>\n",
       "      <td>0</td>\n",
       "      <td>0.00</td>\n",
       "      <td>0</td>\n",
       "      <td>0.0</td>\n",
       "    </tr>\n",
       "    <tr>\n",
       "      <th>1</th>\n",
       "      <td>90</td>\n",
       "      <td>0</td>\n",
       "      <td>0.00</td>\n",
       "      <td>91.50000</td>\n",
       "      <td>100.650000</td>\n",
       "      <td>0</td>\n",
       "      <td>0.00</td>\n",
       "      <td>0</td>\n",
       "      <td>0.0</td>\n",
       "    </tr>\n",
       "    <tr>\n",
       "      <th>2</th>\n",
       "      <td>93</td>\n",
       "      <td>0</td>\n",
       "      <td>0.00</td>\n",
       "      <td>68.00000</td>\n",
       "      <td>72.760000</td>\n",
       "      <td>1</td>\n",
       "      <td>1.07</td>\n",
       "      <td>0</td>\n",
       "      <td>0.0</td>\n",
       "    </tr>\n",
       "    <tr>\n",
       "      <th>3</th>\n",
       "      <td>91</td>\n",
       "      <td>0</td>\n",
       "      <td>0.00</td>\n",
       "      <td>32.90625</td>\n",
       "      <td>35.867812</td>\n",
       "      <td>0</td>\n",
       "      <td>0.00</td>\n",
       "      <td>0</td>\n",
       "      <td>0.0</td>\n",
       "    </tr>\n",
       "    <tr>\n",
       "      <th>4</th>\n",
       "      <td>94</td>\n",
       "      <td>1</td>\n",
       "      <td>1.06</td>\n",
       "      <td>100.00000</td>\n",
       "      <td>106.000000</td>\n",
       "      <td>0</td>\n",
       "      <td>0.00</td>\n",
       "      <td>0</td>\n",
       "      <td>0.0</td>\n",
       "    </tr>\n",
       "  </tbody>\n",
       "</table>\n",
       "</div>"
      ],
      "text/plain": [
       "   playersInMatch  kills  killsNorm  damageDealt  damageDealtNorm  assists  assistsNorm  DBNOs  DBNOsNorm\n",
       "0              94      0       0.00      0.00000         0.000000        0         0.00      0        0.0\n",
       "1              90      0       0.00     91.50000       100.650000        0         0.00      0        0.0\n",
       "2              93      0       0.00     68.00000        72.760000        1         1.07      0        0.0\n",
       "3              91      0       0.00     32.90625        35.867812        0         0.00      0        0.0\n",
       "4              94      1       1.06    100.00000       106.000000        0         0.00      0        0.0"
      ]
     },
     "execution_count": 44,
     "metadata": {},
     "output_type": "execute_result"
    }
   ],
   "source": [
    "df['killsNorm'] = df['kills']*((100-df['playersInMatch'])/100 + 1)\n",
    "df['damageDealtNorm'] = df['damageDealt']*((100-df['playersInMatch'])/100 + 1)\n",
    "df['assistsNorm'] = df['assists']*((100-df['playersInMatch'])/100 + 1)\n",
    "df['DBNOsNorm'] = df['DBNOs']*((100-df['playersInMatch'])/100 + 1)\n",
    "\n",
    "df[['playersInMatch', 'kills', 'killsNorm', 'damageDealt', 'damageDealtNorm', 'assists', 'assistsNorm', 'DBNOs', 'DBNOsNorm']].head()"
   ]
  },
  {
   "cell_type": "markdown",
   "metadata": {
    "id": "01_nynjrbj_j",
    "tags": []
   },
   "source": [
    "### Total Distance"
   ]
  },
  {
   "cell_type": "code",
   "execution_count": null,
   "metadata": {
    "execution": {
     "iopub.execute_input": "2022-04-26T17:09:32.707211Z",
     "iopub.status.busy": "2022-04-26T17:09:32.706939Z",
     "iopub.status.idle": "2022-04-26T17:09:33.225571Z",
     "shell.execute_reply": "2022-04-26T17:09:33.224841Z",
     "shell.execute_reply.started": "2022-04-26T17:09:32.707191Z"
    },
    "tags": []
   },
   "outputs": [
    {
     "data": {
      "text/plain": [
       "count    4.337412e+06\n",
       "mean              NaN\n",
       "std               NaN\n",
       "min      1.000166e-04\n",
       "25%      1.755000e+02\n",
       "50%      8.560000e+02\n",
       "75%      2.770000e+03\n",
       "max      3.030400e+04\n",
       "Name: totalDistance, dtype: float64"
      ]
     },
     "execution_count": 45,
     "metadata": {},
     "output_type": "execute_result"
    }
   ],
   "source": [
    "df['totalDistance'] = df['rideDistance'] + df['swimDistance'] + df['walkDistance']\n",
    "df['totalDistance'].describe()"
   ]
  },
  {
   "cell_type": "markdown",
   "metadata": {
    "id": "01_nynjrbj_j"
   },
   "source": [
    "## New Features Evaluation |For 21.04\n",
    " \n",
    "We will create new features and analyze their impact.\n",
    "To do that we will create a simple linear model for each set of features and compare them."
   ]
  },
  {
   "cell_type": "code",
   "execution_count": null,
   "metadata": {
    "execution": {
     "iopub.execute_input": "2022-04-26T17:09:33.227247Z",
     "iopub.status.busy": "2022-04-26T17:09:33.226871Z",
     "iopub.status.idle": "2022-04-26T17:09:33.400098Z",
     "shell.execute_reply": "2022-04-26T17:09:33.399496Z",
     "shell.execute_reply.started": "2022-04-26T17:09:33.227226Z"
    },
    "tags": []
   },
   "outputs": [],
   "source": [
    "from sklearn.linear_model import LinearRegression, Lasso, ElasticNet\n",
    "from sklearn.neural_network import MLPRegressor\n",
    "from sklearn.metrics import mean_absolute_error, mean_squared_error, explained_variance_score\n",
    "from sklearn.model_selection import cross_val_score, GridSearchCV\n",
    "from sklearn.feature_selection import SelectFromModel\n",
    "from sklearn.ensemble import RandomForestRegressor"
   ]
  },
  {
   "cell_type": "markdown",
   "metadata": {
    "tags": []
   },
   "source": [
    "### Linear Regression"
   ]
  },
  {
   "cell_type": "code",
   "execution_count": null,
   "metadata": {
    "execution": {
     "iopub.execute_input": "2022-04-26T17:09:33.401323Z",
     "iopub.status.busy": "2022-04-26T17:09:33.401133Z",
     "iopub.status.idle": "2022-04-26T17:09:33.404980Z",
     "shell.execute_reply": "2022-04-26T17:09:33.404183Z",
     "shell.execute_reply.started": "2022-04-26T17:09:33.401302Z"
    },
    "tags": []
   },
   "outputs": [],
   "source": [
    "results = []\n",
    "def resultsAppend(name,val):\n",
    "    results.append({'name': name, 'error': val} )"
   ]
  },
  {
   "cell_type": "code",
   "execution_count": null,
   "metadata": {
    "execution": {
     "iopub.execute_input": "2022-04-26T17:09:33.406142Z",
     "iopub.status.busy": "2022-04-26T17:09:33.405956Z",
     "iopub.status.idle": "2022-04-26T17:09:33.415322Z",
     "shell.execute_reply": "2022-04-26T17:09:33.414619Z",
     "shell.execute_reply.started": "2022-04-26T17:09:33.406123Z"
    },
    "tags": []
   },
   "outputs": [],
   "source": [
    "colsToDrop = ['Id','groupId','matchId','matchType']\n",
    "colsNorm = ['killsNorm','damageDealtNorm','assistsNorm','DBNOsNorm']\n",
    "colsNoNorm = ['kills', 'damageDealt','assists', 'DBNOs']"
   ]
  },
  {
   "cell_type": "code",
   "execution_count": null,
   "metadata": {
    "execution": {
     "iopub.execute_input": "2022-04-26T17:09:33.416275Z",
     "iopub.status.busy": "2022-04-26T17:09:33.416086Z",
     "iopub.status.idle": "2022-04-26T17:09:33.421324Z",
     "shell.execute_reply": "2022-04-26T17:09:33.420692Z",
     "shell.execute_reply.started": "2022-04-26T17:09:33.416257Z"
    },
    "tags": []
   },
   "outputs": [],
   "source": [
    "def scoreMetrices(true,predicted):\n",
    "      return mean_squared_error(true,predicted)"
   ]
  },
  {
   "cell_type": "code",
   "execution_count": null,
   "metadata": {
    "execution": {
     "iopub.execute_input": "2022-04-26T17:09:33.422340Z",
     "iopub.status.busy": "2022-04-26T17:09:33.422155Z",
     "iopub.status.idle": "2022-04-26T17:09:33.427398Z",
     "shell.execute_reply": "2022-04-26T17:09:33.426769Z",
     "shell.execute_reply.started": "2022-04-26T17:09:33.422322Z"
    },
    "tags": []
   },
   "outputs": [],
   "source": [
    "def tryDataLinear(data):\n",
    "    random.seed(42)\n",
    "    data_train,data_test = split_into_train_test_sets(data)\n",
    "    data_train = data_train.drop(colsToDrop,axis=1)\n",
    "    data_test = data_test.drop(colsToDrop,axis=1)\n",
    "    \n",
    "    model = LinearRegression(n_jobs=-1)\n",
    "    model.fit(data_train.drop(['winPlacePerc'],axis=1),data_train['winPlacePerc'])\n",
    "    pred = model.predict(data_test.drop(['winPlacePerc'],axis=1))\n",
    "    return scoreMetrices(data_test['winPlacePerc'],pred)"
   ]
  },
  {
   "cell_type": "markdown",
   "metadata": {},
   "source": [
    "We are checking already added features."
   ]
  },
  {
   "cell_type": "code",
   "execution_count": null,
   "metadata": {
    "execution": {
     "iopub.execute_input": "2022-04-26T17:09:33.428493Z",
     "iopub.status.busy": "2022-04-26T17:09:33.428179Z",
     "iopub.status.idle": "2022-04-26T17:10:04.727507Z",
     "shell.execute_reply": "2022-04-26T17:10:04.726873Z",
     "shell.execute_reply.started": "2022-04-26T17:09:33.428472Z"
    },
    "tags": []
   },
   "outputs": [],
   "source": [
    "results = []\n",
    "resultsAppend('default', tryDataLinear(df[defaultCols]))\n",
    "resultsAppend('normalized w/', tryDataLinear(df[defaultCols + colsNorm]))\n",
    "resultsAppend('normalized w/o', tryDataLinear(df[defaultCols + colsNorm].drop(colsNoNorm,axis=1)))\n",
    "resultsAppend('total distance', tryDataLinear(df[defaultCols + ['totalDistance']]))\n",
    "resultsAppend('hs percentage', tryDataLinear(df[defaultCols + ['headshotPercentage']]))"
   ]
  },
  {
   "cell_type": "markdown",
   "metadata": {},
   "source": [
    "We are adding new features."
   ]
  },
  {
   "cell_type": "code",
   "execution_count": null,
   "metadata": {
    "execution": {
     "iopub.execute_input": "2022-04-26T17:10:04.730917Z",
     "iopub.status.busy": "2022-04-26T17:10:04.728432Z",
     "iopub.status.idle": "2022-04-26T17:10:10.091263Z",
     "shell.execute_reply": "2022-04-26T17:10:10.090535Z",
     "shell.execute_reply.started": "2022-04-26T17:10:04.730890Z"
    },
    "tags": []
   },
   "outputs": [],
   "source": [
    "df['items'] = df['heals'] + df['boosts']\n",
    "resultsAppend('items', tryDataLinear(df[defaultCols+['items']]))"
   ]
  },
  {
   "cell_type": "code",
   "execution_count": null,
   "metadata": {
    "execution": {
     "iopub.execute_input": "2022-04-26T17:10:10.092360Z",
     "iopub.status.busy": "2022-04-26T17:10:10.092151Z",
     "iopub.status.idle": "2022-04-26T17:10:15.849669Z",
     "shell.execute_reply": "2022-04-26T17:10:15.849053Z",
     "shell.execute_reply.started": "2022-04-26T17:10:10.092340Z"
    },
    "tags": []
   },
   "outputs": [],
   "source": [
    "df['walkDistancePerKill'] = df['walkDistance'] / df['kills']\n",
    "df['walkDistancePerKill'].fillna(0, inplace=True)\n",
    "df['walkDistancePerKill'].replace(np.inf, 0, inplace=True)\n",
    "resultsAppend('walk dist per kill', tryDataLinear(df[defaultCols+['walkDistancePerKill']]))"
   ]
  },
  {
   "cell_type": "code",
   "execution_count": null,
   "metadata": {
    "execution": {
     "iopub.execute_input": "2022-04-26T17:10:15.850860Z",
     "iopub.status.busy": "2022-04-26T17:10:15.850594Z",
     "iopub.status.idle": "2022-04-26T17:10:22.750765Z",
     "shell.execute_reply": "2022-04-26T17:10:22.750163Z",
     "shell.execute_reply.started": "2022-04-26T17:10:15.850837Z"
    },
    "tags": []
   },
   "outputs": [],
   "source": [
    "resultsAppend('all', tryDataLinear(df))"
   ]
  },
  {
   "cell_type": "code",
   "execution_count": null,
   "metadata": {
    "execution": {
     "iopub.execute_input": "2022-04-26T17:10:22.751914Z",
     "iopub.status.busy": "2022-04-26T17:10:22.751686Z",
     "iopub.status.idle": "2022-04-26T17:10:23.159430Z",
     "shell.execute_reply": "2022-04-26T17:10:23.158849Z",
     "shell.execute_reply.started": "2022-04-26T17:10:22.751893Z"
    },
    "tags": []
   },
   "outputs": [
    {
     "data": {
      "text/html": [
       "<div>\n",
       "<style scoped>\n",
       "    .dataframe tbody tr th:only-of-type {\n",
       "        vertical-align: middle;\n",
       "    }\n",
       "\n",
       "    .dataframe tbody tr th {\n",
       "        vertical-align: top;\n",
       "    }\n",
       "\n",
       "    .dataframe thead th {\n",
       "        text-align: right;\n",
       "    }\n",
       "</style>\n",
       "<table border=\"1\" class=\"dataframe\">\n",
       "  <thead>\n",
       "    <tr style=\"text-align: right;\">\n",
       "      <th></th>\n",
       "      <th>name</th>\n",
       "      <th>error</th>\n",
       "    </tr>\n",
       "  </thead>\n",
       "  <tbody>\n",
       "    <tr>\n",
       "      <th>0</th>\n",
       "      <td>default</td>\n",
       "      <td>0.015742</td>\n",
       "    </tr>\n",
       "    <tr>\n",
       "      <th>1</th>\n",
       "      <td>normalized w/</td>\n",
       "      <td>0.015623</td>\n",
       "    </tr>\n",
       "    <tr>\n",
       "      <th>2</th>\n",
       "      <td>normalized w/o</td>\n",
       "      <td>0.015760</td>\n",
       "    </tr>\n",
       "    <tr>\n",
       "      <th>3</th>\n",
       "      <td>total distance</td>\n",
       "      <td>0.015742</td>\n",
       "    </tr>\n",
       "    <tr>\n",
       "      <th>4</th>\n",
       "      <td>hs percentage</td>\n",
       "      <td>0.015472</td>\n",
       "    </tr>\n",
       "    <tr>\n",
       "      <th>5</th>\n",
       "      <td>items</td>\n",
       "      <td>0.015742</td>\n",
       "    </tr>\n",
       "    <tr>\n",
       "      <th>6</th>\n",
       "      <td>walk dist per kill</td>\n",
       "      <td>0.015717</td>\n",
       "    </tr>\n",
       "    <tr>\n",
       "      <th>7</th>\n",
       "      <td>all</td>\n",
       "      <td>0.014732</td>\n",
       "    </tr>\n",
       "  </tbody>\n",
       "</table>\n",
       "</div>"
      ],
      "text/plain": [
       "                 name     error\n",
       "0             default  0.015742\n",
       "1       normalized w/  0.015623\n",
       "2      normalized w/o  0.015760\n",
       "3      total distance  0.015742\n",
       "4       hs percentage  0.015472\n",
       "5               items  0.015742\n",
       "6  walk dist per kill  0.015717\n",
       "7                 all  0.014732"
      ]
     },
     "execution_count": 55,
     "metadata": {},
     "output_type": "execute_result"
    }
   ],
   "source": [
    "gc.collect()\n",
    "pd.DataFrame(results)"
   ]
  },
  {
   "cell_type": "markdown",
   "metadata": {},
   "source": [
    "We can see that all added features separately have little to no effect on MSE value but combined they decrease error value.\n"
   ]
  },
  {
   "cell_type": "markdown",
   "metadata": {},
   "source": [
    "### Random Forrest\n",
    "\n",
    "We are going to create simple Random Forrest Regressor model on all added features and extract their importances."
   ]
  },
  {
   "cell_type": "code",
   "execution_count": null,
   "metadata": {
    "execution": {
     "iopub.execute_input": "2022-04-26T17:10:23.160721Z",
     "iopub.status.busy": "2022-04-26T17:10:23.160543Z",
     "iopub.status.idle": "2022-04-26T17:10:23.167067Z",
     "shell.execute_reply": "2022-04-26T17:10:23.165503Z",
     "shell.execute_reply.started": "2022-04-26T17:10:23.160701Z"
    },
    "tags": []
   },
   "outputs": [],
   "source": [
    "def tryDataRandomFor(data):\n",
    "    random.seed(42)\n",
    "    data_train,data_test = split_into_train_test_sets(data)\n",
    "    data_train = data_train.drop(colsToDrop,axis=1)\n",
    "    data_test = data_test.drop(colsToDrop,axis=1)\n",
    "\n",
    "    model = RandomForestRegressor(max_depth=20, random_state = 123, n_estimators=50,max_features='sqrt',verbose=1,n_jobs=-1)\n",
    "    model.fit(data_train.drop(['winPlacePerc'],axis=1),data_train['winPlacePerc'])\n",
    "    print(\"ready, predicting...\")\n",
    "    pred = model.predict(data_test.drop(['winPlacePerc'],axis=1))\n",
    "    gc.collect()\n",
    "    print(model.feature_importances_)\n",
    "    return scoreMetrices(data_test['winPlacePerc'],pred),model.feature_importances_"
   ]
  },
  {
   "cell_type": "code",
   "execution_count": null,
   "metadata": {
    "execution": {
     "iopub.execute_input": "2022-04-26T17:10:23.168456Z",
     "iopub.status.busy": "2022-04-26T17:10:23.168275Z",
     "iopub.status.idle": "2022-04-26T17:13:31.532824Z",
     "shell.execute_reply": "2022-04-26T17:13:31.532243Z",
     "shell.execute_reply.started": "2022-04-26T17:10:23.168437Z"
    },
    "tags": []
   },
   "outputs": [
    {
     "name": "stderr",
     "output_type": "stream",
     "text": [
      "[Parallel(n_jobs=-1)]: Using backend ThreadingBackend with 3 concurrent workers.\n",
      "[Parallel(n_jobs=-1)]: Done  44 tasks      | elapsed:  2.6min\n",
      "[Parallel(n_jobs=-1)]: Done  50 out of  50 | elapsed:  2.9min finished\n",
      "[Parallel(n_jobs=3)]: Using backend ThreadingBackend with 3 concurrent workers.\n"
     ]
    },
    {
     "name": "stdout",
     "output_type": "stream",
     "text": [
      "ready, predicting...\n"
     ]
    },
    {
     "name": "stderr",
     "output_type": "stream",
     "text": [
      "[Parallel(n_jobs=3)]: Done  44 tasks      | elapsed:    6.2s\n",
      "[Parallel(n_jobs=3)]: Done  50 out of  50 | elapsed:    7.0s finished\n"
     ]
    },
    {
     "name": "stdout",
     "output_type": "stream",
     "text": [
      "[1.96188931e-03 9.49342500e-02 8.05289155e-03 1.63502346e-03\n",
      " 9.24685222e-04 3.06395964e-02 2.07024049e-01 1.17194793e-03\n",
      " 5.31039372e-03 2.56074178e-03 1.81659757e-02 1.54229028e-02\n",
      " 8.48489584e-03 9.35906241e-03 2.18529340e-03 4.49193914e-04\n",
      " 1.48008009e-02 3.14675069e-05 8.81232136e-04 1.81357033e-04\n",
      " 5.72665215e-05 2.22661189e-01 6.45127010e-02 1.47509165e-03\n",
      " 3.80463817e-03 6.97336086e-03 9.41051445e-03 1.15130708e-02\n",
      " 1.87083502e-03 3.32803454e-03 1.58965349e-01 4.45503803e-02\n",
      " 4.66999179e-02]\n"
     ]
    },
    {
     "data": {
      "text/plain": [
       "0.007329174284615545"
      ]
     },
     "execution_count": 57,
     "metadata": {},
     "output_type": "execute_result"
    }
   ],
   "source": [
    "err, importances = tryDataRandomFor(df)\n",
    "err"
   ]
  },
  {
   "cell_type": "code",
   "execution_count": null,
   "metadata": {
    "execution": {
     "iopub.execute_input": "2022-04-26T17:13:31.533992Z",
     "iopub.status.busy": "2022-04-26T17:13:31.533798Z",
     "iopub.status.idle": "2022-04-26T17:13:32.112957Z",
     "shell.execute_reply": "2022-04-26T17:13:32.112121Z",
     "shell.execute_reply.started": "2022-04-26T17:13:31.533971Z"
    },
    "tags": []
   },
   "outputs": [
    {
     "data": {
      "image/png": "[encoded data removed]",
      "text/plain": [
       "<Figure size 1200x1200 with 1 Axes>"
      ]
     },
     "metadata": {},
     "output_type": "display_data"
    },
    {
     "data": {
      "text/html": [
       "<div>\n",
       "<style scoped>\n",
       "    .dataframe tbody tr th:only-of-type {\n",
       "        vertical-align: middle;\n",
       "    }\n",
       "\n",
       "    .dataframe tbody tr th {\n",
       "        vertical-align: top;\n",
       "    }\n",
       "\n",
       "    .dataframe thead th {\n",
       "        text-align: right;\n",
       "    }\n",
       "</style>\n",
       "<table border=\"1\" class=\"dataframe\">\n",
       "  <thead>\n",
       "    <tr style=\"text-align: right;\">\n",
       "      <th></th>\n",
       "      <th>importance</th>\n",
       "    </tr>\n",
       "  </thead>\n",
       "  <tbody>\n",
       "    <tr>\n",
       "      <th>walkDistance</th>\n",
       "      <td>0.222661</td>\n",
       "    </tr>\n",
       "    <tr>\n",
       "      <th>killPlace</th>\n",
       "      <td>0.207024</td>\n",
       "    </tr>\n",
       "    <tr>\n",
       "      <th>totalDistance</th>\n",
       "      <td>0.158965</td>\n",
       "    </tr>\n",
       "    <tr>\n",
       "      <th>boosts</th>\n",
       "      <td>0.094934</td>\n",
       "    </tr>\n",
       "    <tr>\n",
       "      <th>weaponsAcquired</th>\n",
       "      <td>0.064513</td>\n",
       "    </tr>\n",
       "    <tr>\n",
       "      <th>walkDistancePerKill</th>\n",
       "      <td>0.046700</td>\n",
       "    </tr>\n",
       "    <tr>\n",
       "      <th>items</th>\n",
       "      <td>0.044550</td>\n",
       "    </tr>\n",
       "    <tr>\n",
       "      <th>heals</th>\n",
       "      <td>0.030640</td>\n",
       "    </tr>\n",
       "    <tr>\n",
       "      <th>longestKill</th>\n",
       "      <td>0.018166</td>\n",
       "    </tr>\n",
       "    <tr>\n",
       "      <th>matchDuration</th>\n",
       "      <td>0.015423</td>\n",
       "    </tr>\n",
       "    <tr>\n",
       "      <th>rideDistance</th>\n",
       "      <td>0.014801</td>\n",
       "    </tr>\n",
       "    <tr>\n",
       "      <th>damageDealtNorm</th>\n",
       "      <td>0.011513</td>\n",
       "    </tr>\n",
       "    <tr>\n",
       "      <th>killsNorm</th>\n",
       "      <td>0.009411</td>\n",
       "    </tr>\n",
       "    <tr>\n",
       "      <th>numGroups</th>\n",
       "      <td>0.009359</td>\n",
       "    </tr>\n",
       "    <tr>\n",
       "      <th>maxPlace</th>\n",
       "      <td>0.008485</td>\n",
       "    </tr>\n",
       "    <tr>\n",
       "      <th>damageDealt</th>\n",
       "      <td>0.008053</td>\n",
       "    </tr>\n",
       "    <tr>\n",
       "      <th>playersInMatch</th>\n",
       "      <td>0.006973</td>\n",
       "    </tr>\n",
       "    <tr>\n",
       "      <th>kills</th>\n",
       "      <td>0.005310</td>\n",
       "    </tr>\n",
       "    <tr>\n",
       "      <th>headshotPercentage</th>\n",
       "      <td>0.003805</td>\n",
       "    </tr>\n",
       "    <tr>\n",
       "      <th>DBNOsNorm</th>\n",
       "      <td>0.003328</td>\n",
       "    </tr>\n",
       "    <tr>\n",
       "      <th>killStreaks</th>\n",
       "      <td>0.002561</td>\n",
       "    </tr>\n",
       "    <tr>\n",
       "      <th>rankPoints</th>\n",
       "      <td>0.002185</td>\n",
       "    </tr>\n",
       "    <tr>\n",
       "      <th>assists</th>\n",
       "      <td>0.001962</td>\n",
       "    </tr>\n",
       "    <tr>\n",
       "      <th>assistsNorm</th>\n",
       "      <td>0.001871</td>\n",
       "    </tr>\n",
       "    <tr>\n",
       "      <th>DBNOs</th>\n",
       "      <td>0.001635</td>\n",
       "    </tr>\n",
       "    <tr>\n",
       "      <th>winPoints</th>\n",
       "      <td>0.001475</td>\n",
       "    </tr>\n",
       "    <tr>\n",
       "      <th>killPoints</th>\n",
       "      <td>0.001172</td>\n",
       "    </tr>\n",
       "    <tr>\n",
       "      <th>headshotKills</th>\n",
       "      <td>0.000925</td>\n",
       "    </tr>\n",
       "    <tr>\n",
       "      <th>swimDistance</th>\n",
       "      <td>0.000881</td>\n",
       "    </tr>\n",
       "    <tr>\n",
       "      <th>revives</th>\n",
       "      <td>0.000449</td>\n",
       "    </tr>\n",
       "    <tr>\n",
       "      <th>teamKills</th>\n",
       "      <td>0.000181</td>\n",
       "    </tr>\n",
       "    <tr>\n",
       "      <th>vehicleDestroys</th>\n",
       "      <td>0.000057</td>\n",
       "    </tr>\n",
       "    <tr>\n",
       "      <th>roadKills</th>\n",
       "      <td>0.000031</td>\n",
       "    </tr>\n",
       "  </tbody>\n",
       "</table>\n",
       "</div>"
      ],
      "text/plain": [
       "                     importance\n",
       "walkDistance           0.222661\n",
       "killPlace              0.207024\n",
       "totalDistance          0.158965\n",
       "boosts                 0.094934\n",
       "weaponsAcquired        0.064513\n",
       "walkDistancePerKill    0.046700\n",
       "items                  0.044550\n",
       "heals                  0.030640\n",
       "longestKill            0.018166\n",
       "matchDuration          0.015423\n",
       "rideDistance           0.014801\n",
       "damageDealtNorm        0.011513\n",
       "killsNorm              0.009411\n",
       "numGroups              0.009359\n",
       "maxPlace               0.008485\n",
       "damageDealt            0.008053\n",
       "playersInMatch         0.006973\n",
       "kills                  0.005310\n",
       "headshotPercentage     0.003805\n",
       "DBNOsNorm              0.003328\n",
       "killStreaks            0.002561\n",
       "rankPoints             0.002185\n",
       "assists                0.001962\n",
       "assistsNorm            0.001871\n",
       "DBNOs                  0.001635\n",
       "winPoints              0.001475\n",
       "killPoints             0.001172\n",
       "headshotKills          0.000925\n",
       "swimDistance           0.000881\n",
       "revives                0.000449\n",
       "teamKills              0.000181\n",
       "vehicleDestroys        0.000057\n",
       "roadKills              0.000031"
      ]
     },
     "execution_count": 58,
     "metadata": {},
     "output_type": "execute_result"
    }
   ],
   "source": [
    "forest_importances = pd.DataFrame(importances, index = list(df.drop(['winPlacePerc']+colsToDrop,axis=1).columns),columns=[\"importance\"])\n",
    "\n",
    "plt.figure(figsize=(12,12))\n",
    "ax = sns.barplot(y =list(df.drop(['winPlacePerc']+colsToDrop,axis=1).columns), x = importances)\n",
    "plt.title('Feature importances from random forrest regression')\n",
    "plt.show()\n",
    "forest_importances.sort_values(by=['importance'],ascending=False)\n"
   ]
  },
  {
   "cell_type": "markdown",
   "metadata": {
    "execution": {
     "iopub.execute_input": "2022-04-26T17:06:59.424505Z",
     "iopub.status.busy": "2022-04-26T17:06:59.423826Z",
     "iopub.status.idle": "2022-04-26T17:06:59.432281Z",
     "shell.execute_reply": "2022-04-26T17:06:59.430801Z",
     "shell.execute_reply.started": "2022-04-26T17:06:59.424476Z"
    },
    "tags": []
   },
   "source": [
    "We can observe that normalized features have their importance almost twice as big as their unnormalized counterparts."
   ]
  },
  {
   "cell_type": "markdown",
   "metadata": {},
   "source": [
    "### Multi-Layer Perceptron"
   ]
  },
  {
   "cell_type": "markdown",
   "metadata": {},
   "source": [
    "We are adding a MLP model in order to check how well it performs compared to previously created models."
   ]
  },
  {
   "cell_type": "code",
   "execution_count": null,
   "metadata": {
    "execution": {
     "iopub.execute_input": "2022-04-26T17:13:32.114168Z",
     "iopub.status.busy": "2022-04-26T17:13:32.113874Z",
     "iopub.status.idle": "2022-04-26T17:13:32.118425Z",
     "shell.execute_reply": "2022-04-26T17:13:32.118041Z",
     "shell.execute_reply.started": "2022-04-26T17:13:32.114145Z"
    },
    "tags": []
   },
   "outputs": [],
   "source": [
    "def tryDataMLP(data):\n",
    "    random.seed(13)\n",
    "    data_train,data_test = split_into_train_test_sets(data)\n",
    "    data_train = data_train.drop(colsToDrop,axis=1)\n",
    "    data_test = data_test.drop(colsToDrop,axis=1)\n",
    "    \n",
    "    model = MLPRegressor(hidden_layer_sizes=(100,50),verbose=True)\n",
    "\n",
    "    model.fit(data_train.drop(['winPlacePerc'],axis=1),data_train['winPlacePerc'])\n",
    "    pred = model.predict(data_test.drop(['winPlacePerc'],axis=1))\n",
    "    gc.collect()\n",
    "    return scoreMetrices(data_test['winPlacePerc'],pred)"
   ]
  },
  {
   "cell_type": "code",
   "execution_count": null,
   "metadata": {
    "execution": {
     "iopub.execute_input": "2022-04-26T17:13:32.119740Z",
     "iopub.status.busy": "2022-04-26T17:13:32.119407Z",
     "iopub.status.idle": "2022-04-26T17:19:18.781050Z",
     "shell.execute_reply": "2022-04-26T17:19:18.780485Z",
     "shell.execute_reply.started": "2022-04-26T17:13:32.119715Z"
    },
    "tags": []
   },
   "outputs": [
    {
     "name": "stdout",
     "output_type": "stream",
     "text": [
      "Iteration 1, loss = 13.65986295\n",
      "Iteration 2, loss = 0.24759344\n",
      "Iteration 3, loss = 0.02581661\n",
      "Iteration 4, loss = 0.00623266\n",
      "Iteration 5, loss = 0.00427271\n",
      "Iteration 6, loss = 0.00396272\n",
      "Iteration 7, loss = 0.00392776\n",
      "Iteration 8, loss = 0.00385521\n",
      "Iteration 9, loss = 0.00381902\n",
      "Iteration 10, loss = 0.00378070\n",
      "Iteration 11, loss = 0.00375663\n",
      "Iteration 12, loss = 0.00374898\n",
      "Iteration 13, loss = 0.00374274\n",
      "Iteration 14, loss = 0.00373668\n",
      "Iteration 15, loss = 0.00372678\n",
      "Iteration 16, loss = 0.00371403\n",
      "Iteration 17, loss = 0.00370302\n",
      "Training loss did not improve more than tol=0.000100 for 10 consecutive epochs. Stopping.\n"
     ]
    },
    {
     "data": {
      "text/plain": [
       "0.00718533165320143"
      ]
     },
     "execution_count": 60,
     "metadata": {},
     "output_type": "execute_result"
    }
   ],
   "source": [
    "tryDataMLP(df)"
   ]
  },
  {
   "cell_type": "markdown",
   "metadata": {},
   "source": [
    "The MSE value is comparable to Random Forrest Regressor error value. We also checked wider and deeper MLP models but no significant decrease in error value was achived."
   ]
  }
 ],
 "metadata": {
  "colab": {
   "collapsed_sections": [
    "ge0vkXhFsTYB"
   ],
   "name": "PUBG.ipynb",
   "provenance": []
  },
  "kernelspec": {
   "display_name": "Python 3 (ipykernel)",
   "language": "python",
   "name": "python3"
  },
  "language_info": {
   "codemirror_mode": {
    "name": "ipython",
    "version": 3
   },
   "file_extension": ".py",
   "mimetype": "text/x-python",
   "name": "python",
   "nbconvert_exporter": "python",
   "pygments_lexer": "ipython3",
   "version": "3.9.7"
  },
  "toc-autonumbering": true
 },
 "nbformat": 4,
 "nbformat_minor": 4
}

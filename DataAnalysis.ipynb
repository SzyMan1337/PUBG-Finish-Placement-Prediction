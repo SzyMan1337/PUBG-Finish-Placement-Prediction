{
 "cells": [
  {
   "cell_type": "markdown",
   "metadata": {
    "id": "AGNGpt01rlck"
   },
   "source": [
    "# PUBG Finish Placement Prediction"
   ]
  },
  {
   "cell_type": "code",
   "execution_count": 2,
   "metadata": {
    "id": "JEDNBAEJ52V_"
   },
   "outputs": [],
   "source": [
    "# Imports\n",
    "\n",
    "import pandas as pd\n",
    "import numpy as np\n",
    "import matplotlib.pyplot as plt\n",
    "import seaborn as sns\n",
    "\n",
    "import random\n",
    "random.seed(16)\n"
   ]
  },
  {
   "cell_type": "code",
   "execution_count": 3,
   "metadata": {
    "id": "cxuDrKLEA9-8"
   },
   "outputs": [],
   "source": [
    "# Read data to dataframe\n",
    "df = pd.read_csv(\"data/train_V2.csv\")\n",
    "df_types = pd.read_csv(\"data/types.csv\")\n"
   ]
  },
  {
   "cell_type": "code",
   "execution_count": 4,
   "metadata": {
    "id": "9y99H8qXfSYD"
   },
   "outputs": [],
   "source": [
    "# Initial settings\n",
    "pd.set_option('display.max_rows',500)\n",
    "pd.set_option('display.max_columns',500)\n",
    "pd.set_option('display.width',2000)"
   ]
  },
  {
   "cell_type": "code",
   "execution_count": 5,
   "metadata": {
    "id": "PeKADprDeu6n"
   },
   "outputs": [],
   "source": [
    "# Memory saving function credit to https://www.kaggle.com/gemartin/load-data-reduce-memory-usage\n",
    "def reduce_mem_usage(df):\n",
    "    for col in df.columns:\n",
    "        col_type = df[col].dtype\n",
    "\n",
    "        if col_type != object:\n",
    "            c_min = df[col].min()\n",
    "            c_max = df[col].max()\n",
    "            if str(col_type)[:3] == 'int':\n",
    "                if c_min > np.iinfo(np.int8).min and c_max < np.iinfo(np.int8).max:\n",
    "                    df[col] = df[col].astype(np.int8)\n",
    "                elif c_min > np.iinfo(np.int16).min and c_max < np.iinfo(np.int16).max:\n",
    "                    df[col] = df[col].astype(np.int16)\n",
    "                elif c_min > np.iinfo(np.int32).min and c_max < np.iinfo(np.int32).max:\n",
    "                    df[col] = df[col].astype(np.int32)\n",
    "                elif c_min > np.iinfo(np.int64).min and c_max < np.iinfo(np.int64).max:\n",
    "                    df[col] = df[col].astype(np.int64)  \n",
    "            else:\n",
    "                if c_min > np.finfo(np.float16).min and c_max < np.finfo(np.float16).max:\n",
    "                    df[col] = df[col].astype(np.float16)\n",
    "                elif c_min > np.finfo(np.float32).min and c_max < np.finfo(np.float32).max:\n",
    "                    df[col] = df[col].astype(np.float32)\n",
    "                else:\n",
    "                    df[col] = df[col].astype(np.float64)\n",
    "    return df"
   ]
  },
  {
   "cell_type": "code",
   "execution_count": 6,
   "metadata": {
    "id": "8AW3HO5qe0lB"
   },
   "outputs": [],
   "source": [
    "df = reduce_mem_usage(df)\n",
    "df_types = reduce_mem_usage(df_types)"
   ]
  },
  {
   "cell_type": "code",
   "execution_count": 7,
   "metadata": {
    "id": "SjuSvXigK-0z"
   },
   "outputs": [],
   "source": [
    "# Function to split data into two sets\n",
    "# Data is grouped by \"matchId\" which means that games are not mixed up between sets.\n",
    "def split_into_train_test_sets(df, test_set_size=0.2):\n",
    "    match_ids = df['matchId'].unique().tolist()\n",
    "    train_size = int(len(match_ids) * (1 - test_set_size))\n",
    "    train_match_ids = random.sample(match_ids, train_size)\n",
    "\n",
    "    train = df[df['matchId'].isin(train_match_ids)]\n",
    "    test = df[-df['matchId'].isin(train_match_ids)]\n",
    "    \n",
    "    return train, test"
   ]
  },
  {
   "cell_type": "markdown",
   "metadata": {
    "id": "A8a3UZKSh5TT"
   },
   "source": [
    "## Cleaning data"
   ]
  },
  {
   "cell_type": "markdown",
   "metadata": {
    "id": "XCAjuiB9iBmm"
   },
   "source": [
    "In the data set there is one row of data where the variable we are going to predict is missing. We need to drop it."
   ]
  },
  {
   "cell_type": "code",
   "execution_count": 23,
   "metadata": {
    "colab": {
     "base_uri": "https://localhost:8080/",
     "height": 144
    },
    "id": "pyCqScbAiAxQ",
    "outputId": "87bcc547-ebaa-4814-f6d3-a73bef4ca5a8"
   },
   "outputs": [
    {
     "data": {
      "text/html": [
       "<div>\n",
       "<style scoped>\n",
       "    .dataframe tbody tr th:only-of-type {\n",
       "        vertical-align: middle;\n",
       "    }\n",
       "\n",
       "    .dataframe tbody tr th {\n",
       "        vertical-align: top;\n",
       "    }\n",
       "\n",
       "    .dataframe thead th {\n",
       "        text-align: right;\n",
       "    }\n",
       "</style>\n",
       "<table border=\"1\" class=\"dataframe\">\n",
       "  <thead>\n",
       "    <tr style=\"text-align: right;\">\n",
       "      <th></th>\n",
       "      <th>Id</th>\n",
       "      <th>groupId</th>\n",
       "      <th>matchId</th>\n",
       "      <th>assists</th>\n",
       "      <th>boosts</th>\n",
       "      <th>damageDealt</th>\n",
       "      <th>DBNOs</th>\n",
       "      <th>headshotKills</th>\n",
       "      <th>heals</th>\n",
       "      <th>killPlace</th>\n",
       "      <th>killPoints</th>\n",
       "      <th>kills</th>\n",
       "      <th>killStreaks</th>\n",
       "      <th>longestKill</th>\n",
       "      <th>matchDuration</th>\n",
       "      <th>matchType</th>\n",
       "      <th>maxPlace</th>\n",
       "      <th>numGroups</th>\n",
       "      <th>rankPoints</th>\n",
       "      <th>revives</th>\n",
       "      <th>rideDistance</th>\n",
       "      <th>roadKills</th>\n",
       "      <th>swimDistance</th>\n",
       "      <th>teamKills</th>\n",
       "      <th>vehicleDestroys</th>\n",
       "      <th>walkDistance</th>\n",
       "      <th>weaponsAcquired</th>\n",
       "      <th>winPoints</th>\n",
       "      <th>winPlacePerc</th>\n",
       "    </tr>\n",
       "  </thead>\n",
       "  <tbody>\n",
       "  </tbody>\n",
       "</table>\n",
       "</div>"
      ],
      "text/plain": [
       "Empty DataFrame\n",
       "Columns: [Id, groupId, matchId, assists, boosts, damageDealt, DBNOs, headshotKills, heals, killPlace, killPoints, kills, killStreaks, longestKill, matchDuration, matchType, maxPlace, numGroups, rankPoints, revives, rideDistance, roadKills, swimDistance, teamKills, vehicleDestroys, walkDistance, weaponsAcquired, winPoints, winPlacePerc]\n",
       "Index: []"
      ]
     },
     "execution_count": 23,
     "metadata": {},
     "output_type": "execute_result"
    }
   ],
   "source": [
    "df[df.isnull().any(axis=1)]\n"
   ]
  },
  {
   "cell_type": "code",
   "execution_count": 24,
   "metadata": {
    "id": "6cuJ6birjdTS"
   },
   "outputs": [],
   "source": [
    "df = df[pd.notnull(df['winPlacePerc'])]\n",
    "\n"
   ]
  },
  {
   "cell_type": "markdown",
   "metadata": {
    "id": "LddwTOMFjPrK"
   },
   "source": [
    "Row where winPlacePerc is missing is gone."
   ]
  },
  {
   "cell_type": "markdown",
   "metadata": {
    "id": "01_nynjrbj_j"
   },
   "source": [
    "To do \n",
    "- remove custom games\n",
    "- look for some outliers??\n"
   ]
  },
  {
   "cell_type": "markdown",
   "metadata": {
    "id": "RDdvrWkEjgAx"
   },
   "source": [
    "## Train data and test data"
   ]
  },
  {
   "cell_type": "markdown",
   "metadata": {
    "id": "cCb5aoFem6t8"
   },
   "source": [
    "Source of data: https://www.kaggle.com/c/pubg-finish-placement-prediction\n",
    "\n",
    "Our data contains around 4.5 millions rows.\n",
    "\n",
    "We are going to split it into two sets:\n",
    "- train set,\n",
    "- test set"
   ]
  },
  {
   "cell_type": "code",
   "execution_count": 10,
   "metadata": {
    "id": "ZL3sksGiNYFR"
   },
   "outputs": [],
   "source": [
    "df_train, df_test = split_into_train_test_sets(df, 0.2)"
   ]
  },
  {
   "cell_type": "markdown",
   "metadata": {
    "id": "qg8Vdd3xa4eD"
   },
   "source": [
    "### Train data\n"
   ]
  },
  {
   "cell_type": "markdown",
   "metadata": {
    "id": "BtveYGfnffYa"
   },
   "source": [
    "Brief look at the train data"
   ]
  },
  {
   "cell_type": "code",
   "execution_count": 11,
   "metadata": {
    "colab": {
     "base_uri": "https://localhost:8080/",
     "height": 300
    },
    "id": "UA7DabBea9oy",
    "outputId": "45cbe3dd-27f5-47bf-adce-c44f756e5a96"
   },
   "outputs": [
    {
     "data": {
      "text/html": [
       "<div>\n",
       "<style scoped>\n",
       "    .dataframe tbody tr th:only-of-type {\n",
       "        vertical-align: middle;\n",
       "    }\n",
       "\n",
       "    .dataframe tbody tr th {\n",
       "        vertical-align: top;\n",
       "    }\n",
       "\n",
       "    .dataframe thead th {\n",
       "        text-align: right;\n",
       "    }\n",
       "</style>\n",
       "<table border=\"1\" class=\"dataframe\">\n",
       "  <thead>\n",
       "    <tr style=\"text-align: right;\">\n",
       "      <th></th>\n",
       "      <th>Id</th>\n",
       "      <th>groupId</th>\n",
       "      <th>matchId</th>\n",
       "      <th>assists</th>\n",
       "      <th>boosts</th>\n",
       "      <th>damageDealt</th>\n",
       "      <th>DBNOs</th>\n",
       "      <th>headshotKills</th>\n",
       "      <th>heals</th>\n",
       "      <th>killPlace</th>\n",
       "      <th>killPoints</th>\n",
       "      <th>kills</th>\n",
       "      <th>killStreaks</th>\n",
       "      <th>longestKill</th>\n",
       "      <th>matchDuration</th>\n",
       "      <th>matchType</th>\n",
       "      <th>maxPlace</th>\n",
       "      <th>numGroups</th>\n",
       "      <th>rankPoints</th>\n",
       "      <th>revives</th>\n",
       "      <th>rideDistance</th>\n",
       "      <th>roadKills</th>\n",
       "      <th>swimDistance</th>\n",
       "      <th>teamKills</th>\n",
       "      <th>vehicleDestroys</th>\n",
       "      <th>walkDistance</th>\n",
       "      <th>weaponsAcquired</th>\n",
       "      <th>winPoints</th>\n",
       "      <th>winPlacePerc</th>\n",
       "    </tr>\n",
       "  </thead>\n",
       "  <tbody>\n",
       "    <tr>\n",
       "      <th>0</th>\n",
       "      <td>7f96b2f878858a</td>\n",
       "      <td>4d4b580de459be</td>\n",
       "      <td>a10357fd1a4a91</td>\n",
       "      <td>0</td>\n",
       "      <td>0</td>\n",
       "      <td>0.00000</td>\n",
       "      <td>0</td>\n",
       "      <td>0</td>\n",
       "      <td>0</td>\n",
       "      <td>60</td>\n",
       "      <td>1241</td>\n",
       "      <td>0</td>\n",
       "      <td>0</td>\n",
       "      <td>0.00000</td>\n",
       "      <td>1306</td>\n",
       "      <td>squad-fpp</td>\n",
       "      <td>28</td>\n",
       "      <td>26</td>\n",
       "      <td>-1</td>\n",
       "      <td>0</td>\n",
       "      <td>0.000000</td>\n",
       "      <td>0</td>\n",
       "      <td>0.000000</td>\n",
       "      <td>0</td>\n",
       "      <td>0</td>\n",
       "      <td>244.75</td>\n",
       "      <td>1</td>\n",
       "      <td>1466</td>\n",
       "      <td>0.444336</td>\n",
       "    </tr>\n",
       "    <tr>\n",
       "      <th>1</th>\n",
       "      <td>eef90569b9d03c</td>\n",
       "      <td>684d5656442f9e</td>\n",
       "      <td>aeb375fc57110c</td>\n",
       "      <td>0</td>\n",
       "      <td>0</td>\n",
       "      <td>91.50000</td>\n",
       "      <td>0</td>\n",
       "      <td>0</td>\n",
       "      <td>0</td>\n",
       "      <td>57</td>\n",
       "      <td>0</td>\n",
       "      <td>0</td>\n",
       "      <td>0</td>\n",
       "      <td>0.00000</td>\n",
       "      <td>1777</td>\n",
       "      <td>squad-fpp</td>\n",
       "      <td>26</td>\n",
       "      <td>25</td>\n",
       "      <td>1484</td>\n",
       "      <td>0</td>\n",
       "      <td>0.004501</td>\n",
       "      <td>0</td>\n",
       "      <td>11.039062</td>\n",
       "      <td>0</td>\n",
       "      <td>0</td>\n",
       "      <td>1434.00</td>\n",
       "      <td>5</td>\n",
       "      <td>0</td>\n",
       "      <td>0.640137</td>\n",
       "    </tr>\n",
       "    <tr>\n",
       "      <th>2</th>\n",
       "      <td>1eaf90ac73de72</td>\n",
       "      <td>6a4a42c3245a74</td>\n",
       "      <td>110163d8bb94ae</td>\n",
       "      <td>1</td>\n",
       "      <td>0</td>\n",
       "      <td>68.00000</td>\n",
       "      <td>0</td>\n",
       "      <td>0</td>\n",
       "      <td>0</td>\n",
       "      <td>47</td>\n",
       "      <td>0</td>\n",
       "      <td>0</td>\n",
       "      <td>0</td>\n",
       "      <td>0.00000</td>\n",
       "      <td>1318</td>\n",
       "      <td>duo</td>\n",
       "      <td>50</td>\n",
       "      <td>47</td>\n",
       "      <td>1491</td>\n",
       "      <td>0</td>\n",
       "      <td>0.000000</td>\n",
       "      <td>0</td>\n",
       "      <td>0.000000</td>\n",
       "      <td>0</td>\n",
       "      <td>0</td>\n",
       "      <td>161.75</td>\n",
       "      <td>2</td>\n",
       "      <td>0</td>\n",
       "      <td>0.775391</td>\n",
       "    </tr>\n",
       "    <tr>\n",
       "      <th>3</th>\n",
       "      <td>4616d365dd2853</td>\n",
       "      <td>a930a9c79cd721</td>\n",
       "      <td>f1f1f4ef412d7e</td>\n",
       "      <td>0</td>\n",
       "      <td>0</td>\n",
       "      <td>32.90625</td>\n",
       "      <td>0</td>\n",
       "      <td>0</td>\n",
       "      <td>0</td>\n",
       "      <td>75</td>\n",
       "      <td>0</td>\n",
       "      <td>0</td>\n",
       "      <td>0</td>\n",
       "      <td>0.00000</td>\n",
       "      <td>1436</td>\n",
       "      <td>squad-fpp</td>\n",
       "      <td>31</td>\n",
       "      <td>30</td>\n",
       "      <td>1408</td>\n",
       "      <td>0</td>\n",
       "      <td>0.000000</td>\n",
       "      <td>0</td>\n",
       "      <td>0.000000</td>\n",
       "      <td>0</td>\n",
       "      <td>0</td>\n",
       "      <td>202.75</td>\n",
       "      <td>3</td>\n",
       "      <td>0</td>\n",
       "      <td>0.166748</td>\n",
       "    </tr>\n",
       "    <tr>\n",
       "      <th>4</th>\n",
       "      <td>315c96c26c9aac</td>\n",
       "      <td>de04010b3458dd</td>\n",
       "      <td>6dc8ff871e21e6</td>\n",
       "      <td>0</td>\n",
       "      <td>0</td>\n",
       "      <td>100.00000</td>\n",
       "      <td>0</td>\n",
       "      <td>0</td>\n",
       "      <td>0</td>\n",
       "      <td>45</td>\n",
       "      <td>0</td>\n",
       "      <td>1</td>\n",
       "      <td>1</td>\n",
       "      <td>58.53125</td>\n",
       "      <td>1424</td>\n",
       "      <td>solo-fpp</td>\n",
       "      <td>97</td>\n",
       "      <td>95</td>\n",
       "      <td>1560</td>\n",
       "      <td>0</td>\n",
       "      <td>0.000000</td>\n",
       "      <td>0</td>\n",
       "      <td>0.000000</td>\n",
       "      <td>0</td>\n",
       "      <td>0</td>\n",
       "      <td>49.75</td>\n",
       "      <td>2</td>\n",
       "      <td>0</td>\n",
       "      <td>0.187500</td>\n",
       "    </tr>\n",
       "  </tbody>\n",
       "</table>\n",
       "</div>"
      ],
      "text/plain": [
       "               Id         groupId         matchId  assists  boosts  damageDealt  DBNOs  headshotKills  heals  killPlace  killPoints  kills  killStreaks  longestKill  matchDuration  matchType  maxPlace  numGroups  rankPoints  revives  rideDistance  roadKills  swimDistance  teamKills  vehicleDestroys  walkDistance  weaponsAcquired  winPoints  winPlacePerc\n",
       "0  7f96b2f878858a  4d4b580de459be  a10357fd1a4a91        0       0      0.00000      0              0      0         60        1241      0            0      0.00000           1306  squad-fpp        28         26          -1        0      0.000000          0      0.000000          0                0        244.75                1       1466      0.444336\n",
       "1  eef90569b9d03c  684d5656442f9e  aeb375fc57110c        0       0     91.50000      0              0      0         57           0      0            0      0.00000           1777  squad-fpp        26         25        1484        0      0.004501          0     11.039062          0                0       1434.00                5          0      0.640137\n",
       "2  1eaf90ac73de72  6a4a42c3245a74  110163d8bb94ae        1       0     68.00000      0              0      0         47           0      0            0      0.00000           1318        duo        50         47        1491        0      0.000000          0      0.000000          0                0        161.75                2          0      0.775391\n",
       "3  4616d365dd2853  a930a9c79cd721  f1f1f4ef412d7e        0       0     32.90625      0              0      0         75           0      0            0      0.00000           1436  squad-fpp        31         30        1408        0      0.000000          0      0.000000          0                0        202.75                3          0      0.166748\n",
       "4  315c96c26c9aac  de04010b3458dd  6dc8ff871e21e6        0       0    100.00000      0              0      0         45           0      1            1     58.53125           1424   solo-fpp        97         95        1560        0      0.000000          0      0.000000          0                0         49.75                2          0      0.187500"
      ]
     },
     "execution_count": 11,
     "metadata": {},
     "output_type": "execute_result"
    }
   ],
   "source": [
    "df_train.head()"
   ]
  },
  {
   "cell_type": "code",
   "execution_count": 12,
   "metadata": {
    "colab": {
     "base_uri": "https://localhost:8080/",
     "height": 364
    },
    "id": "JyJz4uXcqJvi",
    "outputId": "db83457a-a5f2-4347-ac9d-865cde1422e0"
   },
   "outputs": [
    {
     "data": {
      "text/html": [
       "<div>\n",
       "<style scoped>\n",
       "    .dataframe tbody tr th:only-of-type {\n",
       "        vertical-align: middle;\n",
       "    }\n",
       "\n",
       "    .dataframe tbody tr th {\n",
       "        vertical-align: top;\n",
       "    }\n",
       "\n",
       "    .dataframe thead th {\n",
       "        text-align: right;\n",
       "    }\n",
       "</style>\n",
       "<table border=\"1\" class=\"dataframe\">\n",
       "  <thead>\n",
       "    <tr style=\"text-align: right;\">\n",
       "      <th></th>\n",
       "      <th>assists</th>\n",
       "      <th>boosts</th>\n",
       "      <th>damageDealt</th>\n",
       "      <th>DBNOs</th>\n",
       "      <th>headshotKills</th>\n",
       "      <th>heals</th>\n",
       "      <th>killPlace</th>\n",
       "      <th>killPoints</th>\n",
       "      <th>kills</th>\n",
       "      <th>killStreaks</th>\n",
       "      <th>longestKill</th>\n",
       "      <th>matchDuration</th>\n",
       "      <th>maxPlace</th>\n",
       "      <th>numGroups</th>\n",
       "      <th>rankPoints</th>\n",
       "      <th>revives</th>\n",
       "      <th>rideDistance</th>\n",
       "      <th>roadKills</th>\n",
       "      <th>swimDistance</th>\n",
       "      <th>teamKills</th>\n",
       "      <th>vehicleDestroys</th>\n",
       "      <th>walkDistance</th>\n",
       "      <th>weaponsAcquired</th>\n",
       "      <th>winPoints</th>\n",
       "      <th>winPlacePerc</th>\n",
       "    </tr>\n",
       "  </thead>\n",
       "  <tbody>\n",
       "    <tr>\n",
       "      <th>count</th>\n",
       "      <td>3.558116e+06</td>\n",
       "      <td>3.558116e+06</td>\n",
       "      <td>3.558116e+06</td>\n",
       "      <td>3.558116e+06</td>\n",
       "      <td>3.558116e+06</td>\n",
       "      <td>3.558116e+06</td>\n",
       "      <td>3.558116e+06</td>\n",
       "      <td>3.558116e+06</td>\n",
       "      <td>3.558116e+06</td>\n",
       "      <td>3.558116e+06</td>\n",
       "      <td>3.558116e+06</td>\n",
       "      <td>3.558116e+06</td>\n",
       "      <td>3.558116e+06</td>\n",
       "      <td>3.558116e+06</td>\n",
       "      <td>3.558116e+06</td>\n",
       "      <td>3.558116e+06</td>\n",
       "      <td>3.558116e+06</td>\n",
       "      <td>3.558116e+06</td>\n",
       "      <td>3558116.0</td>\n",
       "      <td>3.558116e+06</td>\n",
       "      <td>3.558116e+06</td>\n",
       "      <td>3558116.000</td>\n",
       "      <td>3.558116e+06</td>\n",
       "      <td>3.558116e+06</td>\n",
       "      <td>3.558116e+06</td>\n",
       "    </tr>\n",
       "    <tr>\n",
       "      <th>mean</th>\n",
       "      <td>2.336056e-01</td>\n",
       "      <td>1.107092e+00</td>\n",
       "      <td>NaN</td>\n",
       "      <td>6.579819e-01</td>\n",
       "      <td>2.267234e-01</td>\n",
       "      <td>1.370554e+00</td>\n",
       "      <td>4.759973e+01</td>\n",
       "      <td>5.024616e+02</td>\n",
       "      <td>9.247785e-01</td>\n",
       "      <td>5.441068e-01</td>\n",
       "      <td>NaN</td>\n",
       "      <td>1.578562e+03</td>\n",
       "      <td>4.452148e+01</td>\n",
       "      <td>4.303113e+01</td>\n",
       "      <td>8.950157e+02</td>\n",
       "      <td>1.645955e-01</td>\n",
       "      <td>NaN</td>\n",
       "      <td>3.542324e-03</td>\n",
       "      <td>NaN</td>\n",
       "      <td>2.379068e-02</td>\n",
       "      <td>7.926386e-03</td>\n",
       "      <td>NaN</td>\n",
       "      <td>3.659158e+00</td>\n",
       "      <td>6.034637e+02</td>\n",
       "      <td>NaN</td>\n",
       "    </tr>\n",
       "    <tr>\n",
       "      <th>std</th>\n",
       "      <td>5.878200e-01</td>\n",
       "      <td>1.716144e+00</td>\n",
       "      <td>NaN</td>\n",
       "      <td>1.146979e+00</td>\n",
       "      <td>6.014604e-01</td>\n",
       "      <td>2.680608e+00</td>\n",
       "      <td>2.746161e+01</td>\n",
       "      <td>6.269021e+02</td>\n",
       "      <td>1.556788e+00</td>\n",
       "      <td>7.108294e-01</td>\n",
       "      <td>NaN</td>\n",
       "      <td>2.585187e+02</td>\n",
       "      <td>2.382931e+01</td>\n",
       "      <td>2.329255e+01</td>\n",
       "      <td>7.360840e+02</td>\n",
       "      <td>4.723772e-01</td>\n",
       "      <td>NaN</td>\n",
       "      <td>7.423721e-02</td>\n",
       "      <td>NaN</td>\n",
       "      <td>1.671244e-01</td>\n",
       "      <td>9.272658e-02</td>\n",
       "      <td>NaN</td>\n",
       "      <td>2.451825e+00</td>\n",
       "      <td>7.391010e+02</td>\n",
       "      <td>0.000000e+00</td>\n",
       "    </tr>\n",
       "    <tr>\n",
       "      <th>min</th>\n",
       "      <td>0.000000e+00</td>\n",
       "      <td>0.000000e+00</td>\n",
       "      <td>0.000000e+00</td>\n",
       "      <td>0.000000e+00</td>\n",
       "      <td>0.000000e+00</td>\n",
       "      <td>0.000000e+00</td>\n",
       "      <td>1.000000e+00</td>\n",
       "      <td>0.000000e+00</td>\n",
       "      <td>0.000000e+00</td>\n",
       "      <td>0.000000e+00</td>\n",
       "      <td>0.000000e+00</td>\n",
       "      <td>1.330000e+02</td>\n",
       "      <td>2.000000e+00</td>\n",
       "      <td>1.000000e+00</td>\n",
       "      <td>-1.000000e+00</td>\n",
       "      <td>0.000000e+00</td>\n",
       "      <td>0.000000e+00</td>\n",
       "      <td>0.000000e+00</td>\n",
       "      <td>0.0</td>\n",
       "      <td>0.000000e+00</td>\n",
       "      <td>0.000000e+00</td>\n",
       "      <td>0.000</td>\n",
       "      <td>0.000000e+00</td>\n",
       "      <td>0.000000e+00</td>\n",
       "      <td>0.000000e+00</td>\n",
       "    </tr>\n",
       "    <tr>\n",
       "      <th>25%</th>\n",
       "      <td>0.000000e+00</td>\n",
       "      <td>0.000000e+00</td>\n",
       "      <td>0.000000e+00</td>\n",
       "      <td>0.000000e+00</td>\n",
       "      <td>0.000000e+00</td>\n",
       "      <td>0.000000e+00</td>\n",
       "      <td>2.400000e+01</td>\n",
       "      <td>0.000000e+00</td>\n",
       "      <td>0.000000e+00</td>\n",
       "      <td>0.000000e+00</td>\n",
       "      <td>0.000000e+00</td>\n",
       "      <td>1.366000e+03</td>\n",
       "      <td>2.800000e+01</td>\n",
       "      <td>2.700000e+01</td>\n",
       "      <td>-1.000000e+00</td>\n",
       "      <td>0.000000e+00</td>\n",
       "      <td>0.000000e+00</td>\n",
       "      <td>0.000000e+00</td>\n",
       "      <td>0.0</td>\n",
       "      <td>0.000000e+00</td>\n",
       "      <td>0.000000e+00</td>\n",
       "      <td>155.125</td>\n",
       "      <td>2.000000e+00</td>\n",
       "      <td>0.000000e+00</td>\n",
       "      <td>1.999512e-01</td>\n",
       "    </tr>\n",
       "    <tr>\n",
       "      <th>50%</th>\n",
       "      <td>0.000000e+00</td>\n",
       "      <td>0.000000e+00</td>\n",
       "      <td>8.431250e+01</td>\n",
       "      <td>0.000000e+00</td>\n",
       "      <td>0.000000e+00</td>\n",
       "      <td>0.000000e+00</td>\n",
       "      <td>4.700000e+01</td>\n",
       "      <td>0.000000e+00</td>\n",
       "      <td>0.000000e+00</td>\n",
       "      <td>0.000000e+00</td>\n",
       "      <td>0.000000e+00</td>\n",
       "      <td>1.438000e+03</td>\n",
       "      <td>3.000000e+01</td>\n",
       "      <td>3.000000e+01</td>\n",
       "      <td>1.444000e+03</td>\n",
       "      <td>0.000000e+00</td>\n",
       "      <td>0.000000e+00</td>\n",
       "      <td>0.000000e+00</td>\n",
       "      <td>0.0</td>\n",
       "      <td>0.000000e+00</td>\n",
       "      <td>0.000000e+00</td>\n",
       "      <td>685.000</td>\n",
       "      <td>3.000000e+00</td>\n",
       "      <td>0.000000e+00</td>\n",
       "      <td>4.582520e-01</td>\n",
       "    </tr>\n",
       "    <tr>\n",
       "      <th>75%</th>\n",
       "      <td>0.000000e+00</td>\n",
       "      <td>2.000000e+00</td>\n",
       "      <td>1.860000e+02</td>\n",
       "      <td>1.000000e+00</td>\n",
       "      <td>0.000000e+00</td>\n",
       "      <td>2.000000e+00</td>\n",
       "      <td>7.100000e+01</td>\n",
       "      <td>1.169000e+03</td>\n",
       "      <td>1.000000e+00</td>\n",
       "      <td>1.000000e+00</td>\n",
       "      <td>2.131250e+01</td>\n",
       "      <td>1.850000e+03</td>\n",
       "      <td>4.900000e+01</td>\n",
       "      <td>4.700000e+01</td>\n",
       "      <td>1.500000e+03</td>\n",
       "      <td>0.000000e+00</td>\n",
       "      <td>7.232666e-02</td>\n",
       "      <td>0.000000e+00</td>\n",
       "      <td>0.0</td>\n",
       "      <td>0.000000e+00</td>\n",
       "      <td>0.000000e+00</td>\n",
       "      <td>1975.000</td>\n",
       "      <td>5.000000e+00</td>\n",
       "      <td>1.495000e+03</td>\n",
       "      <td>7.407227e-01</td>\n",
       "    </tr>\n",
       "    <tr>\n",
       "      <th>max</th>\n",
       "      <td>1.700000e+01</td>\n",
       "      <td>3.300000e+01</td>\n",
       "      <td>6.376000e+03</td>\n",
       "      <td>5.300000e+01</td>\n",
       "      <td>6.400000e+01</td>\n",
       "      <td>7.300000e+01</td>\n",
       "      <td>1.000000e+02</td>\n",
       "      <td>2.156000e+03</td>\n",
       "      <td>7.200000e+01</td>\n",
       "      <td>1.800000e+01</td>\n",
       "      <td>1.094000e+03</td>\n",
       "      <td>2.237000e+03</td>\n",
       "      <td>1.000000e+02</td>\n",
       "      <td>1.000000e+02</td>\n",
       "      <td>5.827000e+03</td>\n",
       "      <td>3.900000e+01</td>\n",
       "      <td>4.070400e+04</td>\n",
       "      <td>1.800000e+01</td>\n",
       "      <td>3824.0</td>\n",
       "      <td>1.200000e+01</td>\n",
       "      <td>5.000000e+00</td>\n",
       "      <td>25776.000</td>\n",
       "      <td>1.770000e+02</td>\n",
       "      <td>2.001000e+03</td>\n",
       "      <td>1.000000e+00</td>\n",
       "    </tr>\n",
       "  </tbody>\n",
       "</table>\n",
       "</div>"
      ],
      "text/plain": [
       "            assists        boosts   damageDealt         DBNOs  headshotKills         heals     killPlace    killPoints         kills   killStreaks   longestKill  matchDuration      maxPlace     numGroups    rankPoints       revives  rideDistance     roadKills  swimDistance     teamKills  vehicleDestroys  walkDistance  weaponsAcquired     winPoints  winPlacePerc\n",
       "count  3.558116e+06  3.558116e+06  3.558116e+06  3.558116e+06   3.558116e+06  3.558116e+06  3.558116e+06  3.558116e+06  3.558116e+06  3.558116e+06  3.558116e+06   3.558116e+06  3.558116e+06  3.558116e+06  3.558116e+06  3.558116e+06  3.558116e+06  3.558116e+06     3558116.0  3.558116e+06     3.558116e+06   3558116.000     3.558116e+06  3.558116e+06  3.558116e+06\n",
       "mean   2.336056e-01  1.107092e+00           NaN  6.579819e-01   2.267234e-01  1.370554e+00  4.759973e+01  5.024616e+02  9.247785e-01  5.441068e-01           NaN   1.578562e+03  4.452148e+01  4.303113e+01  8.950157e+02  1.645955e-01           NaN  3.542324e-03           NaN  2.379068e-02     7.926386e-03           NaN     3.659158e+00  6.034637e+02           NaN\n",
       "std    5.878200e-01  1.716144e+00           NaN  1.146979e+00   6.014604e-01  2.680608e+00  2.746161e+01  6.269021e+02  1.556788e+00  7.108294e-01           NaN   2.585187e+02  2.382931e+01  2.329255e+01  7.360840e+02  4.723772e-01           NaN  7.423721e-02           NaN  1.671244e-01     9.272658e-02           NaN     2.451825e+00  7.391010e+02  0.000000e+00\n",
       "min    0.000000e+00  0.000000e+00  0.000000e+00  0.000000e+00   0.000000e+00  0.000000e+00  1.000000e+00  0.000000e+00  0.000000e+00  0.000000e+00  0.000000e+00   1.330000e+02  2.000000e+00  1.000000e+00 -1.000000e+00  0.000000e+00  0.000000e+00  0.000000e+00           0.0  0.000000e+00     0.000000e+00         0.000     0.000000e+00  0.000000e+00  0.000000e+00\n",
       "25%    0.000000e+00  0.000000e+00  0.000000e+00  0.000000e+00   0.000000e+00  0.000000e+00  2.400000e+01  0.000000e+00  0.000000e+00  0.000000e+00  0.000000e+00   1.366000e+03  2.800000e+01  2.700000e+01 -1.000000e+00  0.000000e+00  0.000000e+00  0.000000e+00           0.0  0.000000e+00     0.000000e+00       155.125     2.000000e+00  0.000000e+00  1.999512e-01\n",
       "50%    0.000000e+00  0.000000e+00  8.431250e+01  0.000000e+00   0.000000e+00  0.000000e+00  4.700000e+01  0.000000e+00  0.000000e+00  0.000000e+00  0.000000e+00   1.438000e+03  3.000000e+01  3.000000e+01  1.444000e+03  0.000000e+00  0.000000e+00  0.000000e+00           0.0  0.000000e+00     0.000000e+00       685.000     3.000000e+00  0.000000e+00  4.582520e-01\n",
       "75%    0.000000e+00  2.000000e+00  1.860000e+02  1.000000e+00   0.000000e+00  2.000000e+00  7.100000e+01  1.169000e+03  1.000000e+00  1.000000e+00  2.131250e+01   1.850000e+03  4.900000e+01  4.700000e+01  1.500000e+03  0.000000e+00  7.232666e-02  0.000000e+00           0.0  0.000000e+00     0.000000e+00      1975.000     5.000000e+00  1.495000e+03  7.407227e-01\n",
       "max    1.700000e+01  3.300000e+01  6.376000e+03  5.300000e+01   6.400000e+01  7.300000e+01  1.000000e+02  2.156000e+03  7.200000e+01  1.800000e+01  1.094000e+03   2.237000e+03  1.000000e+02  1.000000e+02  5.827000e+03  3.900000e+01  4.070400e+04  1.800000e+01        3824.0  1.200000e+01     5.000000e+00     25776.000     1.770000e+02  2.001000e+03  1.000000e+00"
      ]
     },
     "execution_count": 12,
     "metadata": {},
     "output_type": "execute_result"
    }
   ],
   "source": [
    "df_train.describe()"
   ]
  },
  {
   "cell_type": "markdown",
   "metadata": {
    "id": "ge0vkXhFsTYB"
   },
   "source": [
    "### Test data"
   ]
  },
  {
   "cell_type": "code",
   "execution_count": 13,
   "metadata": {
    "colab": {
     "base_uri": "https://localhost:8080/",
     "height": 288
    },
    "id": "Tg1U9viNs3tO",
    "outputId": "1d4cae35-4ba1-4b03-8c04-c5190274c6ec"
   },
   "outputs": [
    {
     "data": {
      "text/html": [
       "<div>\n",
       "<style scoped>\n",
       "    .dataframe tbody tr th:only-of-type {\n",
       "        vertical-align: middle;\n",
       "    }\n",
       "\n",
       "    .dataframe tbody tr th {\n",
       "        vertical-align: top;\n",
       "    }\n",
       "\n",
       "    .dataframe thead th {\n",
       "        text-align: right;\n",
       "    }\n",
       "</style>\n",
       "<table border=\"1\" class=\"dataframe\">\n",
       "  <thead>\n",
       "    <tr style=\"text-align: right;\">\n",
       "      <th></th>\n",
       "      <th>Id</th>\n",
       "      <th>groupId</th>\n",
       "      <th>matchId</th>\n",
       "      <th>assists</th>\n",
       "      <th>boosts</th>\n",
       "      <th>damageDealt</th>\n",
       "      <th>DBNOs</th>\n",
       "      <th>headshotKills</th>\n",
       "      <th>heals</th>\n",
       "      <th>killPlace</th>\n",
       "      <th>killPoints</th>\n",
       "      <th>kills</th>\n",
       "      <th>killStreaks</th>\n",
       "      <th>longestKill</th>\n",
       "      <th>matchDuration</th>\n",
       "      <th>matchType</th>\n",
       "      <th>maxPlace</th>\n",
       "      <th>numGroups</th>\n",
       "      <th>rankPoints</th>\n",
       "      <th>revives</th>\n",
       "      <th>rideDistance</th>\n",
       "      <th>roadKills</th>\n",
       "      <th>swimDistance</th>\n",
       "      <th>teamKills</th>\n",
       "      <th>vehicleDestroys</th>\n",
       "      <th>walkDistance</th>\n",
       "      <th>weaponsAcquired</th>\n",
       "      <th>winPoints</th>\n",
       "      <th>winPlacePerc</th>\n",
       "    </tr>\n",
       "  </thead>\n",
       "  <tbody>\n",
       "    <tr>\n",
       "      <th>7</th>\n",
       "      <td>311b84c6ff4390</td>\n",
       "      <td>eaba5fcb7fc1ae</td>\n",
       "      <td>292611730ca862</td>\n",
       "      <td>0</td>\n",
       "      <td>0</td>\n",
       "      <td>8.539062</td>\n",
       "      <td>0</td>\n",
       "      <td>0</td>\n",
       "      <td>0</td>\n",
       "      <td>48</td>\n",
       "      <td>1000</td>\n",
       "      <td>0</td>\n",
       "      <td>0</td>\n",
       "      <td>0.000000</td>\n",
       "      <td>1967</td>\n",
       "      <td>solo-fpp</td>\n",
       "      <td>96</td>\n",
       "      <td>92</td>\n",
       "      <td>-1</td>\n",
       "      <td>0</td>\n",
       "      <td>2004.0</td>\n",
       "      <td>0</td>\n",
       "      <td>0.00000</td>\n",
       "      <td>0</td>\n",
       "      <td>0</td>\n",
       "      <td>1089.000</td>\n",
       "      <td>6</td>\n",
       "      <td>1500</td>\n",
       "      <td>0.736816</td>\n",
       "    </tr>\n",
       "    <tr>\n",
       "      <th>19</th>\n",
       "      <td>71cbdbc3b263e5</td>\n",
       "      <td>7b61f74b51906c</td>\n",
       "      <td>a329ac99449ad7</td>\n",
       "      <td>0</td>\n",
       "      <td>1</td>\n",
       "      <td>65.250000</td>\n",
       "      <td>0</td>\n",
       "      <td>0</td>\n",
       "      <td>1</td>\n",
       "      <td>48</td>\n",
       "      <td>1349</td>\n",
       "      <td>0</td>\n",
       "      <td>0</td>\n",
       "      <td>0.000000</td>\n",
       "      <td>1322</td>\n",
       "      <td>squad-fpp</td>\n",
       "      <td>30</td>\n",
       "      <td>28</td>\n",
       "      <td>0</td>\n",
       "      <td>0</td>\n",
       "      <td>0.0</td>\n",
       "      <td>0</td>\n",
       "      <td>20.84375</td>\n",
       "      <td>0</td>\n",
       "      <td>0</td>\n",
       "      <td>3310.000</td>\n",
       "      <td>3</td>\n",
       "      <td>1479</td>\n",
       "      <td>0.931152</td>\n",
       "    </tr>\n",
       "    <tr>\n",
       "      <th>28</th>\n",
       "      <td>f9473c4f1cfdc4</td>\n",
       "      <td>8483976f3ba230</td>\n",
       "      <td>6057f846f3ed12</td>\n",
       "      <td>0</td>\n",
       "      <td>6</td>\n",
       "      <td>345.500000</td>\n",
       "      <td>2</td>\n",
       "      <td>1</td>\n",
       "      <td>1</td>\n",
       "      <td>6</td>\n",
       "      <td>0</td>\n",
       "      <td>4</td>\n",
       "      <td>1</td>\n",
       "      <td>105.187500</td>\n",
       "      <td>1339</td>\n",
       "      <td>squad-fpp</td>\n",
       "      <td>28</td>\n",
       "      <td>28</td>\n",
       "      <td>1339</td>\n",
       "      <td>0</td>\n",
       "      <td>0.0</td>\n",
       "      <td>0</td>\n",
       "      <td>0.00000</td>\n",
       "      <td>0</td>\n",
       "      <td>0</td>\n",
       "      <td>3856.000</td>\n",
       "      <td>4</td>\n",
       "      <td>0</td>\n",
       "      <td>0.962891</td>\n",
       "    </tr>\n",
       "    <tr>\n",
       "      <th>34</th>\n",
       "      <td>e2d4735f01b693</td>\n",
       "      <td>b65eae4ed1dbba</td>\n",
       "      <td>022d1ec646ed21</td>\n",
       "      <td>0</td>\n",
       "      <td>1</td>\n",
       "      <td>440.000000</td>\n",
       "      <td>4</td>\n",
       "      <td>0</td>\n",
       "      <td>1</td>\n",
       "      <td>34</td>\n",
       "      <td>0</td>\n",
       "      <td>1</td>\n",
       "      <td>1</td>\n",
       "      <td>11.359375</td>\n",
       "      <td>1905</td>\n",
       "      <td>squad-fpp</td>\n",
       "      <td>28</td>\n",
       "      <td>26</td>\n",
       "      <td>1518</td>\n",
       "      <td>0</td>\n",
       "      <td>0.0</td>\n",
       "      <td>0</td>\n",
       "      <td>0.00000</td>\n",
       "      <td>0</td>\n",
       "      <td>0</td>\n",
       "      <td>353.500</td>\n",
       "      <td>2</td>\n",
       "      <td>0</td>\n",
       "      <td>0.222168</td>\n",
       "    </tr>\n",
       "    <tr>\n",
       "      <th>39</th>\n",
       "      <td>6e55ca8db3570e</td>\n",
       "      <td>1aeaa4d08608e8</td>\n",
       "      <td>7c48a07ae6550e</td>\n",
       "      <td>1</td>\n",
       "      <td>0</td>\n",
       "      <td>177.750000</td>\n",
       "      <td>1</td>\n",
       "      <td>0</td>\n",
       "      <td>0</td>\n",
       "      <td>73</td>\n",
       "      <td>0</td>\n",
       "      <td>0</td>\n",
       "      <td>0</td>\n",
       "      <td>0.000000</td>\n",
       "      <td>1222</td>\n",
       "      <td>squad-fpp</td>\n",
       "      <td>28</td>\n",
       "      <td>27</td>\n",
       "      <td>1448</td>\n",
       "      <td>0</td>\n",
       "      <td>0.0</td>\n",
       "      <td>0</td>\n",
       "      <td>0.00000</td>\n",
       "      <td>0</td>\n",
       "      <td>0</td>\n",
       "      <td>133.375</td>\n",
       "      <td>1</td>\n",
       "      <td>0</td>\n",
       "      <td>0.148071</td>\n",
       "    </tr>\n",
       "  </tbody>\n",
       "</table>\n",
       "</div>"
      ],
      "text/plain": [
       "                Id         groupId         matchId  assists  boosts  damageDealt  DBNOs  headshotKills  heals  killPlace  killPoints  kills  killStreaks  longestKill  matchDuration  matchType  maxPlace  numGroups  rankPoints  revives  rideDistance  roadKills  swimDistance  teamKills  vehicleDestroys  walkDistance  weaponsAcquired  winPoints  winPlacePerc\n",
       "7   311b84c6ff4390  eaba5fcb7fc1ae  292611730ca862        0       0     8.539062      0              0      0         48        1000      0            0     0.000000           1967   solo-fpp        96         92          -1        0        2004.0          0       0.00000          0                0      1089.000                6       1500      0.736816\n",
       "19  71cbdbc3b263e5  7b61f74b51906c  a329ac99449ad7        0       1    65.250000      0              0      1         48        1349      0            0     0.000000           1322  squad-fpp        30         28           0        0           0.0          0      20.84375          0                0      3310.000                3       1479      0.931152\n",
       "28  f9473c4f1cfdc4  8483976f3ba230  6057f846f3ed12        0       6   345.500000      2              1      1          6           0      4            1   105.187500           1339  squad-fpp        28         28        1339        0           0.0          0       0.00000          0                0      3856.000                4          0      0.962891\n",
       "34  e2d4735f01b693  b65eae4ed1dbba  022d1ec646ed21        0       1   440.000000      4              0      1         34           0      1            1    11.359375           1905  squad-fpp        28         26        1518        0           0.0          0       0.00000          0                0       353.500                2          0      0.222168\n",
       "39  6e55ca8db3570e  1aeaa4d08608e8  7c48a07ae6550e        1       0   177.750000      1              0      0         73           0      0            0     0.000000           1222  squad-fpp        28         27        1448        0           0.0          0       0.00000          0                0       133.375                1          0      0.148071"
      ]
     },
     "execution_count": 13,
     "metadata": {},
     "output_type": "execute_result"
    }
   ],
   "source": [
    "df_test.head()\n"
   ]
  },
  {
   "cell_type": "code",
   "execution_count": 14,
   "metadata": {
    "colab": {
     "base_uri": "https://localhost:8080/",
     "height": 393
    },
    "id": "Ynsxq32VzVrS",
    "outputId": "cbfc473a-9f57-47ed-c066-60d56645b6d3"
   },
   "outputs": [
    {
     "data": {
      "text/html": [
       "<div>\n",
       "<style scoped>\n",
       "    .dataframe tbody tr th:only-of-type {\n",
       "        vertical-align: middle;\n",
       "    }\n",
       "\n",
       "    .dataframe tbody tr th {\n",
       "        vertical-align: top;\n",
       "    }\n",
       "\n",
       "    .dataframe thead th {\n",
       "        text-align: right;\n",
       "    }\n",
       "</style>\n",
       "<table border=\"1\" class=\"dataframe\">\n",
       "  <thead>\n",
       "    <tr style=\"text-align: right;\">\n",
       "      <th></th>\n",
       "      <th>assists</th>\n",
       "      <th>boosts</th>\n",
       "      <th>damageDealt</th>\n",
       "      <th>DBNOs</th>\n",
       "      <th>headshotKills</th>\n",
       "      <th>heals</th>\n",
       "      <th>killPlace</th>\n",
       "      <th>killPoints</th>\n",
       "      <th>kills</th>\n",
       "      <th>killStreaks</th>\n",
       "      <th>longestKill</th>\n",
       "      <th>matchDuration</th>\n",
       "      <th>maxPlace</th>\n",
       "      <th>numGroups</th>\n",
       "      <th>rankPoints</th>\n",
       "      <th>revives</th>\n",
       "      <th>rideDistance</th>\n",
       "      <th>roadKills</th>\n",
       "      <th>swimDistance</th>\n",
       "      <th>teamKills</th>\n",
       "      <th>vehicleDestroys</th>\n",
       "      <th>walkDistance</th>\n",
       "      <th>weaponsAcquired</th>\n",
       "      <th>winPoints</th>\n",
       "      <th>winPlacePerc</th>\n",
       "    </tr>\n",
       "  </thead>\n",
       "  <tbody>\n",
       "    <tr>\n",
       "      <th>count</th>\n",
       "      <td>888849.000000</td>\n",
       "      <td>888849.000000</td>\n",
       "      <td>888849.000</td>\n",
       "      <td>888849.00000</td>\n",
       "      <td>888849.000000</td>\n",
       "      <td>888849.000000</td>\n",
       "      <td>888849.000000</td>\n",
       "      <td>888849.000000</td>\n",
       "      <td>888849.000000</td>\n",
       "      <td>888849.000000</td>\n",
       "      <td>888849.0000</td>\n",
       "      <td>888849.000000</td>\n",
       "      <td>888849.000000</td>\n",
       "      <td>888849.000000</td>\n",
       "      <td>888849.000000</td>\n",
       "      <td>888849.000000</td>\n",
       "      <td>888849.000000</td>\n",
       "      <td>888849.000000</td>\n",
       "      <td>888849.0</td>\n",
       "      <td>888849.000000</td>\n",
       "      <td>888849.000000</td>\n",
       "      <td>888849.00</td>\n",
       "      <td>888849.000000</td>\n",
       "      <td>888849.000000</td>\n",
       "      <td>888849.000000</td>\n",
       "    </tr>\n",
       "    <tr>\n",
       "      <th>mean</th>\n",
       "      <td>0.234653</td>\n",
       "      <td>1.106173</td>\n",
       "      <td>NaN</td>\n",
       "      <td>0.65745</td>\n",
       "      <td>0.227205</td>\n",
       "      <td>1.368520</td>\n",
       "      <td>47.597863</td>\n",
       "      <td>515.192260</td>\n",
       "      <td>0.924804</td>\n",
       "      <td>0.543349</td>\n",
       "      <td>NaN</td>\n",
       "      <td>1583.288834</td>\n",
       "      <td>44.437429</td>\n",
       "      <td>42.913437</td>\n",
       "      <td>879.979536</td>\n",
       "      <td>0.164913</td>\n",
       "      <td>NaN</td>\n",
       "      <td>0.003311</td>\n",
       "      <td>NaN</td>\n",
       "      <td>0.024180</td>\n",
       "      <td>0.007885</td>\n",
       "      <td>NaN</td>\n",
       "      <td>3.665816</td>\n",
       "      <td>618.455550</td>\n",
       "      <td>NaN</td>\n",
       "    </tr>\n",
       "    <tr>\n",
       "      <th>std</th>\n",
       "      <td>0.591578</td>\n",
       "      <td>1.714393</td>\n",
       "      <td>NaN</td>\n",
       "      <td>1.14078</td>\n",
       "      <td>0.604929</td>\n",
       "      <td>2.677476</td>\n",
       "      <td>27.468220</td>\n",
       "      <td>629.809668</td>\n",
       "      <td>1.565061</td>\n",
       "      <td>0.711543</td>\n",
       "      <td>NaN</td>\n",
       "      <td>259.583873</td>\n",
       "      <td>23.823143</td>\n",
       "      <td>23.277012</td>\n",
       "      <td>738.778355</td>\n",
       "      <td>0.471325</td>\n",
       "      <td>NaN</td>\n",
       "      <td>0.069806</td>\n",
       "      <td>NaN</td>\n",
       "      <td>0.168466</td>\n",
       "      <td>0.092150</td>\n",
       "      <td>NaN</td>\n",
       "      <td>2.475334</td>\n",
       "      <td>741.974746</td>\n",
       "      <td>0.000000</td>\n",
       "    </tr>\n",
       "    <tr>\n",
       "      <th>min</th>\n",
       "      <td>0.000000</td>\n",
       "      <td>0.000000</td>\n",
       "      <td>0.000</td>\n",
       "      <td>0.00000</td>\n",
       "      <td>0.000000</td>\n",
       "      <td>0.000000</td>\n",
       "      <td>1.000000</td>\n",
       "      <td>0.000000</td>\n",
       "      <td>0.000000</td>\n",
       "      <td>0.000000</td>\n",
       "      <td>0.0000</td>\n",
       "      <td>352.000000</td>\n",
       "      <td>2.000000</td>\n",
       "      <td>1.000000</td>\n",
       "      <td>-1.000000</td>\n",
       "      <td>0.000000</td>\n",
       "      <td>0.000000</td>\n",
       "      <td>0.000000</td>\n",
       "      <td>0.0</td>\n",
       "      <td>0.000000</td>\n",
       "      <td>0.000000</td>\n",
       "      <td>0.00</td>\n",
       "      <td>0.000000</td>\n",
       "      <td>0.000000</td>\n",
       "      <td>0.000000</td>\n",
       "    </tr>\n",
       "    <tr>\n",
       "      <th>25%</th>\n",
       "      <td>0.000000</td>\n",
       "      <td>0.000000</td>\n",
       "      <td>0.000</td>\n",
       "      <td>0.00000</td>\n",
       "      <td>0.000000</td>\n",
       "      <td>0.000000</td>\n",
       "      <td>24.000000</td>\n",
       "      <td>0.000000</td>\n",
       "      <td>0.000000</td>\n",
       "      <td>0.000000</td>\n",
       "      <td>0.0000</td>\n",
       "      <td>1368.000000</td>\n",
       "      <td>28.000000</td>\n",
       "      <td>27.000000</td>\n",
       "      <td>-1.000000</td>\n",
       "      <td>0.000000</td>\n",
       "      <td>0.000000</td>\n",
       "      <td>0.000000</td>\n",
       "      <td>0.0</td>\n",
       "      <td>0.000000</td>\n",
       "      <td>0.000000</td>\n",
       "      <td>155.25</td>\n",
       "      <td>2.000000</td>\n",
       "      <td>0.000000</td>\n",
       "      <td>0.199951</td>\n",
       "    </tr>\n",
       "    <tr>\n",
       "      <th>50%</th>\n",
       "      <td>0.000000</td>\n",
       "      <td>0.000000</td>\n",
       "      <td>84.000</td>\n",
       "      <td>0.00000</td>\n",
       "      <td>0.000000</td>\n",
       "      <td>0.000000</td>\n",
       "      <td>47.000000</td>\n",
       "      <td>0.000000</td>\n",
       "      <td>0.000000</td>\n",
       "      <td>0.000000</td>\n",
       "      <td>0.0000</td>\n",
       "      <td>1441.000000</td>\n",
       "      <td>30.000000</td>\n",
       "      <td>30.000000</td>\n",
       "      <td>1440.000000</td>\n",
       "      <td>0.000000</td>\n",
       "      <td>0.000000</td>\n",
       "      <td>0.000000</td>\n",
       "      <td>0.0</td>\n",
       "      <td>0.000000</td>\n",
       "      <td>0.000000</td>\n",
       "      <td>688.00</td>\n",
       "      <td>3.000000</td>\n",
       "      <td>0.000000</td>\n",
       "      <td>0.458252</td>\n",
       "    </tr>\n",
       "    <tr>\n",
       "      <th>75%</th>\n",
       "      <td>0.000000</td>\n",
       "      <td>2.000000</td>\n",
       "      <td>186.125</td>\n",
       "      <td>1.00000</td>\n",
       "      <td>0.000000</td>\n",
       "      <td>2.000000</td>\n",
       "      <td>71.000000</td>\n",
       "      <td>1180.000000</td>\n",
       "      <td>1.000000</td>\n",
       "      <td>1.000000</td>\n",
       "      <td>21.3125</td>\n",
       "      <td>1855.000000</td>\n",
       "      <td>49.000000</td>\n",
       "      <td>47.000000</td>\n",
       "      <td>1500.000000</td>\n",
       "      <td>0.000000</td>\n",
       "      <td>5.402344</td>\n",
       "      <td>0.000000</td>\n",
       "      <td>0.0</td>\n",
       "      <td>0.000000</td>\n",
       "      <td>0.000000</td>\n",
       "      <td>1981.00</td>\n",
       "      <td>5.000000</td>\n",
       "      <td>1496.000000</td>\n",
       "      <td>0.740723</td>\n",
       "    </tr>\n",
       "    <tr>\n",
       "      <th>max</th>\n",
       "      <td>22.000000</td>\n",
       "      <td>22.000000</td>\n",
       "      <td>6616.000</td>\n",
       "      <td>33.00000</td>\n",
       "      <td>39.000000</td>\n",
       "      <td>80.000000</td>\n",
       "      <td>101.000000</td>\n",
       "      <td>2170.000000</td>\n",
       "      <td>65.000000</td>\n",
       "      <td>20.000000</td>\n",
       "      <td>1081.0000</td>\n",
       "      <td>2200.000000</td>\n",
       "      <td>100.000000</td>\n",
       "      <td>100.000000</td>\n",
       "      <td>5910.000000</td>\n",
       "      <td>19.000000</td>\n",
       "      <td>31376.000000</td>\n",
       "      <td>11.000000</td>\n",
       "      <td>2382.0</td>\n",
       "      <td>5.000000</td>\n",
       "      <td>4.000000</td>\n",
       "      <td>13528.00</td>\n",
       "      <td>236.000000</td>\n",
       "      <td>2013.000000</td>\n",
       "      <td>1.000000</td>\n",
       "    </tr>\n",
       "  </tbody>\n",
       "</table>\n",
       "</div>"
      ],
      "text/plain": [
       "             assists         boosts  damageDealt         DBNOs  headshotKills          heals      killPlace     killPoints          kills    killStreaks  longestKill  matchDuration       maxPlace      numGroups     rankPoints        revives   rideDistance      roadKills  swimDistance      teamKills  vehicleDestroys  walkDistance  weaponsAcquired      winPoints   winPlacePerc\n",
       "count  888849.000000  888849.000000   888849.000  888849.00000  888849.000000  888849.000000  888849.000000  888849.000000  888849.000000  888849.000000  888849.0000  888849.000000  888849.000000  888849.000000  888849.000000  888849.000000  888849.000000  888849.000000      888849.0  888849.000000    888849.000000     888849.00    888849.000000  888849.000000  888849.000000\n",
       "mean        0.234653       1.106173          NaN       0.65745       0.227205       1.368520      47.597863     515.192260       0.924804       0.543349          NaN    1583.288834      44.437429      42.913437     879.979536       0.164913            NaN       0.003311           NaN       0.024180         0.007885           NaN         3.665816     618.455550            NaN\n",
       "std         0.591578       1.714393          NaN       1.14078       0.604929       2.677476      27.468220     629.809668       1.565061       0.711543          NaN     259.583873      23.823143      23.277012     738.778355       0.471325            NaN       0.069806           NaN       0.168466         0.092150           NaN         2.475334     741.974746       0.000000\n",
       "min         0.000000       0.000000        0.000       0.00000       0.000000       0.000000       1.000000       0.000000       0.000000       0.000000       0.0000     352.000000       2.000000       1.000000      -1.000000       0.000000       0.000000       0.000000           0.0       0.000000         0.000000          0.00         0.000000       0.000000       0.000000\n",
       "25%         0.000000       0.000000        0.000       0.00000       0.000000       0.000000      24.000000       0.000000       0.000000       0.000000       0.0000    1368.000000      28.000000      27.000000      -1.000000       0.000000       0.000000       0.000000           0.0       0.000000         0.000000        155.25         2.000000       0.000000       0.199951\n",
       "50%         0.000000       0.000000       84.000       0.00000       0.000000       0.000000      47.000000       0.000000       0.000000       0.000000       0.0000    1441.000000      30.000000      30.000000    1440.000000       0.000000       0.000000       0.000000           0.0       0.000000         0.000000        688.00         3.000000       0.000000       0.458252\n",
       "75%         0.000000       2.000000      186.125       1.00000       0.000000       2.000000      71.000000    1180.000000       1.000000       1.000000      21.3125    1855.000000      49.000000      47.000000    1500.000000       0.000000       5.402344       0.000000           0.0       0.000000         0.000000       1981.00         5.000000    1496.000000       0.740723\n",
       "max        22.000000      22.000000     6616.000      33.00000      39.000000      80.000000     101.000000    2170.000000      65.000000      20.000000    1081.0000    2200.000000     100.000000     100.000000    5910.000000      19.000000   31376.000000      11.000000        2382.0       5.000000         4.000000      13528.00       236.000000    2013.000000       1.000000"
      ]
     },
     "execution_count": 14,
     "metadata": {},
     "output_type": "execute_result"
    }
   ],
   "source": [
    "df_test.describe()"
   ]
  },
  {
   "cell_type": "markdown",
   "metadata": {
    "id": "6y-aQgV2Y-Sb"
   },
   "source": [
    "### Data Fields Descriptions\n"
   ]
  },
  {
   "cell_type": "code",
   "execution_count": 15,
   "metadata": {
    "colab": {
     "base_uri": "https://localhost:8080/"
    },
    "id": "ogKDzUo0BvKC",
    "outputId": "567313fa-4acd-4b8e-90c4-f4e9190f3737"
   },
   "outputs": [
    {
     "name": "stdout",
     "output_type": "stream",
     "text": [
      "         Data field                                        Description     Type\n",
      "0                Id                                        Player's Id   object\n",
      "1           groupId              ID to identify a group within a match   object\n",
      "2           matchId                               ID to identify match   object\n",
      "3         matchType  String identifing the game mode that the data ...   object\n",
      "4           assists  Number of enemy players this player damaged th...    int64\n",
      "5            boosts                         Number of boost items used    int64\n",
      "6       damageDealt                                 Total damage dealt  float64\n",
      "7             DBNOs                    Number of enemy players knocked    int64\n",
      "8     headshotKills      Number of enemy players killed with headshots    int64\n",
      "9             heals                       Number of healing items used    int64\n",
      "10        killPlace  Ranking in match of number of enemy players ki...    int64\n",
      "11       killPoints             Kills-based external ranking of player    int64\n",
      "12      killStreaks  Max number of enemy players killed in a short ...    int64\n",
      "13            kills                     Number of enemy players killed    int64\n",
      "14      longestKill  Longest distance between player and player kil...  float64\n",
      "15    matchDuration                       Duration of match in seconds    int64\n",
      "16       rankPoints                         Elo-like ranking of player    int64\n",
      "17          revives      Number of times this player revived teammates    int64\n",
      "18     rideDistance  Total distance traveled in vehicles measured i...    int64\n",
      "19        roadKills                 Number of kills while in a vehicle    int64\n",
      "20     swimDistance  Total distance traveled by swimming measured i...  float64\n",
      "21        teamKills      Number of times this player killed a teammate    int64\n",
      "22  vehicleDestroys                       Number of vehicles destroyed    int64\n",
      "23     walkDistance  Total distance traveled on foot measured in me...  float64\n",
      "24  weaponsAcquired                        Number of weapons picked up    int64\n",
      "25        winPoints               Win-based external ranking of player    int64\n",
      "26        numGroups     Number of groups we have data for in the match    int64\n",
      "27         maxPlace      Worst placement we have data for in the match    int64\n",
      "28     winPlacePerc                           The target of prediction  float64\n"
     ]
    }
   ],
   "source": [
    "print(df_types)\n"
   ]
  },
  {
   "cell_type": "markdown",
   "metadata": {
    "id": "kouu3tj8gDWw"
   },
   "source": [
    "We have total 28 predictors where 24 of them is numerical. Id, groupId, matchId and matchType are objects. The three ids identify the players information of each group in each match the participated. The match type indicates one of the 16 game types."
   ]
  },
  {
   "cell_type": "code",
   "execution_count": 16,
   "metadata": {
    "colab": {
     "base_uri": "https://localhost:8080/"
    },
    "id": "nH_VpAd3hJdl",
    "outputId": "8b457442-5634-4669-c9bb-dcf81befbfee"
   },
   "outputs": [
    {
     "name": "stdout",
     "output_type": "stream",
     "text": [
      "['squad-fpp' 'duo' 'solo-fpp' 'squad' 'duo-fpp' 'solo' 'normal-squad-fpp'\n",
      " 'crashfpp' 'flaretpp' 'normal-solo-fpp' 'flarefpp' 'normal-duo-fpp'\n",
      " 'normal-duo' 'crashtpp' 'normal-squad' 'normal-solo']\n"
     ]
    }
   ],
   "source": [
    "print(df_train[\"matchType\"].unique())"
   ]
  },
  {
   "cell_type": "markdown",
   "metadata": {
    "id": "CaBULiI3bYc2"
   },
   "source": [
    "Players playing solo-match have their own placement, while the players from the same group share the same placement."
   ]
  },
  {
   "cell_type": "markdown",
   "metadata": {
    "id": "CaBULiI3bYc2"
   },
   "source": [
    "## Looking for best strategy"
   ]
  },
  {
   "cell_type": "markdown",
   "metadata": {
    "id": "WbD2mc82Ob6Q"
   },
   "source": [
    "### Correlation of feature "
   ]
  },
  {
   "cell_type": "markdown",
   "metadata": {
    "id": "01_nynjrbj_j"
   },
   "source": [
    "A correlation matrix is a table showing correlation coefficients between variables. Each cell in the table shows the correlation between two variables."
   ]
  },
  {
   "cell_type": "code",
   "execution_count": 18,
   "metadata": {
    "id": "hA5KV59MOizE",
    "scrolled": true
   },
   "outputs": [
    {
     "data": {
      "image/png": "[encoded data removed]",
      "text/plain": [
       "<Figure size 1008x792 with 2 Axes>"
      ]
     },
     "metadata": {
      "needs_background": "light"
     },
     "output_type": "display_data"
    }
   ],
   "source": [
    "# We do not use columns containing Id and matchType. Only numerical values.\n",
    "cols_to_drop = ['Id', 'groupId', 'matchId', 'matchType']\n",
    "cols_to_fit = [col for col in df.columns if col not in cols_to_drop]\n",
    "corr = df[cols_to_fit].corr()\n",
    "\n",
    "plt.figure(figsize=(14,11))\n",
    "sns.heatmap(\n",
    "    corr,\n",
    "    xticklabels=corr.columns.values,\n",
    "    yticklabels=corr.columns.values,\n",
    "    linecolor='black',\n",
    "    linewidths=0.1,\n",
    "    cmap=\"RdBu\"\n",
    ")\n",
    "plt.show()"
   ]
  },
  {
   "cell_type": "markdown",
   "metadata": {
    "id": "01_nynjrbj_j"
   },
   "source": [
    "As we can see there are some pairs of value that are highly correlated. It is possible that the highly correlated variables such as might be the most important features in predicting winPlacePerc. \n",
    "\n",
    "Pairs with correlation >= 0.45:"
   ]
  },
  {
   "cell_type": "code",
   "execution_count": 29,
   "metadata": {},
   "outputs": [
    {
     "data": {
      "text/plain": [
       "assists          assists            1.000000\n",
       "maxPlace         numGroups          0.997900\n",
       "killPoints       winPoints          0.983417\n",
       "kills            damageDealt        0.888784\n",
       "walkDistance     winPlacePerc       0.810886\n",
       "kills            killStreaks        0.802500\n",
       "DBNOs            damageDealt        0.735762\n",
       "kills            DBNOs              0.707848\n",
       "killStreaks      damageDealt        0.703599\n",
       "kills            headshotKills      0.674275\n",
       "killStreaks      DBNOs              0.646872\n",
       "boosts           walkDistance       0.640150\n",
       "                 winPlacePerc       0.634232\n",
       "damageDealt      headshotKills      0.613409\n",
       "kills            longestKill        0.602937\n",
       "winPlacePerc     weaponsAcquired    0.583806\n",
       "longestKill      damageDealt        0.563838\n",
       "weaponsAcquired  walkDistance       0.541222\n",
       "heals            boosts             0.535854\n",
       "damageDealt      boosts             0.521947\n",
       "killStreaks      longestKill        0.515097\n",
       "                 headshotKills      0.512882\n",
       "boosts           kills              0.502024\n",
       "headshotKills    DBNOs              0.469923\n",
       "DBNOs            longestKill        0.451422\n",
       "dtype: float64"
      ]
     },
     "execution_count": 29,
     "metadata": {},
     "output_type": "execute_result"
    }
   ],
   "source": [
    "corr_pairs = corr.unstack().sort_values(ascending=False).drop_duplicates()\n",
    "\n",
    "corr_pairs[corr_pairs >= 0.45]"
   ]
  },
  {
   "cell_type": "markdown",
   "metadata": {
    "id": "01_nynjrbj_j"
   },
   "source": [
    "### What is more efficient walking or driving?"
   ]
  },
  {
   "cell_type": "code",
   "execution_count": 18,
   "metadata": {
    "colab": {
     "base_uri": "https://localhost:8080/",
     "height": 460
    },
    "id": "Tx4Pxoydbqm1",
    "outputId": "ee31b908-d721-41c3-b477-73672175ec87"
   },
   "outputs": [
    {
     "data": {
      "text/plain": [
       "<seaborn.axisgrid.JointGrid at 0x1bc2d0f1b50>"
      ]
     },
     "execution_count": 18,
     "metadata": {},
     "output_type": "execute_result"
    },
    {
     "data": {
      "image/png": "[encoded data removed]",
      "text/plain": [
       "<Figure size 432x432 with 3 Axes>"
      ]
     },
     "metadata": {
      "needs_background": "light"
     },
     "output_type": "display_data"
    }
   ],
   "source": [
    "sns.jointplot(x='winPlacePerc', y='walkDistance', data=df, color='blue')\n"
   ]
  },
  {
   "cell_type": "code",
   "execution_count": null,
   "metadata": {
    "colab": {
     "base_uri": "https://localhost:8080/",
     "height": 172
    },
    "id": "nrzuKe6CeEXo",
    "outputId": "ee938ed3-3f63-4479-d324-ad78e916e2ef"
   },
   "outputs": [],
   "source": [
    "sns.jointplot(x='winPlacePerc', y='rideDistance', data=df, color='green')"
   ]
  },
  {
   "cell_type": "markdown",
   "metadata": {
    "id": "G_NDU8tr3Spq"
   },
   "source": [
    "## New Features\n"
   ]
  },
  {
   "cell_type": "markdown",
   "metadata": {
    "id": "01_nynjrbj_j"
   },
   "source": [
    "To do:\n",
    "- try some new features and check them\n"
   ]
  },
  {
   "cell_type": "code",
   "execution_count": null,
   "metadata": {},
   "outputs": [],
   "source": []
  }
 ],
 "metadata": {
  "colab": {
   "collapsed_sections": [
    "ge0vkXhFsTYB"
   ],
   "name": "PUBG.ipynb",
   "provenance": []
  },
  "kernelspec": {
   "display_name": "Python 3 (ipykernel)",
   "language": "python",
   "name": "python3"
  },
  "language_info": {
   "codemirror_mode": {
    "name": "ipython",
    "version": 3
   },
   "file_extension": ".py",
   "mimetype": "text/x-python",
   "name": "python",
   "nbconvert_exporter": "python",
   "pygments_lexer": "ipython3",
   "version": "3.9.7"
  }
 },
 "nbformat": 4,
 "nbformat_minor": 1
}
